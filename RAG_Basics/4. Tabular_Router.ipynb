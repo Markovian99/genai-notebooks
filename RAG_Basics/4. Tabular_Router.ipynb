{
 "cells": [
  {
   "cell_type": "markdown",
   "metadata": {
    "id": "3d50f6b3"
   },
   "source": [
    "# WORK IN PROGRESS\n",
    "# Notebook 4: LLM Pipeline Routing\n",
    "\n",
    "In this notebook we will show how to use routing to different LLM pipelines. We will use the vector databases and approaches from Notebooks 1 + 2. We save key functions from those notebooks in \"genai_utils.py\"\n",
    "\n",
    "We will consider 3 pipelines on Tesla (TSLA) \n",
    "* RAG on 10k report \n",
    "* Static RAG on stock prices data.\n",
    "* Tabular data agent for stock data\n",
    "* Web search retrieval"
   ]
  },
  {
   "cell_type": "markdown",
   "metadata": {
    "id": "a23f9e06"
   },
   "source": [
    "# Import libraries and load the 10k and stock data"
   ]
  },
  {
   "cell_type": "code",
   "execution_count": 1,
   "metadata": {
    "chart_settings": null,
    "custom_metric_settings": null,
    "dataframe_view_options": null,
    "datarobot": {
     "language": "python"
    },
    "disable_run": null,
    "hide_code": null,
    "hide_results": null,
    "id": "64e51b8d4fcea0e1deb7dcf3"
   },
   "outputs": [],
   "source": [
    "import subprocess\n",
    "import tiktoken \n",
    "import pandas as pd\n",
    "import os\n",
    "import csv\n",
    "import json\n",
    "import time\n",
    "import re\n",
    "import transformers\n",
    "import torch\n",
    "import numpy as np\n",
    "from datetime import datetime\n",
    "\n",
    "# To use with the router\n",
    "from sklearn.metrics.pairwise import cosine_similarity\n",
    "\n",
    "#We will use langchain to create a vector store to retrieve stronger negatives\n",
    "from langchain_community.embeddings import HuggingFaceEmbeddings\n",
    "\n",
    "from genai_utils import get_retriever, generate_response, generate_kb_response\n",
    "\n",
    "MODEL = \"gpt-4-1106-preview\"\n",
    "EMBEDDING_MODEL_NAME = \"all-MiniLM-L6-v2\"\n",
    "company_name=\"Tesla\""
   ]
  },
  {
   "cell_type": "markdown",
   "id": "7ac798d2",
   "metadata": {},
   "source": [
    "# Get 10k and stocks retrievers"
   ]
  },
  {
   "cell_type": "code",
   "execution_count": 2,
   "id": "ef2f7c47",
   "metadata": {},
   "outputs": [],
   "source": [
    "embedding_function = HuggingFaceEmbeddings(\n",
    "            model_name=EMBEDDING_MODEL_NAME,\n",
    "            cache_folder=\"./models/sentencetransformers\"\n",
    "        )"
   ]
  },
  {
   "cell_type": "code",
   "execution_count": 3,
   "metadata": {
    "id": "59dfff73"
   },
   "outputs": [],
   "source": [
    "retriever_10k = get_retriever(EMBEDDING_MODEL_NAME, top_k=8, faiss_dir = \"../data/faiss\",)\n",
    "retriever_stock = get_retriever(EMBEDDING_MODEL_NAME,top_k=8, faiss_dir = \"../data/faiss_stock\",)"
   ]
  },
  {
   "cell_type": "markdown",
   "metadata": {
    "id": "5d458c7d"
   },
   "source": [
    "# Build Question Bank and Similarity Functions\n",
    "\n",
    "To get the idea across, I used a simplistic method to route questions / prompt to a given LLM pipeline using ROUGE F1 and Dense Similarity with a templated question bank. A more common approach is to use the LLM for orchestration, but this can incur additional cost."
   ]
  },
  {
   "cell_type": "code",
   "execution_count": 4,
   "metadata": {
    "id": "cbfca7d6"
   },
   "outputs": [],
   "source": [
    "# See config.py for the questions sets (put in there to save space here)\n",
    "from config import QUESTIONS_10K, QUESTIONS_STATIC_STOCK, QUESTIONS_AGENT_STOCK, QUESTIONS_NEWS, QUESTIONS_GENERIC, ROUTE_DICT"
   ]
  },
  {
   "cell_type": "code",
   "execution_count": 5,
   "metadata": {
    "id": "a5a691a4"
   },
   "outputs": [],
   "source": [
    "def get_max_similarity(prompt, question_list, company_name):\n",
    "\n",
    "    if type(question_list[0]) != str:\n",
    "        question_list_embeddings = question_list\n",
    "    else:\n",
    "        question_list = [question.format(company_name=company_name) for question in question_list]\n",
    "        question_list_embeddings = embedding_function.embed_documents(question_list)\n",
    "\n",
    "    if type(prompt) == str:\n",
    "        prompt_embedding = embedding_function.embed_documents([prompt])\n",
    "    elif type(prompt[0]) == list:\n",
    "        prompt_embedding = prompt\n",
    "    else:\n",
    "        prompt_embedding = [prompt]\n",
    "    \n",
    "    similarity = cosine_similarity(prompt_embedding, question_list_embeddings)\n",
    "\n",
    "    max_score = np.max(similarity)\n",
    "    best_question = question_list[np.argmax(similarity)]\n",
    "    return max_score, best_question"
   ]
  },
  {
   "cell_type": "markdown",
   "id": "cd30c27b",
   "metadata": {},
   "source": [
    "Let's ask some question to test out similarity to see how well this would work for routing."
   ]
  },
  {
   "cell_type": "code",
   "execution_count": 6,
   "metadata": {
    "id": "5cce2586",
    "outputId": "bf9e80d8-5631-424a-b947-32141b457c44"
   },
   "outputs": [
    {
     "name": "stdout",
     "output_type": "stream",
     "text": [
      "QUESTIONS_10K: (0.7051594009230184, 'How much revenue did Tesla earn in the last quarter?')\n",
      "QUESTIONS_STATIC_STOCK: (0.9249916934634888, 'What is the stock price for Tesla today?')\n",
      "QUESTIONS_AGENT_STOCK: (0.8929769567742046, 'What was the average stock price for Tesla in the last 90 days?')\n",
      "QUESTIONS_NEWS: (0.6056327131882095, 'What are the recent news headlines for Tesla?')\n",
      "QUESTIONS_GENERIC: (0.5027268188902144, 'For Tesla, what else can you tell me about that?')\n"
     ]
    }
   ],
   "source": [
    "question = f\"For {company_name}, how much was the stock price recently?\"\n",
    "\n",
    "print(\"QUESTIONS_10K: {}\".format(get_max_similarity(question, QUESTIONS_10K, company_name=company_name)))\n",
    "print(\"QUESTIONS_STATIC_STOCK: {}\".format(get_max_similarity(question, QUESTIONS_STATIC_STOCK, company_name=company_name)))\n",
    "print(\"QUESTIONS_AGENT_STOCK: {}\".format(get_max_similarity(question, QUESTIONS_AGENT_STOCK, company_name=company_name)))\n",
    "print(\"QUESTIONS_NEWS: {}\".format(get_max_similarity(question, QUESTIONS_NEWS, company_name=company_name)))\n",
    "print(\"QUESTIONS_GENERIC: {}\".format(get_max_similarity(question, QUESTIONS_GENERIC, company_name=company_name)))"
   ]
  },
  {
   "cell_type": "code",
   "execution_count": 7,
   "id": "8b05c2f6",
   "metadata": {},
   "outputs": [
    {
     "name": "stdout",
     "output_type": "stream",
     "text": [
      "QUESTIONS_10K: (0.675001532403714, 'How much revenue did Tesla earn in the last quarter?')\n",
      "QUESTIONS_STATIC_STOCK: (0.7742964940518129, 'What was the trading volume for Tesla?')\n",
      "QUESTIONS_AGENT_STOCK: (0.9587606468279539, 'What was the volume weighted average price for Tesla in the last 30 days?')\n",
      "QUESTIONS_NEWS: (0.5461695248300035, 'What are the recent news headlines for Tesla?')\n",
      "QUESTIONS_GENERIC: (0.44465238804100415, 'For Tesla, what else do you know?')\n"
     ]
    }
   ],
   "source": [
    "question = f\"What was last weeks volume weighted average price for {company_name}?\"\n",
    "\n",
    "print(\"QUESTIONS_10K: {}\".format(get_max_similarity(question, QUESTIONS_10K, company_name=company_name)))\n",
    "print(\"QUESTIONS_STATIC_STOCK: {}\".format(get_max_similarity(question, QUESTIONS_STATIC_STOCK, company_name=company_name)))\n",
    "print(\"QUESTIONS_AGENT_STOCK: {}\".format(get_max_similarity(question, QUESTIONS_AGENT_STOCK, company_name=company_name)))\n",
    "print(\"QUESTIONS_NEWS: {}\".format(get_max_similarity(question, QUESTIONS_NEWS, company_name=company_name)))\n",
    "print(\"QUESTIONS_GENERIC: {}\".format(get_max_similarity(question, QUESTIONS_GENERIC, company_name=company_name)))"
   ]
  },
  {
   "cell_type": "code",
   "execution_count": 8,
   "id": "0fc5b05c",
   "metadata": {},
   "outputs": [
    {
     "name": "stdout",
     "output_type": "stream",
     "text": [
      "QUESTIONS_10K: (0.6556617315047575, 'What is the gross profit for Tesla?')\n",
      "QUESTIONS_STATIC_STOCK: (0.9412105469237768, 'What was the close price for Tesla?')\n",
      "QUESTIONS_AGENT_STOCK: (0.8654705647460444, 'What was the average open to close price difference for Tesla in the last 30 days?')\n",
      "QUESTIONS_NEWS: (0.5962918214282945, 'What are the recent news headlines for Tesla?')\n",
      "QUESTIONS_GENERIC: (0.5197022002830722, 'For Tesla, what else do you know?')\n"
     ]
    }
   ],
   "source": [
    "question = f\"What was yesterday close price for {company_name}?\"\n",
    "\n",
    "print(\"QUESTIONS_10K: {}\".format(get_max_similarity(question, QUESTIONS_10K, company_name=company_name)))\n",
    "print(\"QUESTIONS_STATIC_STOCK: {}\".format(get_max_similarity(question, QUESTIONS_STATIC_STOCK, company_name=company_name)))\n",
    "print(\"QUESTIONS_AGENT_STOCK: {}\".format(get_max_similarity(question, QUESTIONS_AGENT_STOCK, company_name=company_name)))\n",
    "print(\"QUESTIONS_NEWS: {}\".format(get_max_similarity(question, QUESTIONS_NEWS, company_name=company_name)))\n",
    "print(\"QUESTIONS_GENERIC: {}\".format(get_max_similarity(question, QUESTIONS_GENERIC, company_name=company_name)))"
   ]
  },
  {
   "cell_type": "code",
   "execution_count": 9,
   "id": "f5e677e9",
   "metadata": {},
   "outputs": [
    {
     "name": "stdout",
     "output_type": "stream",
     "text": [
      "QUESTIONS_10K: (0.6049019743212483, 'What products does Tesla offer?')\n",
      "QUESTIONS_STATIC_STOCK: (0.582107838790145, 'What is the latest stock price for Tesla?')\n",
      "QUESTIONS_AGENT_STOCK: (0.529463290275921, 'What was the average trading volume for Tesla in the last 30 days?')\n",
      "QUESTIONS_NEWS: (0.907196678020115, 'Has any news been published about Tesla recently?')\n",
      "QUESTIONS_GENERIC: (0.6159116093878791, 'For Tesla, what else can you tell me about that?')\n"
     ]
    }
   ],
   "source": [
    "question = f\"Have there been any material news released on {company_name} this past week?\"\n",
    "\n",
    "print(\"QUESTIONS_10K: {}\".format(get_max_similarity(question, QUESTIONS_10K, company_name=company_name)))\n",
    "print(\"QUESTIONS_STATIC_STOCK: {}\".format(get_max_similarity(question, QUESTIONS_STATIC_STOCK, company_name=company_name)))\n",
    "print(\"QUESTIONS_AGENT_STOCK: {}\".format(get_max_similarity(question, QUESTIONS_AGENT_STOCK, company_name=company_name)))\n",
    "print(\"QUESTIONS_NEWS: {}\".format(get_max_similarity(question, QUESTIONS_NEWS, company_name=company_name)))\n",
    "print(\"QUESTIONS_GENERIC: {}\".format(get_max_similarity(question, QUESTIONS_GENERIC, company_name=company_name)))"
   ]
  },
  {
   "cell_type": "markdown",
   "id": "fb9d44ca",
   "metadata": {},
   "source": [
    "Ok, so we know the static stock data pipeline can't answer the VWAP question so a threshold not to enter that pipeline maybe should at least .77. Luckily, in this instance the agent won out, but this illustrates why a threshold is needed.\n",
    "\n",
    "We also see that the answerable questions are > .85. So let's use that threshold for now."
   ]
  },
  {
   "cell_type": "code",
   "execution_count": 10,
   "id": "17a94c2a",
   "metadata": {},
   "outputs": [],
   "source": [
    "ROUTE_THRESHOLD = .85"
   ]
  },
  {
   "cell_type": "markdown",
   "metadata": {
    "id": "234712b0"
   },
   "source": [
    "# Route Questions using Similarity Function and if not route use LLM\n",
    "\n",
    "We will define a routing prompt using the question set in case semantic similarity doesn't hit threshold for routing"
   ]
  },
  {
   "cell_type": "code",
   "execution_count": 11,
   "id": "ad61529e",
   "metadata": {},
   "outputs": [
    {
     "name": "stdout",
     "output_type": "stream",
     "text": [
      "\n",
      "You are a helpful assistant determining how to route a question or prompt. Please give the category of the question or prompt by learning from the examples below.\n",
      "\n",
      "Category #1:\n",
      "Describe Tesla's business.\n",
      "Describe what Tesla does.\n",
      "What sector or industry does Tesla operate in?\n",
      "What market does Tesla serve?\n",
      "What products does Tesla offer?\n",
      "What services does the Tesla offer?\n",
      "Who are Tesla's clients or customers?\n",
      "Who are the suppliers for Tesla?\n",
      "What is the revenue for Tesla?\n",
      "What is the net income for Tesla?\n",
      "What is the operating income for Tesla?\n",
      "What's Tesla's EBITDA?\n",
      "What is the gross profit for Tesla?\n",
      "What's Tesla's gross margin like?\n",
      "How much cash does Tesla have?\n",
      "What are the key risk factors Tesla is facing?\n",
      "What did management discuss in the 10K for Tesla\n",
      "How much revenue did Tesla earn in the last quarter?\n",
      "\n",
      "Category #2:\n",
      "What is the current stock price for Tesla?\n",
      "What is the stock price for Tesla?\n",
      "What is the stock price for Tesla today?\n",
      "What is the latest stock price for Tesla?\n",
      "What was the trading volume for Tesla?\n",
      "What was the open price for Tesla?\n",
      "What was the close price for Tesla?\n",
      "What was the high price for Tesla?\n",
      "What was the low price for Tesla?\n",
      "\n",
      "Category #3:\n",
      "What was the average stock price for Tesla in the last 30 days?\n",
      "What was the average stock price for Tesla in the last 90 days?\n",
      "What was the average trading volume for Tesla in the last 30 days?\n",
      "What was the average high low price difference for Tesla in the last 30 days?\n",
      "What was the volume weighted average price for Tesla in the last 30 days?\n",
      "What was the peak stock price for Tesla in the last 30 days?\n",
      "What was the average open to close price difference for Tesla in the last 30 days?\n",
      "What was the standard deviation of trading volume for Tesla over the last 30 days?\n",
      "\n",
      "Category #4:\n",
      "What are the recent news headlines for Tesla?\n",
      "Has any news been published about Tesla recently?\n",
      "What are the latest news articles about Tesla?\n",
      "What recent posts on twitter are about Tesla?\n",
      "\n",
      "Category #5:\n",
      "For Tesla, tell me more about that.\n",
      "For Tesla, what else can you tell me about that?\n",
      "For Tesla, what else do you know?\n",
      "\n",
      "Please give the category of the question or prompt by learning from the examples above.\n",
      "\n"
     ]
    }
   ],
   "source": [
    "from config import ROUTING_PROMPT\n",
    "\n",
    "print(ROUTING_PROMPT.format(company_name=company_name))"
   ]
  },
  {
   "cell_type": "code",
   "execution_count": 12,
   "metadata": {
    "id": "f9ab5900"
   },
   "outputs": [],
   "source": [
    "def get_route(prompt, route_dict):\n",
    "    \"\"\"\"\n",
    "    This function takes a prompt and a dictionary of routes and returns the route with the highest similarity score\n",
    "    \"\"\"\n",
    "    max_score = 0\n",
    "    best_route = None\n",
    "    best_question = None\n",
    "    for route, questions in route_dict.items():\n",
    "        score, question = get_max_similarity(prompt, questions, company_name=\"Tesla\")\n",
    "        if score > max_score:\n",
    "            max_score = score\n",
    "            best_route = route\n",
    "            best_question = question\n",
    "    if max_score > ROUTE_THRESHOLD:\n",
    "        print(f\"Best route: {best_route}\\nWith question: {best_question}\\nWith score: {max_score}\")\n",
    "        return best_route\n",
    "    else:\n",
    "        print(f\"No route selected\\nBest route: {best_route}\\nWith question: {best_question}\\nWith score: {max_score}\")\n",
    "        print(\"Routing to LLM\")\n",
    "        route_response = generate_response(prompt, MODEL, system_prompt=ROUTING_PROMPT.format(company_name=company_name))\n",
    "        #find the route number from the response\n",
    "        route_num = re.findall(r'\\d+', route_response)\n",
    "        if int(route_num[0])>0 and int(route_num[0])<=len(route_dict):\n",
    "            route = list(route_dict.keys())[int(route_num[0])-1]\n",
    "            print(f\"Route selected from LLM: {route}\")\n",
    "            return route     \n",
    "        return None"
   ]
  },
  {
   "cell_type": "code",
   "execution_count": 13,
   "id": "9013b1e6",
   "metadata": {},
   "outputs": [
    {
     "name": "stdout",
     "output_type": "stream",
     "text": [
      "For Tesla: How much was the stock price recently?\n"
     ]
    },
    {
     "name": "stdout",
     "output_type": "stream",
     "text": [
      "Best route: Stock\n",
      "With question: What is the stock price for Tesla today?\n",
      "With score: 0.901985870003409\n"
     ]
    }
   ],
   "source": [
    "prompt = \"How much was the stock price recently?\"\n",
    "\n",
    "#let's process the prompt and get the route\n",
    "if prompt.lower().find(company_name.lower()) == -1:\n",
    "    prompt = f\"For {company_name}: {prompt}\"\n",
    "\n",
    "print(prompt)\n",
    "route = get_route(prompt, ROUTE_DICT)"
   ]
  },
  {
   "cell_type": "markdown",
   "id": "640d8c30",
   "metadata": {},
   "source": [
    "Now let's put this into a function"
   ]
  },
  {
   "cell_type": "code",
   "execution_count": 14,
   "id": "8ee65d2b",
   "metadata": {},
   "outputs": [],
   "source": [
    "def ask_prompt(prompt, company_name):\n",
    "    #let's process the prompt and get the route\n",
    "    if prompt.lower().find(company_name.lower()) == -1:\n",
    "        prompt = f\"For {company_name}: {prompt}\"\n",
    "    route = get_route(prompt, ROUTE_DICT)\n",
    "    if route is not None:\n",
    "        if route == \"10K\":\n",
    "            return generate_kb_response(prompt, MODEL, retriever_10k, system_prompt=\"\",template=None, temperature=0, include_source=False)\n",
    "        elif route == \"Stock\":\n",
    "            return generate_kb_response(prompt, MODEL, retriever_stock, system_prompt=\"\",template=None, temperature=0, include_source=False)\n",
    "        elif route == \"AgentStock\":\n",
    "            return \"Agent not supported yet\"\n",
    "        elif route == \"News\":\n",
    "            return \"News not supported yet\"\n",
    "        elif route == \"Generic\":\n",
    "            return \"Generic not supported yet\"\n",
    "    else:\n",
    "        #default to asking the 10k\n",
    "        return generate_kb_response(prompt, MODEL, retriever_10k, system_prompt=\"\",template=None, temperature=0, include_source=False)"
   ]
  },
  {
   "cell_type": "code",
   "execution_count": 15,
   "id": "ad3f34eb",
   "metadata": {},
   "outputs": [
    {
     "name": "stdout",
     "output_type": "stream",
     "text": [
      "Best route: Stock\n",
      "With question: What was the close price for Tesla?\n",
      "With score: 0.9412105469237768\n"
     ]
    },
    {
     "data": {
      "text/plain": [
       "{'answer': 'Based on the context provided, the most recent date mentioned for Tesla\\'s (TSLA) stock market data is 2023-05-26. The closing price for Tesla on that date was $193.169998. Since this is the latest date provided, and there is no data for a date after 2023-05-26, we can infer that \"yesterday\" in this context refers to 2023-05-26. Therefore, the closing price for Tesla \"yesterday\" would be $193.169998.',\n",
       " 'source_documents': \"Daily stock market data for Tesla (TSLA):\\nDate: 2022-12-19\\nOpen: 154.000000\\nHigh: 155.250000\\nLow: 145.820007\\nClose: 149.869995\\nAdj Close: 149.869995\\nVolume: 139390600\\nSource: {'source': './data/TSLA.csv', 'row': 3141, 'last_accessed_at': datetime.datetime(2022, 12, 19, 0, 0)}\\n\\nDaily stock market data for Tesla (TSLA):\\nDate: 2020-03-17\\nOpen: 29.334000\\nHigh: 31.456667\\nLow: 26.400000\\nClose: 28.680000\\nAdj Close: 28.680000\\nVolume: 359919000\\nSource: {'source': './data/TSLA.csv', 'row': 2445, 'last_accessed_at': datetime.datetime(2020, 3, 17, 0, 0)}\\n\\nDaily stock market data for Tesla (TSLA):\\nDate: 2013-04-05\\nOpen: 2.800000\\nHigh: 2.800000\\nLow: 2.700000\\nClose: 2.758000\\nAdj Close: 2.758000\\nVolume: 23286000\\nSource: {'source': './data/TSLA.csv', 'row': 696, 'last_accessed_at': datetime.datetime(2013, 4, 5, 0, 0)}\\n\\nDaily stock market data for Tesla (TSLA):\\nDate: 2023-05-26\\nOpen: 184.619995\\nHigh: 198.600006\\nLow: 184.529999\\nClose: 193.169998\\nAdj Close: 193.169998\\nVolume: 162061500\\nSource: {'source': './data/TSLA.csv', 'row': 3250, 'last_accessed_at': datetime.datetime(2023, 5, 26, 0, 0)}\\n\\nDaily stock market data for Tesla (TSLA):\\nDate: 2012-03-07\\nOpen: 2.208000\\nHigh: 2.220667\\nLow: 2.194000\\nClose: 2.208000\\nAdj Close: 2.208000\\nVolume: 5473500\\nSource: {'source': './data/TSLA.csv', 'row': 426, 'last_accessed_at': datetime.datetime(2012, 3, 7, 0, 0)}\\n\\nDaily stock market data for Tesla (TSLA):\\nDate: 2012-04-30\\nOpen: 2.218000\\nHigh: 2.224000\\nLow: 2.172000\\nClose: 2.208667\\nAdj Close: 2.208667\\nVolume: 6208500\\nSource: {'source': './data/TSLA.csv', 'row': 463, 'last_accessed_at': datetime.datetime(2012, 4, 30, 0, 0)}\\n\\nDaily stock market data for Tesla (TSLA):\\nDate: 2020-04-27\\nOpen: 49.174000\\nHigh: 53.299332\\nLow: 49.000000\\nClose: 53.250000\\nAdj Close: 53.250000\\nVolume: 310221000\\nSource: {'source': './data/TSLA.csv', 'row': 2473, 'last_accessed_at': datetime.datetime(2020, 4, 27, 0, 0)}\\n\\nDaily stock market data for Tesla (TSLA):\\nDate: 2022-09-16\\nOpen: 299.609985\\nHigh: 303.709991\\nLow: 295.600006\\nClose: 303.350006\\nAdj Close: 303.350006\\nVolume: 87087800\\nSource: {'source': './data/TSLA.csv', 'row': 3076, 'last_accessed_at': datetime.datetime(2022, 9, 16, 0, 0)}\\n\\n\"}"
      ]
     },
     "execution_count": 15,
     "metadata": {},
     "output_type": "execute_result"
    }
   ],
   "source": [
    "response = ask_prompt(\"What was yesterday close price for Tesla?\", \"Tesla\")\n",
    "response"
   ]
  },
  {
   "cell_type": "code",
   "execution_count": 16,
   "id": "8df73b17",
   "metadata": {},
   "outputs": [
    {
     "name": "stdout",
     "output_type": "stream",
     "text": [
      "No route selected\n",
      "Best route: 10K\n",
      "With question: What are the key risk factors Tesla is facing?\n",
      "With score: 0.7448293291281791\n",
      "Routing to LLM\n",
      "Route selected from LLM: 10K\n"
     ]
    },
    {
     "data": {
      "text/plain": [
       "{'answer': \"The key risk factors for Tesla, as outlined in the provided context, include:\\n\\n1. **Public Perception and Commentary:** Tesla's products, business, and management are subject to significant public attention and commentary, including criticism that may be exaggerated or unfounded. Negative perceptions can harm Tesla's business and its ability to raise additional funds.\\n\\n2. **Foreign Currency Risk:** Tesla operates globally and transacts in multiple currencies, which exposes the company to foreign currency risks. They do not typically hedge foreign currency risk, which means that fluctuations in exchange rates can affect their operating results when expressed in U.S. dollars.\\n\\n3. **Market Demand for Electric Vehicles:** Tesla's growth and success depend on consumer demand for electric vehicles. If the market does not develop as expected, or if demand for Tesla's vehicles decreases, it could negatively impact the company's business and financial condition.\\n\\n4. **Competition for Talent:** Tesla operates in a competitive labor market and competes for talented individuals with automotive or technology experience. Negative publicity or other factors may lead employees to leave Tesla or choose other employers.\\n\\n5. **Government and Economic Incentives:** Changes to government and economic incentives that support the development and adoption of electric vehicles can impact Tesla's sales. Incentives may be reduced, eliminated, or not replaced, which could have a negative impact on sales.\\n\\n6. **Consumer Perceptions and Competition:** Perceptions about electric vehicle range, access to charging facilities, competition from other types of vehicles, and volatility in the cost of traditional fuels can influence consumer decisions and affect Tesla's market position.\\n\\n7. **Regulatory Environment:** Government regulations and economic conditions can influence the electric vehicle industry and Tesla's operations.\\n\\n8. **Operational Challenges:** Delays in scaling manufacturing, delivery, and service operations to meet demand, as well as competition and uncertainty regarding the future of electric vehicles, can pose risks to Tesla's business.\\n\\nIn summary, Tesla faces risks related to public perception, foreign currency exchange rates, market demand, talent acquisition, government incentives, consumer perceptions, competition, and operational challenges. Regarding foreign currency risk, Tesla does not typically hedge against it, which means they accept the risk of currency fluctuations impacting their financial results.\",\n",
       " 'source_documents': \"section: ITEM 1A. RISK FACTORS; \\nproducts, business, results of operations, and statements and actions of Tesla and its management are subject to significant amounts of commentary by a range of third parties. Such attention can include criticism, which may be exaggerated or unfounded, such as speculation regarding the sufficiency or stability of our management team. Any such negative perceptions, whether caused by us or not, may harm our business and make it more difficult to raise additional funds if needed.\\nSource: {'context_header': ['section']}\\n\\nsection: ITEM 7A. QUANTITATIVE AND QUALITATIVE DISCLOSURES ABOUT MARKET RISK; \\nForeign Currency Risk\\nWe transact business globally in multiple currencies and hence have foreign currency risks related to our revenue, costs of revenue and operating expenses denominated in currencies other than the U.S. dollar (primarily the Chinese yuan and euro in relation to our current year operations). In general, we are a net receiver of currencies other than the U.S. dollar for our foreign subsidiaries. Accordingly, changes in exchange rates affect our operating results as expressed in U.S. dollars as we do not typically hedge foreign currency risk.\\nSource: {'context_header': ['section']}\\n\\nsection: ITEM 1A. RISK FACTORS; \\nOur future growth and success are dependent upon consumers’ demand for electric vehicles and specifically our vehicles in an automotive industry that is generally competitive, cyclical and volatile. \\nThough we continue to see increased interest and adoption of electric vehicles, if the market for electric vehicles in general and Tesla vehicles in particular does not develop as we expect, develops more slowly than we expect, or if demand for our vehicles decreases in our markets or our vehicles compete with each other, our business, prospects, financial condition and operating results may be harmed.\\nSource: {'context_header': ['section']}\\n\\nsection: ITEM 1A. RISK FACTORS; \\nEmployees may leave Tesla or choose other employers over Tesla due to various factors, such as a very competitive labor market for talented individuals with automotive or technology experience, or any negative publicity related to us. In regions where we have or will have operations, particularly significant engineering and manufacturing centers, there is strong competition for individuals with skillsets needed for our business, including specialized knowledge of electric vehicles, engineering and electrical and building construction expertise. We also compete with both mature and prosperous companies that have far greater financial resources than we do and start-ups and emerging companies that promise short-term growth opportunities.\\nSource: {'context_header': ['section']}\\n\\nsection: ITEM 1A. RISK FACTORS; \\nWe are exposed to fluctuations in currency exchange rates.\\nSource: {'context_header': ['section']}\\n\\nsection: ITEM 1A. RISK FACTORS; \\nGovernment and economic incentives that support the development and adoption of electric vehicles in the U.S. and abroad, including certain tax exemptions, tax credits and rebates, may be reduced, eliminated, amended or exhausted from time to time. For example, previously available incentives favoring electric vehicles in certain areas have expired or were cancelled or temporarily unavailable, and in some cases were not eventually replaced or reinstituted, which may have negatively impacted sales. In addition, certain government and economic incentives may also be implemented or amended to provide benefits to manufacturers who assemble domestically, have local suppliers or have other characteristics that may not apply to Tesla. Such\\nSource: {'context_header': ['section']}\\n\\nsection: ITEM 1A. RISK FACTORS; \\n•perceptions about the limited range over which electric vehicles may be driven on a single battery charge, and access to charging facilities; \\n•competition, including from other types of alternative fuel vehicles, plug-in hybrid electric vehicles and high fuel-economy internal combustion engine vehicles; \\n•volatility in the cost of oil, gasoline and energy; \\n•government regulations and economic incentives and conditions; and\\n•concerns about our future viability.\\nSource: {'context_header': ['section']}\\n\\nsection: ITEM 1A. RISK FACTORS; \\nwith our products; any delays we may experience in scaling manufacturing, delivery and service operations to meet demand; competition and uncertainty regarding the future of electric vehicles or our other products and services; our quarterly production and sales performance compared with market expectations; and other factors including those over which we have no control. In particular, Tesla’s products, business, results of operations, and statements and actions of Tesla and its management are subject to significant amounts of commentary by a range of third parties. Such attention can include criticism, which may be exaggerated or unfounded, such as speculation regarding the sufficiency or stability of our management team. Any such negative\\nSource: {'context_header': ['section']}\\n\\n\"}"
      ]
     },
     "execution_count": 16,
     "metadata": {},
     "output_type": "execute_result"
    }
   ],
   "source": [
    "response = ask_prompt(\"What are the key risk factors for Tesla and do they hedge foreign currency risk?\", \"Tesla\")\n",
    "response"
   ]
  }
 ],
 "metadata": {
  "colab": {
   "provenance": []
  },
  "kernelspec": {
   "display_name": "Python 3",
   "language": "python",
   "name": "python3"
  },
  "language_info": {
   "codemirror_mode": {
    "name": "ipython",
    "version": 3
   },
   "file_extension": ".py",
   "mimetype": "text/x-python",
   "name": "python",
   "nbconvert_exporter": "python",
   "pygments_lexer": "ipython3",
   "version": "3.8.10"
  }
 },
 "nbformat": 4,
 "nbformat_minor": 5
}
