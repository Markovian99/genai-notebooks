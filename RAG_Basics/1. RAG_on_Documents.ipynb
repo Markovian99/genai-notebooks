{
 "cells": [
  {
   "cell_type": "markdown",
   "id": "1275150c",
   "metadata": {
    "id": "3d50f6b3"
   },
   "source": [
    "# Notebook 1: RAG Approaches for Q&A on your Documents\n",
    "\n",
    "In this notebook we will show how to use RAG with your documents as well as a couple methods to answer a broader array of question types.\n",
    "\n",
    "First, we will import libraries and load the 10k. Then, using the Tesla (TSLA) 10k report, the notebook will divided into 4 sections\n",
    "1. Part 1: Building a Basic LLM RAG Pipeline\n",
    "2. Part 2: Basic Improvements: Try to tailored parsing \n",
    "3. Part 3: Adding query-splitting / multi-query\n",
    "\n",
    "I will not touch on adding chat history in this notebook, but certainly that is important as well. That can be as easy as saving the messages and adding that to the messages list. \n",
    "\n",
    "In this notebook, we will only use [langchain](https://python.langchain.com/docs/get_started/introduction) for parsing and retrieval to make the prompting explicit. "
   ]
  },
  {
   "cell_type": "markdown",
   "metadata": {
    "id": "a23f9e06"
   },
   "source": [
    "# Import libraries and load the 10k"
   ]
  },
  {
   "cell_type": "code",
   "execution_count": 1,
   "id": "96e6737a",
   "metadata": {
    "chart_settings": null,
    "custom_metric_settings": null,
    "dataframe_view_options": null,
    "datarobot": {
     "language": "python"
    },
    "disable_run": null,
    "hide_code": null,
    "hide_results": null,
    "id": "64e51b8d4fcea0e1deb7dcf3"
   },
   "outputs": [],
   "source": [
    "import subprocess\n",
    "import tiktoken\n",
    "import pandas as pd\n",
    "import os\n",
    "import csv\n",
    "import json\n",
    "import time\n",
    "import re\n",
    "import transformers\n",
    "import torch\n",
    "import numpy as np\n",
    "from datetime import datetime\n",
    "\n",
    "#We will use langchanin to create a vector store to retrieve stronger negatives\n",
    "import faiss\n",
    "from langchain.vectorstores.faiss import FAISS\n",
    "from langchain_community.document_loaders import PDFMinerPDFasHTMLLoader\n",
    "from langchain_core.vectorstores import VectorStoreRetriever\n",
    "from langchain.text_splitter import TokenTextSplitter, RecursiveCharacterTextSplitter\n",
    "from langchain_community.embeddings import HuggingFaceEmbeddings\n",
    "from langchain_community.document_loaders import PDFMinerPDFasHTMLLoader, UnstructuredPDFLoader\n",
    "from langchain.docstore.document import Document\n",
    "\n",
    "MODEL = \"gpt-4-1106-preview\"\n",
    "EMBEDDING_MODEL_NAME = \"all-MiniLM-L6-v2\""
   ]
  },
  {
   "cell_type": "code",
   "execution_count": 2,
   "id": "bb61c55d",
   "metadata": {},
   "outputs": [],
   "source": [
    "import openai\n",
    "\n",
    "from dotenv import load_dotenv\n",
    "# Load environment variables\n",
    "load_dotenv()\n",
    "\n",
    "openai.api_key = os.getenv('OPENAI_API_KEY')\n",
    "if os.getenv('OPENAI_API_BASE'):\n",
    "    openai.api_base = os.getenv('OPENAI_API_BASE')\n",
    "if os.getenv('OPENAI_API_TYPE'):\n",
    "    openai.api_type = os.getenv('OPENAI_API_TYPE')\n",
    "if os.getenv('OPENAI_API_VERSION'):\n",
    "    openai.api_version = os.getenv('OPENAI_API_VERSION')"
   ]
  },
  {
   "cell_type": "code",
   "execution_count": 3,
   "id": "05b8f31f",
   "metadata": {
    "id": "71be0425",
    "outputId": "6a0e02bd-0e6a-413a-c7c2-c985c2c7b246"
   },
   "outputs": [],
   "source": [
    "this_pdf = \"../data/tsla-20231231-gen.pdf\"\n",
    "\n",
    "# read and load 10k pdf file\n",
    "loader = UnstructuredPDFLoader(this_pdf)\n",
    "docs_10k = loader.load()"
   ]
  },
  {
   "cell_type": "markdown",
   "metadata": {
    "id": "efd720ab"
   },
   "source": [
    "# Part 1: Building a Basic LLM RAG Pipeline"
   ]
  },
  {
   "cell_type": "markdown",
   "id": "a6817296",
   "metadata": {
    "id": "c6e5a9c4"
   },
   "source": [
    "### Split docs and store in FAISS Vector Database for 10k\n",
    "\n",
    "Here, we use a chunk size of 128 and overlap of 64 because we found that to be successful for most use cases if using all-MiniLM-L6-v2. \n",
    "\n",
    "If using BAAI/bge-base-en-v1.5, chunk size of 256 with overlap of 64 seems to perform slightly better.\n",
    "\n",
    "Also, for simplicity, this just uses the tiktoken encoder as opposed to the embedding model specific encoder. Feel free to change. "
   ]
  },
  {
   "cell_type": "code",
   "execution_count": 4,
   "id": "c093dcf8",
   "metadata": {},
   "outputs": [],
   "source": [
    "#let's split the document into chunks chunk size 128 and overlap size 64\n",
    "def create_and_get_retriever(docs, emb_model_name, chunk_size = 128, chunk_overlap = 64, top_k=8, add_start_index = True, \n",
    "                             separators = [\"\\n\\n\\n\",\"\\n\\n\", \"\\n\", \" \", \"\"], context_header = [], faiss_dir = \"../data/faiss\"):\n",
    "    print(f\"Original # of docs {len(docs)}\")\n",
    "    text_splitter = RecursiveCharacterTextSplitter.from_tiktoken_encoder(chunk_size = chunk_size, chunk_overlap  = chunk_overlap, add_start_index = add_start_index,\n",
    "                                                                         separators=separators)\n",
    "    docs_split = text_splitter.split_documents(docs)\n",
    "    print(f\"Split # of docs {len(docs_split)}\")\n",
    "\n",
    "    embedding_function = HuggingFaceEmbeddings(\n",
    "            model_name=emb_model_name,\n",
    "            cache_folder=\"./models/sentencetransformers\"\n",
    "        )\n",
    "    if len(context_header) > 0: #if adding metadata to the page content to aide retrieval\n",
    "        for doc in docs_split:\n",
    "            header_str = \"\"\n",
    "            for header in context_header:\n",
    "                if header in doc.metadata.keys():\n",
    "                    header_str += str(header)+ \": \" + doc.metadata[header] + \"; \" \n",
    "            doc.page_content = header_str +\"\\n\"+ doc.page_content\n",
    "            doc.metadata = {\"context_header\": context_header}\n",
    "\n",
    "    db = FAISS.from_documents(docs_split, embedding_function)\n",
    "    db.save_local(faiss_dir)\n",
    "    return VectorStoreRetriever(vectorstore=db, search_kwargs={\"k\": top_k})"
   ]
  },
  {
   "cell_type": "code",
   "execution_count": 14,
   "id": "0ba6a4b0",
   "metadata": {
    "id": "353df606",
    "outputId": "5865cb2f-965e-4af6-aaee-acc44c552804"
   },
   "outputs": [
    {
     "name": "stdout",
     "output_type": "stream",
     "text": [
      "Original # of docs 1\n",
      "Split # of docs 2531\n"
     ]
    }
   ],
   "source": [
    "# use 16 docs since smaller chunk size\n",
    "retriever = create_and_get_retriever(docs_10k, EMBEDDING_MODEL_NAME, top_k=16)"
   ]
  },
  {
   "cell_type": "code",
   "execution_count": 15,
   "id": "f2b5219e",
   "metadata": {},
   "outputs": [],
   "source": [
    "def generate_kb_response(prompt, model, retriever, system_prompt=\"\",template=None, temperature=0, include_source=False):\n",
    "    \"\"\"\n",
    "    Generate a response to a prompt using the given model and the knowledge base retriever.\n",
    "    Args:\n",
    "    prompt: The prompt to generate a response to.\n",
    "    model: OpenAI model to use to generate the response (can change to other models if needed)\n",
    "    retriever: The knowledge base retriever to use to retrieve relevant documents.\n",
    "    system_prompt: The system prompt to use for the OpenAI model.\n",
    "    template: The template to use for the prompt. If None, a default template will be used. Please use {prompt} and {context} as placeholders for the prompt and context.\n",
    "    temperature: The temperature to use for the OpenAI model.\n",
    "    include_source: Whether to include the source documents metadata as part of context for LLM. Useful if you want the LLM to include the source documents in the response.\n",
    "    \"\"\"\n",
    "\n",
    "    relevant_docs = retriever.get_relevant_documents(prompt)\n",
    "\n",
    "    relevant_docs_str = \"\"\n",
    "    docs_with_source = \"\"\n",
    "    for doc in relevant_docs:\n",
    "        if include_source:\n",
    "            docs_with_source += doc.page_content + \"\\n\" + \"Source: \" + str(doc.metadata) + \"\\n\\n\"\n",
    "        else:\n",
    "            relevant_docs_str += doc.page_content + \"\\n\\n\"\n",
    "            docs_with_source += doc.page_content + \"\\n\" + \"Source: \" + str(doc.metadata) + \"\\n\\n\"\n",
    "    if include_source:\n",
    "        relevant_docs_str = docs_with_source\n",
    "\n",
    "    if template is None:\n",
    "        prompt_full = f\"\"\"Answer based on the following context\n",
    "\n",
    "        {relevant_docs_str}\n",
    "\n",
    "        Question: {prompt}\"\"\"\n",
    "    else:\n",
    "        prompt_full = template.format(prompt=prompt, context=relevant_docs_str)\n",
    "\n",
    "    try:\n",
    "        response_full = openai.chat.completions.create(model=model, messages=[{\"role\": \"system\", \"content\": system_prompt},{\"role\": \"user\", \"content\": prompt_full }],temperature=temperature)\n",
    "    except Exception as e:\n",
    "        print(\"OpenAI API call failed. Waiting 5 seconds and trying again.\")\n",
    "        time.sleep(5)\n",
    "        response_full = openai.chat.completions.create(model=model, messages=[{\"role\": \"system\", \"content\": system_prompt},{\"role\": \"user\", \"content\": prompt_full }],temperature=temperature)\n",
    "    except Exception as e:\n",
    "        return {'answer':\"Exception: OpenAI API call failed. Please check code or try again later.\", 'source_documents':docs_with_source} \n",
    "    \n",
    "    #response = response_full['choices'][0]['message']['content']\n",
    "    response = response_full.choices[0].message.content\n",
    "    \n",
    "    return {'answer':response, 'source_documents':docs_with_source}\n"
   ]
  },
  {
   "cell_type": "code",
   "execution_count": 7,
   "id": "496b4199",
   "metadata": {},
   "outputs": [
    {
     "name": "stdout",
     "output_type": "stream",
     "text": [
      "Tesla offers a range of products and services related to electric vehicles, sustainable energy, and artificial intelligence. Here's a summary of what they offer:\n",
      "\n",
      "1. Electric Vehicles: Tesla designs, manufactures, and sells electric vehicles, including sedans like the Model S, crossovers like the Model X, and more affordable models like the Model 3 and Model Y. They have also begun production and deliveries of a commercial electric vehicle, the Tesla Semi, and have plans for additional electric vehicles to address various market segments.\n",
      "\n",
      "2. Solar Energy Generation Systems: Tesla provides solar energy solutions, including solar panels and Solar Roof tiles for residential and commercial customers who wish to generate their own renewable energy.\n",
      "\n",
      "3. Energy Storage Products: The company offers energy storage products like the Powerwall for residential use, Powerpack for commercial use, and Megapack for utility-scale projects, which store energy for later use and help manage energy consumption.\n",
      "\n",
      "4. Service and Warranty: Tesla provides service for their electric vehicles at company-owned service locations and through Tesla Mobile Service technicians. They offer a manufacturer’s limited warranty on all new and used Tesla vehicles sold directly to consumers, which may include warranties on certain components, specific types of damage, or battery capacity retention. Optional extended service plans are also available.\n",
      "\n",
      "5. Over-the-Air Updates: Tesla vehicles are capable of receiving remote software updates, allowing customers to purchase additional paid options and features through the Tesla app or the in-vehicle user interface. Tesla expects to offer certain options and features on a subscription basis in the future.\n",
      "\n",
      "6. Charging Solutions: Tesla has developed a network of Supercharger stations to facilitate fast charging of their vehicles. They also support the North American Charging Standard (NACS) and offer home charging installation services.\n",
      "\n",
      "7. Insurance and Financial Services: Tesla provides insurance and financial services related to their products, which may include financing options for purchasing their vehicles and energy products.\n",
      "\n",
      "8. Artificial Intelligence and Robotics: Tesla is increasingly focused on products and services based on artificial intelligence, robotics, and automation, which likely includes their proprietary Full Self-Driving (FSD) Capability features.\n",
      "\n",
      "9. Educational Programs: Tesla has initiated programs like Tesla START to train individuals for technician roles within the company, partnering with colleges and technical academies to provide the necessary skills and opportunities for full-time employment.\n",
      "\n",
      "10. Tax Credits and Incentives: Tesla informs customers about potential tax credits and incentives available for the purchase of electric vehicles and energy products, such as the federal tax credit in the U.S. for qualifying electric vehicle purchases.\n",
      "\n",
      "These products and services are part of Tesla's broader mission to accelerate the world's transition to sustainable energy and reduce carbon emissions by addressing both energy generation and consumption.\n"
     ]
    }
   ],
   "source": [
    "prompt = \"What products and services does Tesla offer?\"\n",
    "result = generate_kb_response(prompt, MODEL, retriever)\n",
    "print(result['answer'])"
   ]
  },
  {
   "cell_type": "markdown",
   "id": "39126fac",
   "metadata": {},
   "source": [
    "Wow! That looks great. Let's try another prompt"
   ]
  },
  {
   "cell_type": "code",
   "execution_count": 16,
   "id": "e633bde0",
   "metadata": {},
   "outputs": [
    {
     "name": "stdout",
     "output_type": "stream",
     "text": [
      "Based on the provided context, the most unexpected and material headwind discussed in the Management's Discussion section appears to be the severe winter storms in the first quarter of 2021 that had a widespread impact on utilities and transportation. This event is highlighted as a significant and unforeseen challenge that affected the company's operations. Natural disasters like this can have a substantial impact on production, supply chains, and overall business continuity, which makes them material headwinds for any company.\n"
     ]
    }
   ],
   "source": [
    "prompt = \"What was the most unexpected and material headwind discussed in the Management's Discussion section?\"\n",
    "result = generate_kb_response(prompt, MODEL, retriever)\n",
    "print(result['answer'])"
   ]
  },
  {
   "cell_type": "markdown",
   "id": "e7c29d9a",
   "metadata": {},
   "source": [
    "So we seem to have an issue here. This is referencing the Risk Factors section and is not particularly relevant.\n",
    "\n",
    "But, how could our retriever know to bring in the needed context?\n",
    "\n",
    "Let's look at what was pulled for Part 2."
   ]
  },
  {
   "cell_type": "markdown",
   "id": "0a2decdc",
   "metadata": {},
   "source": [
    "# Part 2: Basic Improvements"
   ]
  },
  {
   "cell_type": "markdown",
   "id": "380ef92b",
   "metadata": {},
   "source": [
    "Let's take a look of the documents that were pulled."
   ]
  },
  {
   "cell_type": "code",
   "execution_count": 17,
   "id": "127e6d59",
   "metadata": {},
   "outputs": [
    {
     "name": "stdout",
     "output_type": "stream",
     "text": [
      "\n",
      "Doc 1\n",
      "increased our employee headcount and operations, we are and may continue to be subject to increased scrutiny, including litigation and government investigations, that we will need to defend against. If we are unable to successfully defend ourselves in such litigation or government investigations, it\n",
      "Doc 2\n",
      "As discussed in and subject to the considerations referenced in Part II, Item 7, Management's Discussion and Analysis of Financial Condition and Results of Operations—Management Opportunities, Challenges and Uncertainties and 2023 Outlook—Cash Flow and Capital Expenditure Trends in this\n",
      "Doc 3\n",
      "commentary by a range of third parties. Such attention can include criticism, which may be exaggerated or unfounded, such as speculation regarding the sufficiency or stability of our management team. Any such negative perceptions, whether caused by us or not, may harm our business and make it more difficult to raise additional funds if needed.\n",
      "Doc 4\n",
      "Under the supervision and with the participation of our management, including our Chief Executive Officer and Chief Financial Officer, we conducted\n",
      "Doc 5\n",
      "Business. For discussion related to changes in financial condition and the results of operations for fiscal year 2022-related items, refer to Part II, Item 7. Management’s Discussion and Analysis of Financial Condition and Results of Operations in our Annual Report on Form 10-K for fiscal year 2022, which was\n",
      "Doc 6\n",
      "particular, Tesla’s products, business, results of operations, and statements and actions of Tesla and its management are subject to significant amounts of commentary by a range of third parties. Such attention can include criticism, which may be exaggerated or unfounded, such as speculation regarding the\n",
      "Doc 7\n",
      "operate, prospects and plans and objectives of management. The words “anticipates,” “believes,” “could,” “estimates,” “expects,” “intends,” “may,”\n",
      "Doc 8\n",
      "multiple potential sources of component shortages. Unexpected changes in business conditions, materials pricing, including inflation of raw material costs, labor issues, wars, trade policies, natural disasters, health epidemics such as the global COVID-19 pandemic, trade and shipping disruptions, port\n",
      "Doc 9\n",
      "Based on this evaluation, our Chief Executive Officer and our Chief Financial Officer concluded that, as of December 31, 2023, our disclosure controls and procedures were designed at a reasonable assurance level and were effective to provide reasonable assurance that the information we are\n",
      "Doc 10\n",
      "its workforce, further strengthening its standing as one of the most desirable and innovative companies to work for. As of December 31, 2023, our employee headcount worldwide was 140,473.\n",
      "Doc 11\n",
      "and any future impact from events outside of our control. For example, during the third quarter of 2023, we experienced a sequential decline in production volumes due to pre-planned shutdowns for upgrades at various factories. Moreover, we have set ambitious technological targets with our\n",
      "Doc 12\n",
      "Increased scrutiny and changing expectations from stakeholders with respect to the Company’s ESG practices may result in additional costs or risks.\n",
      "Doc 13\n",
      "We provide from time to time guidance regarding our expected financial and business performance. Correctly identifying key factors affecting business conditions and predicting future events is inherently an uncertain process, and our guidance may not ultimately be accurate and has in the past\n",
      "Doc 14\n",
      "Critical Audit Matters\n",
      "Doc 15\n",
      "experienced severe winter storms in the first quarter of 2021 that had a widespread impact on utilities and transportation. If major disasters such as earthquakes, floods or other climate-related events occur, or our information system or communication breaks down or operates improperly, our\n",
      "Doc 16\n",
      "business conditions and predicting future events is inherently an uncertain process, and our guidance may not ultimately be accurate and has in the past been inaccurate in certain respects, such as the timing of new product manufacturing ramps. Our guidance is based on certain assumptions such as those\n"
     ]
    }
   ],
   "source": [
    "returned_docs = retriever.get_relevant_documents(prompt)\n",
    "docs_str = \"\"\n",
    "for idx, doc in enumerate(returned_docs):\n",
    "    docs_str+=f\"\\nDoc {idx+1}\\n\"+doc.page_content.replace(\"\\t\", \" \") #replacing \\t with space for better readability\n",
    "print(docs_str)"
   ]
  },
  {
   "cell_type": "markdown",
   "id": "28fa142f",
   "metadata": {},
   "source": [
    "We notice very little from the \"Management's Discussion and Analysis of Financial Condition and Results of Operations\". The second doc reference the section, but is from a different section. What should we do? Let's try to parse the doc different to try to keep some context.\n",
    "\n",
    "A nice overview of PDF parsing methods can be found at: https://python.langchain.com/docs/modules/data_connection/document_loaders/pdf\n",
    "\n",
    "Here we create our own for the SEC html version, but use some of the learnings there."
   ]
  },
  {
   "cell_type": "code",
   "execution_count": null,
   "id": "17ca02ef",
   "metadata": {},
   "outputs": [],
   "source": [
    "from bs4 import BeautifulSoup\n",
    "this_10k = \"../data/tsla-20231231.html\"\n",
    "\n",
    "# Load your XBRL file\n",
    "with open(this_10k, 'r', encoding='windows-1252') as file:\n",
    "    contents = file.read()\n",
    "\n",
    "soup = BeautifulSoup(contents, 'html.parser')\n",
    "\n",
    "# Extract all text within <div> tags (REVISIT THIS TO MAKE SURE NOT MISSING ANYTHING)\n",
    "content = soup.find_all('div')\n",
    "\n",
    "snippets = []\n",
    "curr_txt = \"\"\n",
    "section = \"\"\n",
    "cur_fs = None\n",
    "cur_fw = None\n",
    "new_section = False\n",
    "for c in content:\n",
    "    sp = c.find('span')\n",
    "    if len(c.text)==0:\n",
    "        curr_txt += \"\\n\"\n",
    "        continue\n",
    "    if not sp:\n",
    "        print(f\"Warning skipping {c.text}\")\n",
    "        continue\n",
    "    st = sp.get('style')\n",
    "    if not st:\n",
    "        print(f\"Warning skipping {c.text}\")\n",
    "        continue\n",
    "\n",
    "    #if font weight is bold or larger font size, then it's likely a new section\n",
    "    fs = re.findall('font-size:(\\d+)px',st)\n",
    "    if fs:\n",
    "        if cur_fs and int(fs[0]) > cur_fs and curr_txt.endswith(\"\\n\"):\n",
    "            new_section = True\n",
    "        cur_fs = int(fs[0])\n",
    "    fw = re.findall('font-weight:(\\d+)',st)\n",
    "    if fw:\n",
    "        if cur_fw and int(fw[0]) > cur_fw and curr_txt.endswith(\"\\n\"):\n",
    "            new_section = True\n",
    "        cur_fw = int(fw[0])\n",
    "\n",
    "    is_underline = len(c.find_all('span', style=lambda value: value and 'text-decoration:underline' in value))>0\n",
    "    # if is_underline:\n",
    "    #     print(f\"Underline {c.text}\")\n",
    "    is_italic = len(c.find_all('span', style=lambda value: value and 'font-style:italic' in value))>0\n",
    "    # if is_italic:\n",
    "    #     print(f\"Italic {c.text}\")\n",
    "\n",
    "    #potential to be new section if new line\n",
    "    new_section = new_section or is_underline or is_italic\n",
    "    \n",
    "    if curr_txt.endswith(\"\\n\") and c.text.lower().startswith(\"item \"):\n",
    "        snippets.append((curr_txt,section))\n",
    "        section = c.text\n",
    "        curr_txt = c.text\n",
    "    elif curr_txt.endswith(\"\\n\") and new_section:\n",
    "        snippets.append((curr_txt,section))\n",
    "        curr_txt = c.text \n",
    "    else:\n",
    "        curr_txt = curr_txt + \"\\n\" + c.text\n",
    "    new_section = False\n",
    "snippets.append((curr_txt,section))\n",
    "\n",
    "html_10k_split = []\n",
    "for idx, snippet in enumerate(snippets):\n",
    "    html_10k_split.append(Document(snippet[0], metadata={\"source\":this_10k,\"section\":snippet[1], \"idx\":idx}))\n",
    "html_10k_split"
   ]
  },
  {
   "cell_type": "markdown",
   "id": "b5f7bc16",
   "metadata": {},
   "source": [
    "This is looking promising!"
   ]
  },
  {
   "cell_type": "code",
   "execution_count": 19,
   "id": "cdbde446",
   "metadata": {},
   "outputs": [
    {
     "name": "stdout",
     "output_type": "stream",
     "text": [
      "Original # of docs 98\n",
      "Split # of docs 1261\n"
     ]
    }
   ],
   "source": [
    "new_retriever = create_and_get_retriever(html_10k_split, EMBEDDING_MODEL_NAME, chunk_size = 128, chunk_overlap = 64, top_k=16, add_start_index = True, context_header = ['section'])"
   ]
  },
  {
   "cell_type": "markdown",
   "id": "6d65510a",
   "metadata": {},
   "source": [
    "Let's check out updated retriever and notice most of the top docs are from the desired section(s)! "
   ]
  },
  {
   "cell_type": "code",
   "execution_count": 20,
   "id": "4df25ebf",
   "metadata": {},
   "outputs": [
    {
     "name": "stdout",
     "output_type": "stream",
     "text": [
      "What was the most unexpected and material headwind discussed in the Management's Discussion section?\n",
      "\n",
      "Doc 1\n",
      "section: ITEM 1A. RISK FACTORS; \n",
      "products, business, results of operations, and statements and actions of Tesla and its management are subject to significant amounts of commentary by a range of third parties. Such attention can include criticism, which may be exaggerated or unfounded, such as speculation regarding the sufficiency or stability of our management team. Any such negative perceptions, whether caused by us or not, may harm our business and make it more difficult to raise additional funds if needed.\n",
      "Doc 2\n",
      "section: ITEM 7. MANAGEMENT’S DISCUSSION AND ANALYSIS OF FINANCIAL CONDITION AND RESULTS OF OPERATIONS; \n",
      "34\n",
      "34\n",
      "34\n",
      "Doc 3\n",
      "section: ITEM 7. MANAGEMENT’S DISCUSSION AND ANALYSIS OF FINANCIAL CONDITION AND RESULTS OF OPERATIONS; \n",
      "39\n",
      "39\n",
      "39\n",
      "Doc 4\n",
      "section: ITEM 7. MANAGEMENT’S DISCUSSION AND ANALYSIS OF FINANCIAL CONDITION AND RESULTS OF OPERATIONS; \n",
      "33\n",
      "33\n",
      "33\n",
      "Doc 5\n",
      "section: ITEM 7. MANAGEMENT’S DISCUSSION AND ANALYSIS OF FINANCIAL CONDITION AND RESULTS OF OPERATIONS; \n",
      "ITEM 7. MANAGEMENT’S DISCUSSION AND ANALYSIS OF FINANCIAL CONDITION AND RESULTS OF OPERATIONS\n",
      "Doc 6\n",
      "section: ITEM 7. MANAGEMENT’S DISCUSSION AND ANALYSIS OF FINANCIAL CONDITION AND RESULTS OF OPERATIONS; \n",
      "35\n",
      "35\n",
      "35\n",
      "Doc 7\n",
      "section: ITEM 7. MANAGEMENT’S DISCUSSION AND ANALYSIS OF FINANCIAL CONDITION AND RESULTS OF OPERATIONS; \n",
      "Results of Operations\n",
      "Revenues\n",
      "Doc 8\n",
      "section: ITEM 7. MANAGEMENT’S DISCUSSION AND ANALYSIS OF FINANCIAL CONDITION AND RESULTS OF OPERATIONS; \n",
      "Should our estimates of future selling prices or production costs change, additional and potentially material write-downs may be required. A small change in our estimates may result in a material charge to our reported financial results.\n",
      "36\n",
      "36\n",
      "36\n",
      "Doc 9\n",
      "section: ITEM 7. MANAGEMENT’S DISCUSSION AND ANALYSIS OF FINANCIAL CONDITION AND RESULTS OF OPERATIONS; \n",
      "37\n",
      "37\n",
      "37\n",
      "Doc 10\n",
      "section: ITEM 1. BUSINESS; \n",
      "Employees are encouraged to speak up both in regard to misconduct and safety concerns and can do so by contacting the integrity line, submitting concerns through our Take Charge process, or notifying their Human Resource Partner or any member of management. Concerns are reviewed in accordance with established protocols by investigators with expertise, who also review for trends and outcomes for remediation and appropriate controls. Responding to questions timely is key so Human Resource Partners for each functional area are visible throughout facilities and are actively involved in driving culture and engagement alongside business leaders.\n",
      "Available Information\n",
      "Doc 11\n",
      "section: ITEM 7. MANAGEMENT’S DISCUSSION AND ANALYSIS OF FINANCIAL CONDITION AND RESULTS OF OPERATIONS; \n",
      "Liquidity and Capital Resources\n",
      "We expect to continue to generate net positive operating cash flow as we have done in the last five fiscal years. The cash we generate from our core operations enables us to fund ongoing operations and production, our research and development projects for new products and technologies including our proprietary battery cells, additional manufacturing ramps at existing manufacturing facilities, the construction of future factories, and the continued expansion of our retail and service locations, body shops, Mobile Service fleet, Supercharger, including to support NACS, energy product installation capabilities and autonomy and other artificial intelligence enabled products.\n",
      "42\n",
      "42\n",
      "42\n",
      "Doc 12\n",
      "section: ITEM 1A. RISK FACTORS; \n",
      "with our products; any delays we may experience in scaling manufacturing, delivery and service operations to meet demand; competition and uncertainty regarding the future of electric vehicles or our other products and services; our quarterly production and sales performance compared with market expectations; and other factors including those over which we have no control. In particular, Tesla’s products, business, results of operations, and statements and actions of Tesla and its management are subject to significant amounts of commentary by a range of third parties. Such attention can include criticism, which may be exaggerated or unfounded, such as speculation regarding the sufficiency or stability of our management team. Any such negative\n",
      "Doc 13\n",
      "section: ; \n",
      "Legal Proceedings\n",
      "30\n",
      "Item 4.\n",
      "Mine Safety Disclosures\n",
      "30\n",
      "PART II.\n",
      "Item 5.\n",
      "Market for Registrant's Common Equity, Related Stockholder Matters and Issuer Purchases of Equity Securities\n",
      "31\n",
      "Item 6.\n",
      "[Reserved]\n",
      "32\n",
      "Item 7.\n",
      "Management's Discussion and Analysis of Financial Condition and Results of Operations\n",
      "33\n",
      "Item 7A.\n",
      "Quantitative and Qualitative Disclosures about Market Risk\n",
      "45\n",
      "Item 8.\n",
      "Financial Statements and Supplementary Data\n",
      "46\n",
      "Item 9.\n",
      "Changes in and Disagreements with Accountants on Accounting and Financial Disclosure\n",
      "Doc 14\n",
      "section: ITEM 7. MANAGEMENT’S DISCUSSION AND ANALYSIS OF FINANCIAL CONDITION AND RESULTS OF OPERATIONS; \n",
      "Warranties\n",
      "Doc 15\n",
      "section: ITEM 7. MANAGEMENT’S DISCUSSION AND ANALYSIS OF FINANCIAL CONDITION AND RESULTS OF OPERATIONS; \n",
      "Gross margin for total automotive & services and other segment decreased from 26.5% to 18.2% in the year ended December 31, 2023 as compared to the year ended December 31, 2022, primarily due to the automotive gross margin decrease discussed above.\n",
      "Energy Generation and Storage Segment\n",
      "Doc 16\n",
      "section: ITEM 1A. RISK FACTORS; \n",
      "Increased scrutiny and changing expectations from stakeholders with respect to the Company’s ESG practices may result in additional costs or risks.\n"
     ]
    }
   ],
   "source": [
    "print(prompt) \n",
    "returned_docs = new_retriever.get_relevant_documents(prompt)\n",
    "docs_str = \"\"\n",
    "for idx, doc in enumerate(returned_docs):\n",
    "    docs_str+=f\"\\nDoc {idx+1}\\n\"+doc.page_content.replace(\"\\t\", \" \") #replacing \\t with space for better readability\n",
    "print(docs_str)"
   ]
  },
  {
   "cell_type": "code",
   "execution_count": 21,
   "id": "7614f8fa",
   "metadata": {},
   "outputs": [
    {
     "name": "stdout",
     "output_type": "stream",
     "text": [
      "The most unexpected and material headwind discussed in the Management's Discussion section appears to be the significant decrease in gross margin for the total automotive & services and other segment, which decreased from 26.5% to 18.2% in the year ended December 31, 2023, as compared to the year ended December 31, 2022. This decrease is primarily attributed to the automotive gross margin decrease. This substantial reduction in gross margin would likely be considered both unexpected and material, as it directly impacts profitability.\n"
     ]
    }
   ],
   "source": [
    "result = generate_kb_response(prompt, MODEL, new_retriever)\n",
    "print(result['answer'])"
   ]
  },
  {
   "cell_type": "markdown",
   "id": "f8d44a81",
   "metadata": {},
   "source": [
    "WOW - what a difference! \n",
    "\n",
    "Let's see if we can stump this new pipeline :) "
   ]
  },
  {
   "cell_type": "code",
   "execution_count": 24,
   "id": "b24ce601",
   "metadata": {},
   "outputs": [
    {
     "name": "stdout",
     "output_type": "stream",
     "text": [
      "The key risk factors for Tesla, as outlined in the provided context, include:\n",
      "\n",
      "1. **Public Perception and Commentary**: Tesla's products, business, and management are subject to significant public attention and commentary, including criticism that may be exaggerated or unfounded. Negative perceptions can harm Tesla's business and its ability to raise additional funds.\n",
      "\n",
      "2. **Foreign Currency Risk**: Tesla conducts business globally and is exposed to foreign currency risks as it transacts in multiple currencies. This risk affects Tesla's operating results when expressed in U.S. dollars because they do not typically hedge foreign currency risk.\n",
      "\n",
      "3. **Market Demand for Electric Vehicles**: Tesla's growth is dependent on the demand for electric vehicles. If the market does not develop as expected, or if demand decreases, Tesla's business could be adversely affected.\n",
      "\n",
      "4. **Competition for Talent**: Tesla operates in a competitive labor market and competes for talented individuals with automotive or technology experience. Negative publicity or other factors may make it difficult to attract and retain employees.\n",
      "\n",
      "5. **Government and Economic Incentives**: Changes to government and economic incentives that support electric vehicles, such as tax exemptions, credits, and rebates, can impact Tesla's sales if these incentives are reduced, eliminated, or not replaced.\n",
      "\n",
      "6. **Competition and Industry Volatility**: The automotive industry is competitive, cyclical, and volatile. Tesla faces competition from other electric vehicles, alternative fuel vehicles, and high fuel-economy internal combustion engine vehicles.\n",
      "\n",
      "7. **Operational Scaling and Servicing**: Delays in scaling manufacturing, delivery, and service operations to meet demand, as well as servicing capacity and reliability issues, could overburden Tesla's capabilities.\n",
      "\n",
      "8. **Warranty and Performance Guarantees**: Tesla provides warranties and performance guarantees for its vehicles and energy systems, which could impact financial results if there are significant warranty claims or performance shortfalls.\n",
      "\n",
      "9. **Energy Generation and Storage Competition**: Tesla faces competition in its energy generation and storage business, and decreases in electricity prices could make its products less attractive.\n",
      "\n",
      "10. **Electric Vehicle Market Penetration**: Electric vehicles still represent a small percentage of overall vehicle sales, and the market could be affected by perceptions of electric vehicle features, quality, safety, performance, cost, and range.\n",
      "\n",
      "Regarding hedging foreign currency risk, the context indicates that Tesla does not typically hedge foreign currency risk. This means that Tesla accepts the risk of fluctuations in exchange rates, which can affect their financial results when revenues and expenses in foreign currencies are converted to U.S. dollars.\n"
     ]
    }
   ],
   "source": [
    "prompt = \"What are the key risk factors for Tesla and do they hedge foreign currency risk?\"\n",
    "\n",
    "result = generate_kb_response(prompt, MODEL, new_retriever)\n",
    "print(result['answer'])"
   ]
  },
  {
   "cell_type": "markdown",
   "id": "4bddeff4",
   "metadata": {},
   "source": [
    "Look's pretty good again! Note: when I tried this with the old retriever it did not know if TSLA hedge foreign currency risk."
   ]
  },
  {
   "cell_type": "markdown",
   "metadata": {
    "id": "f3973165"
   },
   "source": [
    "# Add Query Splitting\n",
    "\n",
    "I am not going to motivate this one as it is easy to motivate by thinking about multiple documents (say we were comparing Ford and Tesla), but often it can be very beneficial to ask an LLM to transform a query into one or more queries for the retrieval process. Let's see how this can be done."
   ]
  },
  {
   "cell_type": "code",
   "execution_count": 33,
   "id": "b7bb764a",
   "metadata": {},
   "outputs": [],
   "source": [
    "# Function to generate queries using OpenAI's ChatGPT\n",
    "def generate_subqueries(original_query, model, second_try=False):\n",
    "    MIN_QUESTION_LENGTH = 20\n",
    "    try:\n",
    "        response = openai.chat.completions.create(\n",
    "            model=model,\n",
    "            messages=[\n",
    "                {\"role\": \"system\", \"content\": \"You are a helpful assistant that helps users identify how to search for relevant information. You do not introduce any new topics, specific details, or key words, but provide users with sub-queries phrased as questions to gather information to answer the original input query.\"},\n",
    "                {\"role\": \"user\", \"content\": \n",
    "                f\"\"\"Please return 2 sub-queries that would be helpful to gather the required information to answer the original query. The format of your response should be:\n",
    "                1. Sub-query 1\n",
    "                2. Sub-query 2\n",
    "\n",
    "                Original query: {original_query}\n",
    "\n",
    "                Sub-queries:\"\n",
    "                \"\"\"}\n",
    "            ]\n",
    "        )\n",
    "    except Exception as e:\n",
    "        print(e)\n",
    "        time.sleep(5)\n",
    "        if second_try:\n",
    "            return []\n",
    "        return generate_subqueries(original_query, model, second_try=True)\n",
    "\n",
    "    generated_queries = response.choices[0].message.content.strip()\n",
    "    if len(generated_queries) < MIN_QUESTION_LENGTH or generated_queries[:MIN_QUESTION_LENGTH].lower().find(\"n/a\") >-1:\n",
    "        generated_queries = []\n",
    "    else:\n",
    "        generated_queries_list = generated_queries.split(\"\\n\")\n",
    "        generated_queries = []\n",
    "        for i in range(len(generated_queries_list)):            \n",
    "            generated_queries_list[i] = generated_queries_list[i].strip()\n",
    "            # if generated_queries[i] startswith a number and a period, remove it\n",
    "            if len(generated_queries_list[i])>MIN_QUESTION_LENGTH and generated_queries_list[i][0].isdigit():\n",
    "                generated_queries_list[i] = generated_queries_list[i][min(4,generated_queries_list[i].find(\" \")+1):]\n",
    "            if len(generated_queries_list[i]) > MIN_QUESTION_LENGTH:\n",
    "                generated_queries.append(generated_queries_list[i])\n",
    "            \n",
    "    return generated_queries\n"
   ]
  },
  {
   "cell_type": "code",
   "execution_count": 34,
   "id": "5a29934e",
   "metadata": {},
   "outputs": [
    {
     "data": {
      "text/plain": [
       "['What are the key technology features of Volkswagen electric vehicles?',\n",
       " 'What are the key technology features of Tesla electric vehicles?',\n",
       " \"What are they major technology difference in Volkswagen's and Tesla's electric vehicles?\"]"
      ]
     },
     "execution_count": 34,
     "metadata": {},
     "output_type": "execute_result"
    }
   ],
   "source": [
    "orig_query = \"What are they major technology difference in Volkswagen's and Tesla's electric vehicles?\"\n",
    "generated_queries = generate_subqueries(orig_query, MODEL, second_try=False)\n",
    "lookup_queries = generated_queries + [orig_query]\n",
    "lookup_queries"
   ]
  },
  {
   "cell_type": "code",
   "execution_count": null,
   "id": "8e339741",
   "metadata": {},
   "outputs": [],
   "source": []
  }
 ],
 "metadata": {
  "colab": {
   "provenance": []
  },
  "kernelspec": {
   "display_name": "Python 3",
   "language": "python",
   "name": "python3"
  },
  "language_info": {
   "codemirror_mode": {
    "name": "ipython",
    "version": 3
   },
   "file_extension": ".py",
   "mimetype": "text/x-python",
   "name": "python",
   "nbconvert_exporter": "python",
   "pygments_lexer": "ipython3",
   "version": "3.8.10"
  }
 },
 "nbformat": 4,
 "nbformat_minor": 5
}
