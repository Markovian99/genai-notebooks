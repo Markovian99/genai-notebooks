{
 "cells": [
  {
   "cell_type": "markdown",
   "metadata": {
    "id": "3d50f6b3"
   },
   "source": [
    "# Notebook 2:Using Web Search with RAG\n",
    "\n",
    "In this notebook we will show how to use the Google Search API as a retriever for RAG. The LLM is not used in this notebook - you can see the full process in a later notebook.  \n",
    "\n",
    "We will consider \n",
    "* Methods using Google Search\n",
    "* Methods using Duck Duck Go\n",
    "\n",
    "Note: The Google Custom Search Engine (CSE) used in this notebook is restricted to usatoday.com articles, but you will set up your own with the links provided however you wish."
   ]
  },
  {
   "cell_type": "markdown",
   "metadata": {
    "id": "a23f9e06"
   },
   "source": [
    "# Import libraries and load the 10k and stock data"
   ]
  },
  {
   "cell_type": "code",
   "execution_count": 58,
   "id": "635d5020",
   "metadata": {
    "chart_settings": null,
    "custom_metric_settings": null,
    "dataframe_view_options": null,
    "datarobot": {
     "language": "python"
    },
    "disable_run": null,
    "hide_code": null,
    "hide_results": null,
    "id": "64e51b8d4fcea0e1deb7dcf3"
   },
   "outputs": [],
   "source": [
    "import pandas as pd\n",
    "import os\n",
    "import re\n",
    "import numpy as np\n",
    "from datetime import datetime\n",
    "import requests\n",
    "\n",
    "# To use with the router\n",
    "from sklearn.metrics.pairwise import cosine_similarity\n",
    "\n",
    "company_name=\"Tesla\""
   ]
  },
  {
   "cell_type": "code",
   "execution_count": 5,
   "id": "4785e361",
   "metadata": {},
   "outputs": [],
   "source": [
    "query = \"What is the latest news about Elon Musk's pay package? site:www.usatoday.com\""
   ]
  },
  {
   "cell_type": "markdown",
   "id": "3e0af2bb",
   "metadata": {},
   "source": [
    "# Google Search\n",
    "\n",
    "In this section, we provide 2 approaches to using Google Search, but please not this requires both an [API key](https://developers.google.com/custom-search/v1/overview) and a [Custom Search Engine Key](https://programmablesearchengine.google.com/)\n",
    "\n",
    "* Method 1: Use [Langchain's GoogleSearchAPIWrapper](https://python.langchain.com/docs/integrations/tools/google_search)\n",
    "* Method 2: Use [Google's API](https://developers.google.com/custom-search/v1/reference/rest/v1/cse/list) directly\n",
    "\n",
    "There are also more comprehensive scrapping of the website using [Serper](https://serpapi.com/) and the corresponding integration from [Langchain](https://python.langchain.com/docs/integrations/tools/google_serper), but in this notebook we are keeping it to high level results."
   ]
  },
  {
   "cell_type": "code",
   "execution_count": 6,
   "id": "767a8215",
   "metadata": {},
   "outputs": [],
   "source": [
    "# Using API KEY names used by Langchain's GoogleSearchAPIWrapper for simplicity\n",
    "os.environ[\"GOOGLE_CSE_ID\"] = os.environ.get(\"GOOGLE_SEARCH_USAT_ID\")\n",
    "os.environ[\"GOOGLE_API_KEY\"] = os.environ.get(\"GOOGLE_SEARCH_API_KEY\")"
   ]
  },
  {
   "cell_type": "markdown",
   "id": "be7e14c3",
   "metadata": {},
   "source": [
    "### Method 1: [Langchain's GoogleSearchAPIWrapper](https://python.langchain.com/docs/integrations/tools/google_search)"
   ]
  },
  {
   "cell_type": "code",
   "execution_count": 8,
   "id": "5a7c63be",
   "metadata": {},
   "outputs": [],
   "source": [
    "from langchain.tools import Tool\n",
    "from langchain_community.utilities import GoogleSearchAPIWrapper\n",
    "\n",
    "search = GoogleSearchAPIWrapper()\n",
    "\n",
    "tool = Tool(\n",
    "    name=\"google_search\",\n",
    "    description=\"Search Google for recent results.\",\n",
    "    func=search.run,\n",
    ")"
   ]
  },
  {
   "cell_type": "code",
   "execution_count": 9,
   "id": "20e473ad",
   "metadata": {},
   "outputs": [
    {
     "data": {
      "text/plain": [
       "'Jan 31, 2024 ... They must negotiate a new pay package that has the approval of shareholders and of Musk, who recently demanded an increase in his ownership\\xa0... Jan 30, 2024 ... Elon Musk\\'s $55 billion pay package at Tesla was struck down by a Delaware judge after a shareholder challenged it as excessive. Feb 12, 2024 ... 30, Delaware Chancellor Kathaleen St. Jude McCormick invalidated the pay package that Tesla established for Musk in 2018, ruling that the\\xa0... Nov 15, 2022 ... Elon Musk pay package at Tesla challenged in court. By RANDALL CHASE AP ... new compensation plan to help finance his dream of colonizing Mars. Feb 2, 2024 ... ... Elon Musk\\'s hefty pay package earlier this week. Musk said the Austin-based company will hold a shareholder vote to determine if Tesla will\\xa0... Nov 16, 2022 ... In the past three weeks, Musk has laid off thousands of workers at Twitter, abruptly ended remote work and fired employees who criticized\\xa0... Jul 1, 2023 ... New and unverified counts will have an even lower limit of 300, he said. About two hours later, he tweeted, \"Rate limits increasing soon to 8000\\xa0... Jul 25, 2023 ... What is Twitter called now? · Why did Elon Musk change the Twitter logo? · How much did Elon Musk pay for Twitter? · Elon Musk\\'s son and the letter\\xa0... Jan 23, 2018 ... How Elon Musk could get tens of billions from new Tesla compensation plan ... Tesla has installed a new compensation plan for CEO Elon Musk that\\xa0... Mar 28, 2023 ... Unverified will become the new verified! And the blue Twitter check marks will reaffirm the old saying: “There\\'s a sucker born every minute, and\\xa0...'"
      ]
     },
     "execution_count": 9,
     "metadata": {},
     "output_type": "execute_result"
    }
   ],
   "source": [
    "results = tool.run(query)\n",
    "results"
   ]
  },
  {
   "cell_type": "code",
   "execution_count": null,
   "id": "ca0f674e",
   "metadata": {},
   "outputs": [],
   "source": [
    "def google_string_to_list(results):\n",
    "    #split results into pages by date such as Feb 12, 2024\n",
    "    pages = [page for page in re.split(\"(\\w{3} \\d{1,2}, \\d{4})\", results) if len(page) > 0]\n",
    "    all_dates = re.findall(\"(\\w{3} \\d{1,2}, \\d{4})\", results)\n",
    "\n",
    "    results_list=[]\n",
    "    for i in range(0, len(pages), 2):\n",
    "        if pages[i] == all_dates[int(i/2)]:\n",
    "            #if pages[i+1] startes with \" ... \" remove that part of string\n",
    "            # if pages[i+1].startswith(\" ... \"):\n",
    "            #     results_list.append(pages[i]+\":\"+pages[i+1][4:])\n",
    "            # else:\n",
    "            results_list.append(pages[i]+\":\"+pages[i+1])\n",
    "        else:\n",
    "            results_list.append(pages[i])\n",
    "            results_list.append(pages[i+1].strip(\"... \"))\n",
    "    return results_list"
   ]
  },
  {
   "cell_type": "code",
   "execution_count": 49,
   "id": "5b4b10fa",
   "metadata": {},
   "outputs": [
    {
     "data": {
      "text/plain": [
       "['Jan 31, 2024: ... They must negotiate a new pay package that has the approval of shareholders and of Musk, who recently demanded an increase in his ownership\\xa0... ',\n",
       " \"Jan 30, 2024: ... Elon Musk's $55 billion pay package at Tesla was struck down by a Delaware judge after a shareholder challenged it as excessive. \",\n",
       " 'Feb 12, 2024: ... 30, Delaware Chancellor Kathaleen St. Jude McCormick invalidated the pay package that Tesla established for Musk in 2018, ruling that the\\xa0... ',\n",
       " 'Nov 15, 2022: ... Elon Musk pay package at Tesla challenged in court. By RANDALL CHASE AP ... new compensation plan to help finance his dream of colonizing Mars. ',\n",
       " \"Feb 2, 2024: ... ... Elon Musk's hefty pay package earlier this week. Musk said the Austin-based company will hold a shareholder vote to determine if Tesla will\\xa0... \",\n",
       " 'Nov 16, 2022: ... In the past three weeks, Musk has laid off thousands of workers at Twitter, abruptly ended remote work and fired employees who criticized\\xa0... ',\n",
       " 'Jul 1, 2023: ... New and unverified counts will have an even lower limit of 300, he said. About two hours later, he tweeted, \"Rate limits increasing soon to 8000\\xa0... ',\n",
       " \"Jul 25, 2023: ... What is Twitter called now? · Why did Elon Musk change the Twitter logo? · How much did Elon Musk pay for Twitter? · Elon Musk's son and the letter\\xa0... \",\n",
       " 'Jan 23, 2018: ... How Elon Musk could get tens of billions from new Tesla compensation plan ... Tesla has installed a new compensation plan for CEO Elon Musk that\\xa0... ',\n",
       " \"Mar 28, 2023: ... Unverified will become the new verified! And the blue Twitter check marks will reaffirm the old saying: “There's a sucker born every minute, and\\xa0...\"]"
      ]
     },
     "execution_count": 49,
     "metadata": {},
     "output_type": "execute_result"
    }
   ],
   "source": [
    "results_list = google_string_to_list(results)\n",
    "results_list\n"
   ]
  },
  {
   "cell_type": "markdown",
   "id": "a3c3f013",
   "metadata": {},
   "source": [
    "### Method 2: Use [Google's API](https://developers.google.com/custom-search/v1/reference/rest/v1/cse/list) directly"
   ]
  },
  {
   "cell_type": "code",
   "execution_count": 83,
   "id": "1e144696",
   "metadata": {},
   "outputs": [],
   "source": [
    "def get_search_results_list(query, num_results=10):\n",
    "    \"\"\"\n",
    "    Get search results from Google Custom Search API\n",
    "    Returns a list of dictionaries\n",
    "    \"\"\"\n",
    "    data_list = []\n",
    "    for page_start in range(1, num_results+1, 10):\n",
    "        url = f\"https://www.googleapis.com/customsearch/v1?key={os.environ['GOOGLE_API_KEY']}&cx={os.environ['GOOGLE_CSE_ID']}&q={query}&start={page_start}\"\n",
    "        data = requests.get(url).json()\n",
    "        data_list.append(data)\n",
    "\n",
    "    return data_list\n",
    "\n",
    "def format_search_results(data_list):\n",
    "    \"\"\"\n",
    "\n",
    "    Returns formatted search results to use as context for LLM.\n",
    "\n",
    "    Parameters:\n",
    "    - data: Dictionary containing search result items.\n",
    "    \"\"\"\n",
    "    if type(data_list) == dict:\n",
    "        data_list = [data_list]\n",
    "        \n",
    "    results = \"\"\n",
    "    for data in data_list:\n",
    "        search_items = data.get(\"items\", [])        \n",
    "        for i, search_item in enumerate(search_items, start=1):\n",
    "            # Initialize default values for optional fields\n",
    "            title = search_item.get(\"title\", \"N/A\")\n",
    "            snippet = search_item.get(\"snippet\", \"N/A\")\n",
    "            html_snippet = search_item.get(\"htmlSnippet\", \"N/A\")\n",
    "            link = search_item.get(\"link\", \"N/A\")\n",
    "            \n",
    "            # Attempt to extract the long description, handling missing data gracefully\n",
    "            long_description = \"N/A\"\n",
    "            try:\n",
    "                long_description = search_item[\"pagemap\"][\"metatags\"][0].get(\"og:description\", \"N/A\")\n",
    "            except KeyError:\n",
    "                pass  # If the path to the long description does not exist, keep it as \"N/A\"\n",
    "            results += f\"Title: {title}\\nDescription: {snippet}\\nLong description: {long_description}\\nURL: {link}\\n\\n\"\n",
    "    return results[:-2]"
   ]
  },
  {
   "cell_type": "code",
   "execution_count": 85,
   "id": "c2249ae4",
   "metadata": {},
   "outputs": [
    {
     "name": "stdout",
     "output_type": "stream",
     "text": [
      "Title: Elon Musk's $55 billion pay package voided. What will Tesla do next?\n",
      "Description: Jan 31, 2024 ... They must negotiate a new pay package that has the approval of shareholders and of Musk, who recently demanded an increase in his ownership ...\n",
      "Long description: Why a Delaware judge canceled the $55.8 billion Tesla pay package that helped make Elon Musk the world’s richest person.\n",
      "URL: https://www.usatoday.com/story/money/2024/01/31/why-musk-tesla-pay-package-struck-down/72429357007/\n",
      "\n",
      "Title: Judge Voids Elon Musk's $55 Billion Tesla Pay Package\n",
      "Description: Jan 30, 2024 ... Elon Musk's $55 billion pay package at Tesla was struck down by a Delaware judge after a shareholder challenged it as excessive.\n",
      "Long description: Elon Musk's $55 billion pay package at Tesla was struck down by a Delaware judge after a shareholder challenged it as excessive. Ed Ludlow reports.\n",
      "URL: https://www.usatoday.com/videos/news/2024/01/30/judge-voids-elon-musks-55-billion-tesla-pay-package/72413711007/\n",
      "\n",
      "Title: Elon Musk's moves Neuralink location to Nevada\n",
      "Description: Feb 12, 2024 ... 30, Delaware Chancellor Kathaleen St. Jude McCormick invalidated the pay package that Tesla established for Musk in 2018, ruling that the ...\n",
      "Long description: Elon Musk’s brain implant company Neuralink has moved its legal corporate home from Delaware to Nevada after a Delaware judge struck down Musk's $55.8 billion pay package as CEO of Tesla.\n",
      "URL: https://www.usatoday.com/story/news/money/2024/02/12/elon-musks-moves-neuralink-location-to-nevada/72575915007/\n",
      "\n",
      "Title: Elon Musk's salary and perks questioned in Tesla lawsuit\n",
      "Description: Nov 15, 2022 ... Elon Musk pay package at Tesla challenged in court. By RANDALL CHASE AP ... new compensation plan to help finance his dream of colonizing Mars.\n",
      "Long description: Testimony is under way in a shareholder lawsuit challenging approval of a compensation plan potentially worth more than $55 billion for CEO Elon Musk.\n",
      "URL: https://www.usatoday.com/story/tech/2022/11/15/elon-musks-salary-and-perks-questioned-tesla-lawsuit/10706772002/\n",
      "\n",
      "Title: Tesla recall: Models S, X, 3, Y and Cybertruck impacted\n",
      "Description: Feb 2, 2024 ... ... Elon Musk's hefty pay package earlier this week. Musk said the Austin-based company will hold a shareholder vote to determine if Tesla will ...\n",
      "Long description: Tesla is recalling over 2 million vehicles in the US due to the incorrect font size appearing on warning lights.\n",
      "URL: https://www.usatoday.com/story/money/cars/recalls/2024/02/02/tesla-recall-font-size-warning-lights/72447967007/\n",
      "\n",
      "Title: How new boss Elon Musk has changed Twitter since buying the ...\n",
      "Description: Nov 16, 2022 ... In the past three weeks, Musk has laid off thousands of workers at Twitter, abruptly ended remote work and fired employees who criticized ...\n",
      "Long description: In the past three weeks, Musk has laid off thousands of workers at Twitter, abruptly ended remote work and fired employees who criticized him.\n",
      "URL: https://www.usatoday.com/story/tech/2022/11/16/elon-musk-changed-after-buying-twitter/10711861002/\n",
      "\n",
      "Title: Elon Musk says he's temporarily capping how many tweets you can ...\n",
      "Description: Jul 1, 2023 ... New and unverified counts will have an even lower limit of 300, he said. About two hours later, he tweeted, \"Rate limits increasing soon to 8000 ...\n",
      "Long description: Twitter owner Elon Musk on Saturday set \"temporary limits\" on how many tweets users can read. Now some Twitter are getting 'rate limit exceeded' errors.\n",
      "URL: https://www.usatoday.com/story/tech/news/2023/07/01/elon-musk-twitter-tweet-reading-limits/70375995007/\n",
      "\n",
      "Title: X's and Xeets: What we know about Twitter's rebrand, new logo so far\n",
      "Description: Jul 25, 2023 ... What is Twitter called now? · Why did Elon Musk change the Twitter logo? · How much did Elon Musk pay for Twitter? · Elon Musk's son and the letter ...\n",
      "Long description: Elon Musk set into action plans to rebrand Twitter as simply \"X\" on Monday. What you need to know about the changes happening beyond the new logo.\n",
      "URL: https://www.usatoday.com/story/money/2023/07/25/twitter-rebrand-new-logo-faqs/70465203007/\n",
      "\n",
      "Title: Elon Musk is taking away my blue check mark on Twitter. Who am I if ...\n",
      "Description: Mar 28, 2023 ... Unverified will become the new verified! And the blue Twitter check marks will reaffirm the old saying: “There's a sucker born every minute, and ...\n",
      "Long description: On April 1, Elon Musk will be robbing verified Twitter users of that which makes us special – the fancy blue check marks next to our names.\n",
      "URL: https://www.usatoday.com/story/opinion/columnists/2023/03/28/twitter-blue-pay-musk-notable/11550579002/\n",
      "\n",
      "Title: How Elon Musk could get tens of billions from new Tesla pay plan\n",
      "Description: Jan 23, 2018 ... How Elon Musk could get tens of billions from new Tesla compensation plan ... Tesla has installed a new compensation plan for CEO Elon Musk that ...\n",
      "Long description: Tesla has installed a new compensation plan for CEO Elon Musk rewarding him if it becomes \"one of the most valuable companies in the world.\"\n",
      "URL: https://www.usatoday.com/story/money/cars/2018/01/23/elon-musk-tesla/1056880001/\n"
     ]
    }
   ],
   "source": [
    "results_list = get_search_results_list(query, num_results=10)\n",
    "print(format_search_results(results_list))"
   ]
  },
  {
   "cell_type": "markdown",
   "id": "bebff430",
   "metadata": {},
   "source": [
    "# DuckDuckGo\n",
    "\n",
    "Depending on what you are looking for you may want to use different calls that are part of the [DuckDuckGo python package](https://pypi.org/project/duckduckgo-search/#1-text---text-search-by-duckduckgocom). Here are 2 api routes\n",
    "\n",
    "* Method 1: Answers api route\n",
    "* Method 2: Text api route"
   ]
  },
  {
   "cell_type": "code",
   "execution_count": 87,
   "id": "bccb6e25",
   "metadata": {},
   "outputs": [
    {
     "name": "stdout",
     "output_type": "stream",
     "text": [
      "What is the latest news about Elon Musk's pay package? site:www.usatoday.com\n"
     ]
    }
   ],
   "source": [
    "from duckduckgo_search import DDGS\n",
    "print(query)"
   ]
  },
  {
   "cell_type": "code",
   "execution_count": 4,
   "id": "c8f2473c",
   "metadata": {},
   "outputs": [
    {
     "name": "stdout",
     "output_type": "stream",
     "text": [
      "What is the latest news about Elon Musk's pay package? site:www.usatoday.com\n"
     ]
    },
    {
     "name": "stderr",
     "output_type": "stream",
     "text": [
      "c:\\Users\\burd8\\Anaconda3\\envs\\datarobot\\lib\\site-packages\\curl_cffi\\aio.py:192: UserWarning: Curlm alread closed! quitting from process_data\n",
      "  warnings.warn(\"Curlm alread closed! quitting from process_data\")\n"
     ]
    }
   ],
   "source": [
    "answers = []\n",
    "\n",
    "with DDGS() as ddgs:\n",
    "    for r in ddgs.answers(company_name):\n",
    "        answers.append(r)"
   ]
  },
  {
   "cell_type": "code",
   "execution_count": 5,
   "id": "e5aa8d16",
   "metadata": {},
   "outputs": [
    {
     "data": {
      "text/plain": [
       "[{'icon': None,\n",
       "  'text': 'Tesla, Inc. Tesla, Inc. is an American multinational automotive and clean energy company headquartered in...',\n",
       "  'topic': None,\n",
       "  'url': 'https://duckduckgo.com/Tesla%2C_Inc.'},\n",
       " {'icon': 'https://duckduckgo.com/i/a9c448ae.jpeg',\n",
       "  'text': 'Nikola Tesla A Serbian-American inventor, electrical engineer, mechanical engineer, and futurist.',\n",
       "  'topic': None,\n",
       "  'url': 'https://duckduckgo.com/Nikola_Tesla'},\n",
       " {'icon': 'https://duckduckgo.com/i/de3f3ee7.jpg',\n",
       "  'text': 'Tesla (unit) The unit of magnetic flux density in the International System of Units.',\n",
       "  'topic': None,\n",
       "  'url': 'https://duckduckgo.com/Tesla_(unit)'},\n",
       " {'icon': None,\n",
       "  'text': 'Tesla a.s. TESLA a.s. is a Czech manufacturer and supplier of special radio communication and security...',\n",
       "  'topic': 'Companies and organizations',\n",
       "  'url': 'https://duckduckgo.com/Tesla_a.s.'},\n",
       " {'icon': None,\n",
       "  'text': 'Tesla Electric Light and Manufacturing An electric lighting company in Rahway, New Jersey that operated from December 1884 through 1886.',\n",
       "  'topic': 'Companies and organizations',\n",
       "  'url': 'https://duckduckgo.com/Tesla_Electric_Light_and_Manufacturing'},\n",
       " {'icon': 'https://duckduckgo.com/i/c16fe7da.jpg',\n",
       "  'text': 'Tesla Science Center at Wardenclyffe A nonprofit organization established to develop a regional science and technology center, museum...',\n",
       "  'topic': 'Companies and organizations',\n",
       "  'url': 'https://duckduckgo.com/Tesla_Science_Center_at_Wardenclyffe'},\n",
       " {'icon': 'https://duckduckgo.com/i/4e39eb43.jpg',\n",
       "  'text': 'Tesla (band) An American rock band from Sacramento, California.',\n",
       "  'topic': 'Media and entertainment',\n",
       "  'url': 'https://duckduckgo.com/Tesla_(band)'},\n",
       " {'icon': None,\n",
       "  'text': 'Tesla – Lightning in His Hand A 2003 opera by Constantine Koukias.',\n",
       "  'topic': 'Media and entertainment',\n",
       "  'url': 'https://duckduckgo.com/Tesla_%E2%80%93_Lightning_in_His_Hand'},\n",
       " {'icon': None,\n",
       "  'text': '\"Tesla\" (song) A song by American rapper Lil Yachty, released on August 25, 2023, under Quality Control Music...',\n",
       "  'topic': 'Media and entertainment',\n",
       "  'url': 'https://duckduckgo.com/Tesla_(song)'},\n",
       " {'icon': None,\n",
       "  'text': 'Tesla (2016 film) Season twenty-eight of the television program American Experience aired on the PBS network in the...',\n",
       "  'topic': 'Media and entertainment',\n",
       "  'url': 'https://duckduckgo.com/American_Experience_(season_28)'},\n",
       " {'icon': None,\n",
       "  'text': 'Tesla (2020 film) A 2020 American biographical drama film written and directed by Michael Almereyda.',\n",
       "  'topic': 'Media and entertainment',\n",
       "  'url': 'https://duckduckgo.com/Tesla_(2020_film)'},\n",
       " {'icon': 'https://duckduckgo.com/i/9ff21d0d.jpg',\n",
       "  'text': 'Tesla, West Virginia An unincorporated community in Braxton County, West Virginia, United States.',\n",
       "  'topic': 'Places',\n",
       "  'url': 'https://duckduckgo.com/Tesla%2C_West_Virginia'},\n",
       " {'icon': None,\n",
       "  'text': 'Tesla Fault The Tesla Fault can be found in the northeastern Diablo Range, California.',\n",
       "  'topic': 'Places',\n",
       "  'url': 'https://duckduckgo.com/Tesla_Fault'},\n",
       " {'icon': None,\n",
       "  'text': 'Tesla River A tributary of the Tărlung River in Romania.',\n",
       "  'topic': 'Places',\n",
       "  'url': 'https://duckduckgo.com/Tesla_River'},\n",
       " {'icon': None,\n",
       "  'text': '2244 Tesla A carbonaceous asteroid from the central region of the asteroid belt, approximately 25 kilometers...',\n",
       "  'topic': 'Places',\n",
       "  'url': 'https://duckduckgo.com/2244_Tesla'},\n",
       " {'icon': None,\n",
       "  'text': \"Tesla (crater) A lunar impact crater that is located on the Moon's far side, just to the southeast of the larger H.\",\n",
       "  'topic': 'Places',\n",
       "  'url': 'https://duckduckgo.com/Tesla_(crater)'},\n",
       " {'icon': 'https://duckduckgo.com/i/61e0d8ea.jpg',\n",
       "  'text': 'Tesla (microarchitecture) The codename for a GPU microarchitecture developed by Nvidia, and released in 2006, as the...',\n",
       "  'topic': 'Science & Technology',\n",
       "  'url': 'https://duckduckgo.com/Tesla_(microarchitecture)'},\n",
       " {'icon': None,\n",
       "  'text': 'Teraelectronvolt Energy Superconducting Linear Accelerator A proposed particle collider, now part of the International Linear Collider project.',\n",
       "  'topic': 'Science & Technology',\n",
       "  'url': 'https://duckduckgo.com/Teraelectronvolt_Energy_Superconducting_Linear_Accelerator'},\n",
       " {'icon': 'https://duckduckgo.com/i/79e45289.png',\n",
       "  'text': 'Tesla valve A fixed-geometry passive check valve.',\n",
       "  'topic': 'Science & Technology',\n",
       "  'url': 'https://duckduckgo.com/Tesla_valve'},\n",
       " {'icon': None,\n",
       "  'text': \"Nvidia Tesla The name of Nvidia's line of products targeted at stream processing or general-purpose graphics...\",\n",
       "  'topic': 'Science & Technology',\n",
       "  'url': 'https://duckduckgo.com/Nvidia_Tesla'},\n",
       " {'icon': 'https://duckduckgo.com/i/9c33fcae.jpg',\n",
       "  'text': 'Tesla coil An electrical resonant transformer circuit designed by inventor Nikola Tesla in 1891.',\n",
       "  'topic': 'Science & Technology',\n",
       "  'url': 'https://duckduckgo.com/Tesla_coil'},\n",
       " {'icon': None,\n",
       "  'text': 'Nikola Tesla in popular culture Nikola Tesla is portrayed in many forms of popular culture.',\n",
       "  'topic': 'See also',\n",
       "  'url': 'https://duckduckgo.com/Nikola_Tesla_in_popular_culture'},\n",
       " {'icon': None,\n",
       "  'text': 'TSLAQ A loose, international collective of largely anonymous short-sellers, skeptics, and researchers...',\n",
       "  'topic': 'See also',\n",
       "  'url': 'https://duckduckgo.com/TSLAQ'},\n",
       " {'icon': None,\n",
       "  'text': \"Nikola Tesla See related meanings for the phrase 'Nikola Tesla'.\",\n",
       "  'topic': 'See also',\n",
       "  'url': 'https://duckduckgo.com/d/Nikola_Tesla'},\n",
       " {'icon': None,\n",
       "  'text': 'Tesler A surname.',\n",
       "  'topic': 'See also',\n",
       "  'url': 'https://duckduckgo.com/d/Tesler'}]"
      ]
     },
     "execution_count": 5,
     "metadata": {},
     "output_type": "execute_result"
    }
   ],
   "source": [
    "answers"
   ]
  },
  {
   "cell_type": "code",
   "execution_count": 89,
   "id": "d4c2866c",
   "metadata": {},
   "outputs": [
    {
     "data": {
      "text/plain": [
       "[{'title': \"Elon Musk's $55 billion pay package voided. What will Tesla do next?\",\n",
       "  'href': 'https://www.usatoday.com/story/money/2024/01/31/why-musk-tesla-pay-package-struck-down/72429357007/',\n",
       "  'body': 'A Delaware judge this week voided the $55.8 billion Tesla pay package that helped make Musk the world\\'s richest person, calling it an \"unfathomable sum\" that was unfair to shareholders ...'},\n",
       " {'title': 'Elon Musk says Tesla shareholders to vote on incorporating in Texas',\n",
       "  'href': 'https://www.usatoday.com/story/money/2024/02/01/elon-musk-tesla-delaware-texas/72440851007/',\n",
       "  'body': \"Tuesday evening, a Delaware judge Tuesday overturned Elon Musk's $55.8 billion Tesla pay package, siding with a shareholder who argued the company breached its fiduciary duties by awarding Musk ...\"},\n",
       " {'title': \"Judge Voids Elon Musk's $55 Billion Tesla Pay Package - USA TODAY\",\n",
       "  'href': 'https://www.usatoday.com/videos/news/2024/01/30/judge-voids-elon-musks-55-billion-tesla-pay-package/72413711007/',\n",
       "  'body': \"Elon Musk's $55 billion pay package at Tesla was struck down by a Delaware judge after a shareholder challenged it as excessive. Ed Ludlow reports. Efrain Hidalgo's journey Mines may deplete water ...\"},\n",
       " {'title': \"Delaware judge overturns Elon Musk's $55.8B Tesla pay deal - USA TODAY\",\n",
       "  'href': 'https://www.usatoday.com/videos/news/2024/02/01/delaware-judge-overturns-elon-musks-558-b-tesla-pay-deal/72419239007/',\n",
       "  'body': 'A judge in Delaware has nullified Elon Musk\\'s $55.8 billion pay deal from 2018, calling it an \"unfathomable sum\" and unfair to shareholders.'},\n",
       " {'title': \"Elon Musk's tweets must still be approved by a Tesla attorney - USA TODAY\",\n",
       "  'href': 'https://www.usatoday.com/story/tech/2023/05/15/elon-musk-tweets-approval-tesla-attorney/70219227007/',\n",
       "  'body': 'Twitter owner Elon Musk must still have tweets approved by lawyer, appeals court rules. NEW YORK — Elon Musk cannot back out of a settlement with securities regulators that was reached after his ...'},\n",
       " {'title': 'Tesla recall: Models S, X, 3, Y and Cybertruck impacted - USA TODAY',\n",
       "  'href': 'https://www.usatoday.com/story/money/cars/recalls/2024/02/02/tesla-recall-font-size-warning-lights/72447967007/',\n",
       "  'body': \"Tuesday evening, a Delaware judge Tuesday overturned Elon Musk's $55.8 billion Tesla pay package, siding with a shareholder who argued the company breached its fiduciary duties by awarding Musk ...\"},\n",
       " {'title': 'Elon Musk everything app explained - USA TODAY',\n",
       "  'href': 'https://www.usatoday.com/story/tech/columnist/2023/08/04/elon-musk-everything-app-explained/70520364007/',\n",
       "  'body': '1:23. Elon Musk\\'s sloppy rebrand from Twitter to \"X ,\" the \"everything app,\" begs the question, \\'Just how much damage can one billionaire do?\\'. The answer could be more complicated ...'},\n",
       " {'title': 'Deep fake video alters footage from CNN, Tesla meeting | Fact check',\n",
       "  'href': 'https://www.usatoday.com/story/news/factcheck/2023/08/23/deep-fake-video-alters-footage-from-cnn-tesla-meeting-fact-check/70652422007/',\n",
       "  'body': 'The claim: CNN reported Elon Musk software means EU citizens no longer need to work. An Aug. 15 Facebook video (direct link, archived link) appears to show CNN anchor Kaitlan Collins announcing ...'},\n",
       " {'title': 'Tesla (TSLA) Stock Forecast and Price Prediction - USA TODAY',\n",
       "  'href': 'https://www.usatoday.com/money/blueprint/investing/stock-forecast-tesla/',\n",
       "  'body': \"CEO Elon Musk has built a large cultlike following, but he also creates risks for investors. ... Tesla's stock hasn't set a new all-time high since November 2021. However, Tesla has seemingly ...\"},\n",
       " {'title': \"Meet Kairan Quazi, the newest engineer at SpaceX. He's 14. - USA TODAY\",\n",
       "  'href': 'https://www.usatoday.com/story/money/2023/06/13/kairan-quazi-teenage-space-x-engineer-elon-musk/70316906007/',\n",
       "  'body': \"Elon Musk and brain chipsElon Musk's Neuralink has FDA approval to put chips in humans' brains. Here's what's next. Here's what's next. 'My soul was slowly dying'\"}]"
      ]
     },
     "execution_count": 89,
     "metadata": {},
     "output_type": "execute_result"
    }
   ],
   "source": [
    "results = []\n",
    "with DDGS() as ddgs:\n",
    "    for r in ddgs.text(query, region='wt-wt', safesearch='moderate', timelimit='y', max_results=10):\n",
    "        results.append(r)\n",
    "\n",
    "results"
   ]
  },
  {
   "cell_type": "code",
   "execution_count": 90,
   "id": "a23995ef",
   "metadata": {},
   "outputs": [
    {
     "data": {
      "text/plain": [
       "{'title': \"Elon Musk's $55 billion pay package voided. What will Tesla do next?\",\n",
       " 'href': 'https://www.usatoday.com/story/money/2024/01/31/why-musk-tesla-pay-package-struck-down/72429357007/',\n",
       " 'body': 'A Delaware judge this week voided the $55.8 billion Tesla pay package that helped make Musk the world\\'s richest person, calling it an \"unfathomable sum\" that was unfair to shareholders ...'}"
      ]
     },
     "execution_count": 90,
     "metadata": {},
     "output_type": "execute_result"
    }
   ],
   "source": [
    "results[0]"
   ]
  }
 ],
 "metadata": {
  "colab": {
   "provenance": []
  },
  "kernelspec": {
   "display_name": "Python 3",
   "language": "python",
   "name": "python3"
  },
  "language_info": {
   "codemirror_mode": {
    "name": "ipython",
    "version": 3
   },
   "file_extension": ".py",
   "mimetype": "text/x-python",
   "name": "python",
   "nbconvert_exporter": "python",
   "pygments_lexer": "ipython3",
   "version": "3.8.10"
  }
 },
 "nbformat": 4,
 "nbformat_minor": 5
}
