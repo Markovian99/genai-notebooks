{
 "cells": [
  {
   "cell_type": "markdown",
   "id": "1275150c",
   "metadata": {
    "id": "3d50f6b3"
   },
   "source": [
    "# Notebook 3: Approaches for Tabular Data\n",
    "\n",
    "In this notebook we will show a few ways to use LLM pipelines with tabular data. I like to think of working with tabular data with LLMs with 3 options.\n",
    "\n",
    "1. **Static Approach:** Store data in a knowledge base and try to retrieve the relevant data to answer the question directly\n",
    "2. **Templated Code / Function Calling Approach:** Have pre-defined code that can run to satisfy certain requests. Extract inputs and produce answer using outputs with LLMs.\n",
    "3. **AI Agent Approach:** The LLM creates code to run in order to produce analysis required to answer the question.\n",
    " \n",
    "Complexity and reliance on the LLM increases from 1. where no code is executed to 2. where only pre-define coded is executed to 3. where the LLM produces code to execute. The separation is not perfectly clean agents can also just point only to pre-defined code, but this is just a framework. Additionally, for 1., the stored data could consist of extensively pre-process \"views\" of the data aimed at satisfying the majority of user queries. \n",
    "\n",
    "In this notebook, we will focus on 1. and 3., but demonstrate 2. through the use of agents to some extent. We will consider on Tesla (TSLA) stock prices data.\n",
    "* First, we will use the common approach of using LangChain's [CSV Loader](https://python.langchain.com/docs/integrations/document_loaders/csv)\n",
    "* Next, we will explore Langchain's [TimeWeightedVectorStoreRetriever](https://python.langchain.com/docs/modules/data_connection/retrievers/time_weighted_vectorstore) and learn why this may not be what we want\n",
    "* Then, we will explore using agent based approaches from [LangChain](https://github.com/langchain-ai/langchain/tree/master) and [Pandas-AI](https://github.com/Sinaptik-AI/pandas-ai/tree/main)"
   ]
  },
  {
   "cell_type": "markdown",
   "metadata": {
    "id": "a23f9e06"
   },
   "source": [
    "## Import libraries and load the stock data"
   ]
  },
  {
   "cell_type": "code",
   "execution_count": 3,
   "id": "96e6737a",
   "metadata": {
    "chart_settings": null,
    "custom_metric_settings": null,
    "dataframe_view_options": null,
    "datarobot": {
     "language": "python"
    },
    "disable_run": null,
    "hide_code": null,
    "hide_results": null,
    "id": "64e51b8d4fcea0e1deb7dcf3"
   },
   "outputs": [],
   "source": [
    "import pandas as pd\n",
    "import os\n",
    "import csv\n",
    "import json\n",
    "import time\n",
    "import re\n",
    "import numpy as np\n",
    "from datetime import datetime\n",
    "\n",
    "from sklearn.metrics.pairwise import cosine_similarity\n",
    "import faiss\n",
    "\n",
    "#We will use langchain to create a vector store to retrieve stronger negatives\n",
    "from langchain.vectorstores.faiss import FAISS\n",
    "from langchain.docstore import InMemoryDocstore\n",
    "from langchain_core.vectorstores import VectorStoreRetriever\n",
    "from langchain.document_loaders import UnstructuredPDFLoader, csv_loader\n",
    "from langchain_community.embeddings import HuggingFaceEmbeddings\n",
    "from langchain.retrievers import TimeWeightedVectorStoreRetriever\n",
    "from langchain.utils import mock_now\n",
    "\n",
    "\n",
    "EMBEDDING_MODEL_NAME = \"all-MiniLM-L6-v2\"## \"BAAI/bge-base-en-v1.5\"\"all-MiniLM-L6-v2\""
   ]
  },
  {
   "cell_type": "code",
   "execution_count": 7,
   "id": "05b8f31f",
   "metadata": {
    "id": "71be0425",
    "outputId": "6a0e02bd-0e6a-413a-c7c2-c985c2c7b246"
   },
   "outputs": [
    {
     "data": {
      "text/plain": [
       "Document(page_content='Date: 2010-06-29\\nOpen: 1.266667\\nHigh: 1.666667\\nLow: 1.169333\\nClose: 1.592667\\nAdj Close: 1.592667\\nVolume: 281494500', metadata={'source': '../data/TSLA.csv', 'row': 0})"
      ]
     },
     "execution_count": 7,
     "metadata": {},
     "output_type": "execute_result"
    }
   ],
   "source": [
    "#load stock data. Load dataframe and load directly as docs\n",
    "tsla_stock = pd.read_csv(\"../data/TSLA.csv\")\n",
    "spy_etf = pd.read_csv(\"../data/SPY.csv\") #for later"
   ]
  },
  {
   "cell_type": "markdown",
   "metadata": {
    "id": "a3913892"
   },
   "source": [
    "## Static Approaches \n",
    "\n",
    "Here we use a knowledge base of TSLA's stock data\n",
    "\n",
    "#### Using LangChain's CSVLoader\n",
    "This just loads each record as a json in an individual document in our vector database to retrieve"
   ]
  },
  {
   "cell_type": "code",
   "execution_count": 5,
   "id": "d5acb2e9",
   "metadata": {
    "id": "4433b705"
   },
   "outputs": [],
   "source": [
    "loader  = csv_loader.CSVLoader(file_path=\"../data/TSLA.csv\")\n",
    "stock_data_docs = loader.load()\n",
    "stock_data_docs[0]\n",
    "\n",
    "#for the retrieval process\n",
    "embedding_function = HuggingFaceEmbeddings(\n",
    "        model_name=EMBEDDING_MODEL_NAME,\n",
    "        cache_folder=\"../models/sentencetransformers\"\n",
    "    )"
   ]
  },
  {
   "cell_type": "code",
   "execution_count": 4,
   "id": "b7a6e61e",
   "metadata": {
    "id": "d0a4c7ea",
    "outputId": "815b32ef-e287-4be3-9c64-2ad24cdba83f"
   },
   "outputs": [
    {
     "data": {
      "text/plain": [
       "Document(page_content='Daily stock market data for Tesla (TSLA):\\nDate: 2010-06-29\\nOpen: 1.266667\\nHigh: 1.666667\\nLow: 1.169333\\nClose: 1.592667\\nAdj Close: 1.592667\\nVolume: 281494500', metadata={'source': '../data/TSLA.csv', 'row': 0, 'last_accessed_at': datetime.datetime(2010, 6, 29, 0, 0)})"
      ]
     },
     "execution_count": 4,
     "metadata": {},
     "output_type": "execute_result"
    }
   ],
   "source": [
    "#first let's add more context to help with Retrieval and add date to metadata (for later use)\n",
    "for ii in range(0, len(stock_data_docs)):\n",
    "    stock_data_docs[ii].page_content = \"Daily stock market data for Tesla (TSLA):\\n\" + stock_data_docs[ii].page_content\n",
    "    date = re.findall(r'Date: (\\d{4}-\\d{2}-\\d{2})', stock_data_docs[ii].page_content)\n",
    "    if len(date) > 0:\n",
    "        stock_data_docs[ii].metadata['last_accessed_at'] = datetime.strptime(date[0], '%Y-%m-%d')\n",
    "    else:\n",
    "        stock_data_docs[ii].metadata['last_accessed_at'] = None\n",
    "stock_data_docs[0]"
   ]
  },
  {
   "cell_type": "code",
   "execution_count": 5,
   "id": "187f0d40",
   "metadata": {
    "id": "59dfff73"
   },
   "outputs": [],
   "source": [
    "db_data = FAISS.from_documents(stock_data_docs, embedding_function)\n",
    "db_data.save_local(\"../data/faiss_stock\")"
   ]
  },
  {
   "cell_type": "markdown",
   "metadata": {
    "id": "efd720ab"
   },
   "source": [
    "Our stock data is just through 2024-02-02 so we will specify that as today's date"
   ]
  },
  {
   "cell_type": "code",
   "execution_count": 6,
   "id": "ed95b3ee",
   "metadata": {
    "id": "b0305479"
   },
   "outputs": [],
   "source": [
    "top_k=16\n",
    "retriever_stock = VectorStoreRetriever(vectorstore=db_data, search_kwargs={\"k\": top_k})\n",
    "\n",
    "def generate_response(prompt, retriever):\n",
    "    #today's date - let's pretend it is 2024-02-02\n",
    "    today = \"2024-02-02\"\n",
    "    #replace \"current\" or \"today\" with today's date\n",
    "    prompt = re.sub(r'current|today', today, prompt, flags=re.IGNORECASE)\n",
    "    print(\"Prompt: \", prompt)\n",
    "    # Get the top k most similar documents\n",
    "    results = retriever.get_relevant_documents(prompt)\n",
    "    return results"
   ]
  },
  {
   "cell_type": "code",
   "execution_count": 7,
   "id": "64315a68",
   "metadata": {
    "id": "46ea2ac9",
    "outputId": "adf2c389-592c-42c4-f0c6-8126c84a3200"
   },
   "outputs": [
    {
     "name": "stdout",
     "output_type": "stream",
     "text": [
      "Prompt:  What is TSLA's 2024-02-02 close price?\n"
     ]
    },
    {
     "data": {
      "text/plain": [
       "[Document(page_content='Daily stock market data for Tesla (TSLA):\\nDate: 2021-08-03\\nOpen: 239.666672\\nHigh: 240.883331\\nLow: 233.669998\\nClose: 236.580002\\nAdj Close: 236.580002\\nVolume: 64860900', metadata={'source': '../data/TSLA.csv', 'row': 2793, 'last_accessed_at': datetime.datetime(2021, 8, 3, 0, 0)}),\n",
       " Document(page_content='Daily stock market data for Tesla (TSLA):\\nDate: 2021-04-20\\nOpen: 239.139999\\nHigh: 245.750000\\nLow: 236.896667\\nClose: 239.663330\\nAdj Close: 239.663330\\nVolume: 106827000', metadata={'source': '../data/TSLA.csv', 'row': 2720, 'last_accessed_at': datetime.datetime(2021, 4, 20, 0, 0)}),\n",
       " Document(page_content='Daily stock market data for Tesla (TSLA):\\nDate: 2022-08-18\\nOpen: 306.000000\\nHigh: 306.500000\\nLow: 301.853333\\nClose: 302.869995\\nAdj Close: 302.869995\\nVolume: 47500500', metadata={'source': '../data/TSLA.csv', 'row': 3056, 'last_accessed_at': datetime.datetime(2022, 8, 18, 0, 0)}),\n",
       " Document(page_content='Daily stock market data for Tesla (TSLA):\\nDate: 2023-10-25\\nOpen: 215.880005\\nHigh: 220.100006\\nLow: 212.199997\\nClose: 212.419998\\nAdj Close: 212.419998\\nVolume: 107065100', metadata={'source': '../data/TSLA.csv', 'row': 3354, 'last_accessed_at': datetime.datetime(2023, 10, 25, 0, 0)}),\n",
       " Document(page_content='Daily stock market data for Tesla (TSLA):\\nDate: 2023-12-04\\nOpen: 235.750000\\nHigh: 239.369995\\nLow: 233.289993\\nClose: 235.580002\\nAdj Close: 235.580002\\nVolume: 104099800', metadata={'source': '../data/TSLA.csv', 'row': 3381, 'last_accessed_at': datetime.datetime(2023, 12, 4, 0, 0)}),\n",
       " Document(page_content='Daily stock market data for Tesla (TSLA):\\nDate: 2022-12-19\\nOpen: 154.000000\\nHigh: 155.250000\\nLow: 145.820007\\nClose: 149.869995\\nAdj Close: 149.869995\\nVolume: 139390600', metadata={'source': '../data/TSLA.csv', 'row': 3141, 'last_accessed_at': datetime.datetime(2022, 12, 19, 0, 0)}),\n",
       " Document(page_content='Daily stock market data for Tesla (TSLA):\\nDate: 2022-07-15\\nOpen: 240.000000\\nHigh: 243.623337\\nLow: 236.889999\\nClose: 240.066666\\nAdj Close: 240.066666\\nVolume: 69683100', metadata={'source': '../data/TSLA.csv', 'row': 3032, 'last_accessed_at': datetime.datetime(2022, 7, 15, 0, 0)}),\n",
       " Document(page_content='Daily stock market data for Tesla (TSLA):\\nDate: 2021-01-06\\nOpen: 252.830002\\nHigh: 258.000000\\nLow: 249.699997\\nClose: 251.993332\\nAdj Close: 251.993332\\nVolume: 134100000', metadata={'source': '../data/TSLA.csv', 'row': 2649, 'last_accessed_at': datetime.datetime(2021, 1, 6, 0, 0)}),\n",
       " Document(page_content='Daily stock market data for Tesla (TSLA):\\nDate: 2023-02-17\\nOpen: 199.990005\\nHigh: 208.440002\\nLow: 197.500000\\nClose: 208.309998\\nAdj Close: 208.309998\\nVolume: 213738500', metadata={'source': '../data/TSLA.csv', 'row': 3182, 'last_accessed_at': datetime.datetime(2023, 2, 17, 0, 0)}),\n",
       " Document(page_content='Daily stock market data for Tesla (TSLA):\\nDate: 2022-05-02\\nOpen: 286.923340\\nHigh: 302.119995\\nLow: 282.676666\\nClose: 300.980011\\nAdj Close: 300.980011\\nVolume: 75781500', metadata={'source': '../data/TSLA.csv', 'row': 2981, 'last_accessed_at': datetime.datetime(2022, 5, 2, 0, 0)}),\n",
       " Document(page_content='Daily stock market data for Tesla (TSLA):\\nDate: 2022-09-16\\nOpen: 299.609985\\nHigh: 303.709991\\nLow: 295.600006\\nClose: 303.350006\\nAdj Close: 303.350006\\nVolume: 87087800', metadata={'source': '../data/TSLA.csv', 'row': 3076, 'last_accessed_at': datetime.datetime(2022, 9, 16, 0, 0)}),\n",
       " Document(page_content='Daily stock market data for Tesla (TSLA):\\nDate: 2023-02-21\\nOpen: 204.990005\\nHigh: 209.710007\\nLow: 197.220001\\nClose: 197.369995\\nAdj Close: 197.369995\\nVolume: 180018600', metadata={'source': '../data/TSLA.csv', 'row': 3183, 'last_accessed_at': datetime.datetime(2023, 2, 21, 0, 0)}),\n",
       " Document(page_content='Daily stock market data for Tesla (TSLA):\\nDate: 2021-08-12\\nOpen: 235.446671\\nHigh: 240.933334\\nLow: 233.133331\\nClose: 240.750000\\nAdj Close: 240.750000\\nVolume: 52377300', metadata={'source': '../data/TSLA.csv', 'row': 2800, 'last_accessed_at': datetime.datetime(2021, 8, 12, 0, 0)}),\n",
       " Document(page_content='Daily stock market data for Tesla (TSLA):\\nDate: 2022-10-25\\nOpen: 210.100006\\nHigh: 224.350006\\nLow: 210.000000\\nClose: 222.419998\\nAdj Close: 222.419998\\nVolume: 96507900', metadata={'source': '../data/TSLA.csv', 'row': 3103, 'last_accessed_at': datetime.datetime(2022, 10, 25, 0, 0)}),\n",
       " Document(page_content='Daily stock market data for Tesla (TSLA):\\nDate: 2022-11-04\\nOpen: 222.600006\\nHigh: 223.800003\\nLow: 203.080002\\nClose: 207.470001\\nAdj Close: 207.470001\\nVolume: 98622200', metadata={'source': '../data/TSLA.csv', 'row': 3111, 'last_accessed_at': datetime.datetime(2022, 11, 4, 0, 0)}),\n",
       " Document(page_content='Daily stock market data for Tesla (TSLA):\\nDate: 2022-10-12\\nOpen: 215.330002\\nHigh: 219.300003\\nLow: 211.509995\\nClose: 217.240005\\nAdj Close: 217.240005\\nVolume: 66860700', metadata={'source': '../data/TSLA.csv', 'row': 3094, 'last_accessed_at': datetime.datetime(2022, 10, 12, 0, 0)})]"
      ]
     },
     "execution_count": 7,
     "metadata": {},
     "output_type": "execute_result"
    }
   ],
   "source": [
    "question =\"What is TSLA's current close price?\"\n",
    "generate_response(question, retriever_stock)"
   ]
  },
  {
   "cell_type": "markdown",
   "metadata": {
    "id": "65c1b2c0"
   },
   "source": [
    "Notice that even when we replace \"current\" with today's date, our retrieval process is not strong enough to only pick recent dates. \n",
    "\n",
    "Let's try using TimeWeightedVectorStoreRetriever to bias towards recent dates...<br>\n",
    "\n",
    "#### TimeWeightedVectorStoreRetriever"
   ]
  },
  {
   "cell_type": "code",
   "execution_count": 8,
   "id": "09949529",
   "metadata": {
    "id": "01000f57",
    "outputId": "2b71eb7d-d3f9-445a-db68-eda936f5d96f"
   },
   "outputs": [
    {
     "name": "stdout",
     "output_type": "stream",
     "text": [
      "Prompt:  What is TSLA's 2024-02-02 close price?\n"
     ]
    },
    {
     "data": {
      "text/plain": [
       "[Document(page_content='Daily stock market data for Tesla (TSLA):\\nDate: 2024-02-02\\nOpen: 185.039993\\nHigh: 188.690002\\nLow: 182.000000\\nClose: 187.910004\\nAdj Close: 187.910004\\nVolume: 110505100', metadata={'source': '../data/TSLA.csv', 'row': 3422, 'last_accessed_at': MockDateTime(2024, 2, 2, 23, 0), 'created_at': datetime.datetime(2024, 3, 27, 10, 23, 4, 663286), 'buffer_idx': 3422}),\n",
       " Document(page_content='Daily stock market data for Tesla (TSLA):\\nDate: 2024-02-01\\nOpen: 188.500000\\nHigh: 189.880005\\nLow: 184.279999\\nClose: 188.860001\\nAdj Close: 188.860001\\nVolume: 91843300', metadata={'source': '../data/TSLA.csv', 'row': 3421, 'last_accessed_at': MockDateTime(2024, 2, 2, 23, 0), 'created_at': datetime.datetime(2024, 3, 27, 10, 23, 4, 663286), 'buffer_idx': 3421}),\n",
       " Document(page_content='Daily stock market data for Tesla (TSLA):\\nDate: 2024-01-31\\nOpen: 187.000000\\nHigh: 193.970001\\nLow: 185.850006\\nClose: 187.289993\\nAdj Close: 187.289993\\nVolume: 103221400', metadata={'source': '../data/TSLA.csv', 'row': 3420, 'last_accessed_at': MockDateTime(2024, 2, 2, 23, 0), 'created_at': datetime.datetime(2024, 3, 27, 10, 23, 4, 663286), 'buffer_idx': 3420}),\n",
       " Document(page_content='Daily stock market data for Tesla (TSLA):\\nDate: 2024-01-30\\nOpen: 195.330002\\nHigh: 196.360001\\nLow: 190.610001\\nClose: 191.589996\\nAdj Close: 191.589996\\nVolume: 109982300', metadata={'source': '../data/TSLA.csv', 'row': 3419, 'last_accessed_at': MockDateTime(2024, 2, 2, 23, 0), 'created_at': datetime.datetime(2024, 3, 27, 10, 23, 4, 663286), 'buffer_idx': 3419}),\n",
       " Document(page_content='Daily stock market data for Tesla (TSLA):\\nDate: 2024-01-29\\nOpen: 185.630005\\nHigh: 191.479996\\nLow: 183.669998\\nClose: 190.929993\\nAdj Close: 190.929993\\nVolume: 125013100', metadata={'source': '../data/TSLA.csv', 'row': 3418, 'last_accessed_at': MockDateTime(2024, 2, 2, 23, 0), 'created_at': datetime.datetime(2024, 3, 27, 10, 23, 4, 663286), 'buffer_idx': 3418}),\n",
       " Document(page_content='Daily stock market data for Tesla (TSLA):\\nDate: 2024-01-22\\nOpen: 212.259995\\nHigh: 217.800003\\nLow: 206.270004\\nClose: 208.800003\\nAdj Close: 208.800003\\nVolume: 117952500', metadata={'source': '../data/TSLA.csv', 'row': 3413, 'last_accessed_at': MockDateTime(2024, 2, 2, 23, 0), 'created_at': datetime.datetime(2024, 3, 27, 10, 23, 4, 663286), 'buffer_idx': 3413}),\n",
       " Document(page_content='Daily stock market data for Tesla (TSLA):\\nDate: 2024-01-26\\nOpen: 185.500000\\nHigh: 186.779999\\nLow: 182.100006\\nClose: 183.250000\\nAdj Close: 183.250000\\nVolume: 107343200', metadata={'source': '../data/TSLA.csv', 'row': 3417, 'last_accessed_at': MockDateTime(2024, 2, 2, 23, 0), 'created_at': datetime.datetime(2024, 3, 27, 10, 23, 4, 663286), 'buffer_idx': 3417}),\n",
       " Document(page_content='Daily stock market data for Tesla (TSLA):\\nDate: 2024-01-25\\nOpen: 189.699997\\nHigh: 193.000000\\nLow: 180.059998\\nClose: 182.630005\\nAdj Close: 182.630005\\nVolume: 198076800', metadata={'source': '../data/TSLA.csv', 'row': 3416, 'last_accessed_at': MockDateTime(2024, 2, 2, 23, 0), 'created_at': datetime.datetime(2024, 3, 27, 10, 23, 4, 663286), 'buffer_idx': 3416}),\n",
       " Document(page_content='Daily stock market data for Tesla (TSLA):\\nDate: 2024-01-04\\nOpen: 239.250000\\nHigh: 242.699997\\nLow: 237.729996\\nClose: 237.929993\\nAdj Close: 237.929993\\nVolume: 102629300', metadata={'source': '../data/TSLA.csv', 'row': 3402, 'last_accessed_at': MockDateTime(2024, 2, 2, 23, 0), 'created_at': datetime.datetime(2024, 3, 27, 10, 23, 4, 663286), 'buffer_idx': 3402}),\n",
       " Document(page_content='Daily stock market data for Tesla (TSLA):\\nDate: 2024-01-02\\nOpen: 250.080002\\nHigh: 251.250000\\nLow: 244.410004\\nClose: 248.419998\\nAdj Close: 248.419998\\nVolume: 104654200', metadata={'source': '../data/TSLA.csv', 'row': 3400, 'last_accessed_at': MockDateTime(2024, 2, 2, 23, 0), 'created_at': datetime.datetime(2024, 3, 27, 10, 23, 4, 663286), 'buffer_idx': 3400}),\n",
       " Document(page_content='Daily stock market data for Tesla (TSLA):\\nDate: 2021-08-03\\nOpen: 239.666672\\nHigh: 240.883331\\nLow: 233.669998\\nClose: 236.580002\\nAdj Close: 236.580002\\nVolume: 64860900', metadata={'source': '../data/TSLA.csv', 'row': 2793, 'last_accessed_at': MockDateTime(2024, 2, 2, 23, 0), 'created_at': datetime.datetime(2024, 3, 27, 10, 23, 4, 663286), 'buffer_idx': 2793}),\n",
       " Document(page_content='Daily stock market data for Tesla (TSLA):\\nDate: 2021-04-20\\nOpen: 239.139999\\nHigh: 245.750000\\nLow: 236.896667\\nClose: 239.663330\\nAdj Close: 239.663330\\nVolume: 106827000', metadata={'source': '../data/TSLA.csv', 'row': 2720, 'last_accessed_at': MockDateTime(2024, 2, 2, 23, 0), 'created_at': datetime.datetime(2024, 3, 27, 10, 23, 4, 663286), 'buffer_idx': 2720}),\n",
       " Document(page_content='Daily stock market data for Tesla (TSLA):\\nDate: 2022-08-18\\nOpen: 306.000000\\nHigh: 306.500000\\nLow: 301.853333\\nClose: 302.869995\\nAdj Close: 302.869995\\nVolume: 47500500', metadata={'source': '../data/TSLA.csv', 'row': 3056, 'last_accessed_at': MockDateTime(2024, 2, 2, 23, 0), 'created_at': datetime.datetime(2024, 3, 27, 10, 23, 4, 663286), 'buffer_idx': 3056}),\n",
       " Document(page_content='Daily stock market data for Tesla (TSLA):\\nDate: 2023-10-25\\nOpen: 215.880005\\nHigh: 220.100006\\nLow: 212.199997\\nClose: 212.419998\\nAdj Close: 212.419998\\nVolume: 107065100', metadata={'source': '../data/TSLA.csv', 'row': 3354, 'last_accessed_at': MockDateTime(2024, 2, 2, 23, 0), 'created_at': datetime.datetime(2024, 3, 27, 10, 23, 4, 663286), 'buffer_idx': 3354}),\n",
       " Document(page_content='Daily stock market data for Tesla (TSLA):\\nDate: 2023-12-04\\nOpen: 235.750000\\nHigh: 239.369995\\nLow: 233.289993\\nClose: 235.580002\\nAdj Close: 235.580002\\nVolume: 104099800', metadata={'source': '../data/TSLA.csv', 'row': 3381, 'last_accessed_at': MockDateTime(2024, 2, 2, 23, 0), 'created_at': datetime.datetime(2024, 3, 27, 10, 23, 4, 663286), 'buffer_idx': 3381}),\n",
       " Document(page_content='Daily stock market data for Tesla (TSLA):\\nDate: 2022-12-19\\nOpen: 154.000000\\nHigh: 155.250000\\nLow: 145.820007\\nClose: 149.869995\\nAdj Close: 149.869995\\nVolume: 139390600', metadata={'source': '../data/TSLA.csv', 'row': 3141, 'last_accessed_at': MockDateTime(2024, 2, 2, 23, 0), 'created_at': datetime.datetime(2024, 3, 27, 10, 23, 4, 663286), 'buffer_idx': 3141})]"
      ]
     },
     "execution_count": 8,
     "metadata": {},
     "output_type": "execute_result"
    }
   ],
   "source": [
    "# Solution 1\n",
    "embedding_size = len(embedding_function.embed_documents([question])[0])\n",
    "index = faiss.IndexFlatL2(384)\n",
    "vectorstore = FAISS(embedding_function, index, InMemoryDocstore({}), {})\n",
    "tw_retriever_stock = TimeWeightedVectorStoreRetriever(vectorstore=vectorstore,decay_rate=0.005, k=top_k)\n",
    "# Notice the last access time is that date time\n",
    "tw_retriever_stock.add_documents(stock_data_docs)\n",
    "with mock_now(datetime(2024, 2, 2, 23, 0)):\n",
    "    rel_docs = generate_response(question, tw_retriever_stock)\n",
    "rel_docs"
   ]
  },
  {
   "cell_type": "markdown",
   "id": "44eeb8bf",
   "metadata": {
    "id": "95f99f8e"
   },
   "source": [
    "This technically worked, but is not what we want. The 'last_accessed_at' was updated so it is not longer using the date for the stock and this will hurt performance when asking for previous dates. Let's try agents."
   ]
  },
  {
   "cell_type": "markdown",
   "id": "29a1c069",
   "metadata": {},
   "source": [
    "## Agent-based Approaches"
   ]
  },
  {
   "cell_type": "markdown",
   "metadata": {
    "id": "f3973165"
   },
   "source": [
    "#### Langchain CSV / Pandas Agents\n",
    "\n",
    "Here we will show simple use of Langchain [csv](https://python.langchain.com/docs/integrations/toolkits/csv) and [Pandas](https://python.langchain.com/docs/integrations/toolkits/pandas) agents. The csv agent uses the Pandas agent under the hood so we will just use the pandas agent directly. "
   ]
  },
  {
   "cell_type": "code",
   "execution_count": 6,
   "metadata": {
    "id": "f9ab5900"
   },
   "outputs": [
    {
     "data": {
      "text/plain": [
       "True"
      ]
     },
     "execution_count": 6,
     "metadata": {},
     "output_type": "execute_result"
    }
   ],
   "source": [
    "from langchain.agents.agent_types import AgentType\n",
    "from langchain_experimental.agents.agent_toolkits import create_pandas_dataframe_agent\n",
    "from langchain_openai import OpenAI\n",
    "from langchain_openai import ChatOpenAI\n",
    "\n",
    "from dotenv import load_dotenv\n",
    "# Load environment variables\n",
    "load_dotenv()"
   ]
  },
  {
   "cell_type": "code",
   "execution_count": 11,
   "id": "b482ec1f",
   "metadata": {},
   "outputs": [
    {
     "data": {
      "text/html": [
       "<div>\n",
       "<style scoped>\n",
       "    .dataframe tbody tr th:only-of-type {\n",
       "        vertical-align: middle;\n",
       "    }\n",
       "\n",
       "    .dataframe tbody tr th {\n",
       "        vertical-align: top;\n",
       "    }\n",
       "\n",
       "    .dataframe thead th {\n",
       "        text-align: right;\n",
       "    }\n",
       "</style>\n",
       "<table border=\"1\" class=\"dataframe\">\n",
       "  <thead>\n",
       "    <tr style=\"text-align: right;\">\n",
       "      <th></th>\n",
       "      <th>Date</th>\n",
       "      <th>Open</th>\n",
       "      <th>High</th>\n",
       "      <th>Low</th>\n",
       "      <th>Close</th>\n",
       "      <th>Adj Close</th>\n",
       "      <th>Volume</th>\n",
       "    </tr>\n",
       "  </thead>\n",
       "  <tbody>\n",
       "    <tr>\n",
       "      <th>0</th>\n",
       "      <td>2010-06-29</td>\n",
       "      <td>1.266667</td>\n",
       "      <td>1.666667</td>\n",
       "      <td>1.169333</td>\n",
       "      <td>1.592667</td>\n",
       "      <td>1.592667</td>\n",
       "      <td>281494500</td>\n",
       "    </tr>\n",
       "    <tr>\n",
       "      <th>1</th>\n",
       "      <td>2010-06-30</td>\n",
       "      <td>1.719333</td>\n",
       "      <td>2.028000</td>\n",
       "      <td>1.553333</td>\n",
       "      <td>1.588667</td>\n",
       "      <td>1.588667</td>\n",
       "      <td>257806500</td>\n",
       "    </tr>\n",
       "    <tr>\n",
       "      <th>2</th>\n",
       "      <td>2010-07-01</td>\n",
       "      <td>1.666667</td>\n",
       "      <td>1.728000</td>\n",
       "      <td>1.351333</td>\n",
       "      <td>1.464000</td>\n",
       "      <td>1.464000</td>\n",
       "      <td>123282000</td>\n",
       "    </tr>\n",
       "    <tr>\n",
       "      <th>3</th>\n",
       "      <td>2010-07-02</td>\n",
       "      <td>1.533333</td>\n",
       "      <td>1.540000</td>\n",
       "      <td>1.247333</td>\n",
       "      <td>1.280000</td>\n",
       "      <td>1.280000</td>\n",
       "      <td>77097000</td>\n",
       "    </tr>\n",
       "    <tr>\n",
       "      <th>4</th>\n",
       "      <td>2010-07-06</td>\n",
       "      <td>1.333333</td>\n",
       "      <td>1.333333</td>\n",
       "      <td>1.055333</td>\n",
       "      <td>1.074000</td>\n",
       "      <td>1.074000</td>\n",
       "      <td>103003500</td>\n",
       "    </tr>\n",
       "  </tbody>\n",
       "</table>\n",
       "</div>"
      ],
      "text/plain": [
       "         Date      Open      High       Low     Close  Adj Close     Volume\n",
       "0  2010-06-29  1.266667  1.666667  1.169333  1.592667   1.592667  281494500\n",
       "1  2010-06-30  1.719333  2.028000  1.553333  1.588667   1.588667  257806500\n",
       "2  2010-07-01  1.666667  1.728000  1.351333  1.464000   1.464000  123282000\n",
       "3  2010-07-02  1.533333  1.540000  1.247333  1.280000   1.280000   77097000\n",
       "4  2010-07-06  1.333333  1.333333  1.055333  1.074000   1.074000  103003500"
      ]
     },
     "execution_count": 11,
     "metadata": {},
     "output_type": "execute_result"
    }
   ],
   "source": [
    "tsla_stock.head()"
   ]
  },
  {
   "cell_type": "code",
   "execution_count": 18,
   "id": "aef5c72c",
   "metadata": {},
   "outputs": [],
   "source": [
    "def try_agent(agent, prompt, verbose=True):\n",
    "    response = None\n",
    "    try:\n",
    "        response = agent.invoke(prompt, verbose=verbose)\n",
    "        print(response)\n",
    "    except Exception as e:\n",
    "        print(e)\n",
    "    return response"
   ]
  },
  {
   "cell_type": "markdown",
   "id": "3ff1b660",
   "metadata": {},
   "source": [
    "#### First we'll try the ZERO_SHOT_REACT_DESCRIPTION agent\n",
    "\n",
    "**Warning:** this does not work well\n",
    "\n",
    "**Also, it works much better with Langchain's [ChatOpenAI](https://github.com/langchain-ai/langchain/blob/master/libs/community/langchain_community/chat_models/openai.py#L351) that just Langchain's [OpenAI](https://github.com/langchain-ai/langchain/blob/master/libs/community/langchain_community/llms/openai.py#L731) which is used in the zero shot example**"
   ]
  },
  {
   "cell_type": "code",
   "execution_count": 238,
   "id": "ec7c8e42",
   "metadata": {},
   "outputs": [],
   "source": [
    "llm = ChatOpenAI(temperature=0, model=\"gpt-4-1106-preview\")\n",
    "# llm = OpenAI(temperature=0, model=\"gpt-4-1106-preview\")\n",
    "agent = create_pandas_dataframe_agent(llm, tsla_stock, agent_type=AgentType.ZERO_SHOT_REACT_DESCRIPTION, verbose=True)"
   ]
  },
  {
   "cell_type": "code",
   "execution_count": 239,
   "id": "226f98b1",
   "metadata": {},
   "outputs": [
    {
     "name": "stdout",
     "output_type": "stream",
     "text": [
      "\n",
      "\n",
      "\u001b[1m> Entering new AgentExecutor chain...\u001b[0m\n",
      "\u001b[32;1m\u001b[1;3mThought: To find the most recent close price for TSLA, I need to look at the last row of the dataframe and get the value from the 'Close' column.\n",
      "\n",
      "Action: python_repl_ast\n",
      "Action Input: df.tail(1)['Close'].iloc[0]\u001b[0m\u001b[36;1m\u001b[1;3m187.910004\u001b[0m\u001b[32;1m\u001b[1;3mI now know the final answer.\n",
      "\n",
      "Final Answer: The most recent close price for TSLA was $187.91.\u001b[0m\n",
      "\n",
      "\u001b[1m> Finished chain.\u001b[0m\n",
      "{'input': 'What was the most recent close price for TSLA?', 'output': 'The most recent close price for TSLA was $187.91.'}\n"
     ]
    }
   ],
   "source": [
    "response = try_agent(agent, \"What was the most recent close price for TSLA?\", verbose=True)"
   ]
  },
  {
   "cell_type": "code",
   "execution_count": 240,
   "id": "663ce42a",
   "metadata": {},
   "outputs": [
    {
     "name": "stdout",
     "output_type": "stream",
     "text": [
      "\n",
      "\n",
      "\u001b[1m> Entering new AgentExecutor chain...\u001b[0m\n",
      "\u001b[32;1m\u001b[1;3mThought: To answer this question, I need to calculate the standard deviation of the changes in open prices and the changes in close prices. The change can be calculated by subtracting the previous day's price from the current day's price. I will use the `diff()` method to calculate the changes and then the `std()` method to calculate the standard deviation for both 'Open' and 'Close' columns.\n",
      "\n",
      "Action: Calculate the standard deviation of the changes in open prices.\n",
      "Action Input: df['Open'].diff().std()\n",
      "\u001b[0mCalculate the standard deviation of the changes in open prices. is not a valid tool, try one of [python_repl_ast].\u001b[32;1m\u001b[1;3mI need to use the python_repl_ast tool to execute the Python command.\n",
      "\n",
      "Action: python_repl_ast\n",
      "Action Input: df['Open'].diff().std()\u001b[0m\u001b[36;1m\u001b[1;3m4.945367157862929\u001b[0m\u001b[32;1m\u001b[1;3mThe standard deviation of the changes in open prices is approximately 4.945.\n",
      "\n",
      "Action: Calculate the standard deviation of the changes in close prices.\n",
      "Action Input: df['Close'].diff().std()\u001b[0mCalculate the standard deviation of the changes in close prices. is not a valid tool, try one of [python_repl_ast].\u001b[32;1m\u001b[1;3mI need to use the python_repl_ast tool to execute the Python command.\n",
      "\n",
      "Action: python_repl_ast\n",
      "Action Input: df['Close'].diff().std()\u001b[0m\u001b[36;1m\u001b[1;3m4.678933840976249\u001b[0m\u001b[32;1m\u001b[1;3mThe standard deviation of the changes in close prices is approximately 4.679.\n",
      "\n",
      "Thought: Now that I have both standard deviations, I can compare them to determine which one is larger.\n",
      "\n",
      "Final Answer: The change in open prices has a larger standard deviation (approximately 4.945) compared to the change in close prices (approximately 4.679).\u001b[0m\n",
      "\n",
      "\u001b[1m> Finished chain.\u001b[0m\n",
      "{'input': 'Does the change in open or close prices have a larger standard deviation?', 'output': 'The change in open prices has a larger standard deviation (approximately 4.945) compared to the change in close prices (approximately 4.679).'}\n"
     ]
    }
   ],
   "source": [
    "response = try_agent(agent, \"Does the change in open or close prices have a larger standard deviation?\", verbose=True)"
   ]
  },
  {
   "cell_type": "markdown",
   "id": "71dfdc50",
   "metadata": {},
   "source": [
    "That sort-of worked when I ran it (sometimes errors). Sometimes we can see that it enters another step. \n",
    "\n",
    " We can look at [Langchain's default code](https://github.com/langchain-ai/langchain/blob/master/libs/experimental/langchain_experimental/agents/agent_toolkits/pandas/base.py) and [prompts](https://github.com/langchain-ai/langchain/blob/master/libs/experimental/langchain_experimental/agents/agent_toolkits/pandas/prompt.py) to see how we can improve it and work around bugs.\n",
    "\n",
    "The issue is in part related to a bug in Langchain. Let's use a work around and define out own prompt (which we will see another very minor bug).\n",
    "\n",
    "- **Bug 1:** The stop token in the React Agent is \\nObservation, but needs to be \\nFinal Answer for Pandas agent\n",
    "- **Bug 2:** \"create_pandas_dataframe_agent\" requiring include_df_in_prompt to be None vs False.\n"
   ]
  },
  {
   "cell_type": "markdown",
   "id": "89d42d0e",
   "metadata": {},
   "source": [
    "Building our own prompts for the agent:"
   ]
  },
  {
   "cell_type": "code",
   "execution_count": 241,
   "id": "6e594d79",
   "metadata": {},
   "outputs": [],
   "source": [
    "PREFIX = \"\"\"\n",
    "You are a large language model being used in an agent workflow involving questions, thoughts, use of tools, and actions using those tools. One of those tools allows you to work with a pandas dataframe in Python. The name of the dataframe is `df`.\n",
    "You should use the tools below to answer the question posed of you:\\n\"\"\""
   ]
  },
  {
   "cell_type": "code",
   "execution_count": 242,
   "id": "ce730dc0",
   "metadata": {},
   "outputs": [
    {
     "data": {
      "text/html": [
       "<div>\n",
       "<style scoped>\n",
       "    .dataframe tbody tr th:only-of-type {\n",
       "        vertical-align: middle;\n",
       "    }\n",
       "\n",
       "    .dataframe tbody tr th {\n",
       "        vertical-align: top;\n",
       "    }\n",
       "\n",
       "    .dataframe thead th {\n",
       "        text-align: right;\n",
       "    }\n",
       "</style>\n",
       "<table border=\"1\" class=\"dataframe\">\n",
       "  <thead>\n",
       "    <tr style=\"text-align: right;\">\n",
       "      <th></th>\n",
       "      <th>Date</th>\n",
       "      <th>Open</th>\n",
       "      <th>High</th>\n",
       "      <th>Low</th>\n",
       "      <th>Close</th>\n",
       "      <th>Adj Close</th>\n",
       "      <th>Volume</th>\n",
       "    </tr>\n",
       "  </thead>\n",
       "  <tbody>\n",
       "    <tr>\n",
       "      <th>count</th>\n",
       "      <td>3423</td>\n",
       "      <td>3423.000000</td>\n",
       "      <td>3423.000000</td>\n",
       "      <td>3423.000000</td>\n",
       "      <td>3423.000000</td>\n",
       "      <td>3423.000000</td>\n",
       "      <td>3.423000e+03</td>\n",
       "    </tr>\n",
       "    <tr>\n",
       "      <th>unique</th>\n",
       "      <td>3423</td>\n",
       "      <td>NaN</td>\n",
       "      <td>NaN</td>\n",
       "      <td>NaN</td>\n",
       "      <td>NaN</td>\n",
       "      <td>NaN</td>\n",
       "      <td>NaN</td>\n",
       "    </tr>\n",
       "    <tr>\n",
       "      <th>top</th>\n",
       "      <td>2010-06-29</td>\n",
       "      <td>NaN</td>\n",
       "      <td>NaN</td>\n",
       "      <td>NaN</td>\n",
       "      <td>NaN</td>\n",
       "      <td>NaN</td>\n",
       "      <td>NaN</td>\n",
       "    </tr>\n",
       "    <tr>\n",
       "      <th>freq</th>\n",
       "      <td>1</td>\n",
       "      <td>NaN</td>\n",
       "      <td>NaN</td>\n",
       "      <td>NaN</td>\n",
       "      <td>NaN</td>\n",
       "      <td>NaN</td>\n",
       "      <td>NaN</td>\n",
       "    </tr>\n",
       "    <tr>\n",
       "      <th>mean</th>\n",
       "      <td>NaN</td>\n",
       "      <td>71.463546</td>\n",
       "      <td>73.027288</td>\n",
       "      <td>69.772792</td>\n",
       "      <td>71.436731</td>\n",
       "      <td>71.436731</td>\n",
       "      <td>9.690499e+07</td>\n",
       "    </tr>\n",
       "    <tr>\n",
       "      <th>std</th>\n",
       "      <td>NaN</td>\n",
       "      <td>101.915934</td>\n",
       "      <td>104.171288</td>\n",
       "      <td>99.425029</td>\n",
       "      <td>101.828184</td>\n",
       "      <td>101.828184</td>\n",
       "      <td>7.980646e+07</td>\n",
       "    </tr>\n",
       "    <tr>\n",
       "      <th>min</th>\n",
       "      <td>NaN</td>\n",
       "      <td>1.076000</td>\n",
       "      <td>1.108667</td>\n",
       "      <td>0.998667</td>\n",
       "      <td>1.053333</td>\n",
       "      <td>1.053333</td>\n",
       "      <td>1.777500e+06</td>\n",
       "    </tr>\n",
       "    <tr>\n",
       "      <th>25%</th>\n",
       "      <td>NaN</td>\n",
       "      <td>10.870667</td>\n",
       "      <td>11.166334</td>\n",
       "      <td>10.688667</td>\n",
       "      <td>10.945000</td>\n",
       "      <td>10.945000</td>\n",
       "      <td>4.623000e+07</td>\n",
       "    </tr>\n",
       "    <tr>\n",
       "      <th>50%</th>\n",
       "      <td>NaN</td>\n",
       "      <td>17.025333</td>\n",
       "      <td>17.266666</td>\n",
       "      <td>16.719334</td>\n",
       "      <td>16.999332</td>\n",
       "      <td>16.999332</td>\n",
       "      <td>8.160300e+07</td>\n",
       "    </tr>\n",
       "    <tr>\n",
       "      <th>75%</th>\n",
       "      <td>NaN</td>\n",
       "      <td>122.324997</td>\n",
       "      <td>126.674999</td>\n",
       "      <td>119.958332</td>\n",
       "      <td>123.389999</td>\n",
       "      <td>123.389999</td>\n",
       "      <td>1.232748e+08</td>\n",
       "    </tr>\n",
       "    <tr>\n",
       "      <th>max</th>\n",
       "      <td>NaN</td>\n",
       "      <td>411.470001</td>\n",
       "      <td>414.496674</td>\n",
       "      <td>405.666656</td>\n",
       "      <td>409.970001</td>\n",
       "      <td>409.970001</td>\n",
       "      <td>9.140820e+08</td>\n",
       "    </tr>\n",
       "    <tr>\n",
       "      <th>1st_row</th>\n",
       "      <td>2010-06-29</td>\n",
       "      <td>1.266667</td>\n",
       "      <td>1.666667</td>\n",
       "      <td>1.169333</td>\n",
       "      <td>1.592667</td>\n",
       "      <td>1.592667</td>\n",
       "      <td>2.814945e+08</td>\n",
       "    </tr>\n",
       "    <tr>\n",
       "      <th>2nd_row</th>\n",
       "      <td>2010-06-30</td>\n",
       "      <td>1.719333</td>\n",
       "      <td>2.028000</td>\n",
       "      <td>1.553333</td>\n",
       "      <td>1.588667</td>\n",
       "      <td>1.588667</td>\n",
       "      <td>2.578065e+08</td>\n",
       "    </tr>\n",
       "    <tr>\n",
       "      <th>2nd_last_row</th>\n",
       "      <td>2024-02-01</td>\n",
       "      <td>188.500000</td>\n",
       "      <td>189.880005</td>\n",
       "      <td>184.279999</td>\n",
       "      <td>188.860001</td>\n",
       "      <td>188.860001</td>\n",
       "      <td>9.184330e+07</td>\n",
       "    </tr>\n",
       "    <tr>\n",
       "      <th>last_row</th>\n",
       "      <td>2024-02-02</td>\n",
       "      <td>185.039993</td>\n",
       "      <td>188.690002</td>\n",
       "      <td>182.000000</td>\n",
       "      <td>187.910004</td>\n",
       "      <td>187.910004</td>\n",
       "      <td>1.105051e+08</td>\n",
       "    </tr>\n",
       "  </tbody>\n",
       "</table>\n",
       "</div>"
      ],
      "text/plain": [
       "                    Date         Open         High          Low        Close  \\\n",
       "count               3423  3423.000000  3423.000000  3423.000000  3423.000000   \n",
       "unique              3423          NaN          NaN          NaN          NaN   \n",
       "top           2010-06-29          NaN          NaN          NaN          NaN   \n",
       "freq                   1          NaN          NaN          NaN          NaN   \n",
       "mean                 NaN    71.463546    73.027288    69.772792    71.436731   \n",
       "std                  NaN   101.915934   104.171288    99.425029   101.828184   \n",
       "min                  NaN     1.076000     1.108667     0.998667     1.053333   \n",
       "25%                  NaN    10.870667    11.166334    10.688667    10.945000   \n",
       "50%                  NaN    17.025333    17.266666    16.719334    16.999332   \n",
       "75%                  NaN   122.324997   126.674999   119.958332   123.389999   \n",
       "max                  NaN   411.470001   414.496674   405.666656   409.970001   \n",
       "1st_row       2010-06-29     1.266667     1.666667     1.169333     1.592667   \n",
       "2nd_row       2010-06-30     1.719333     2.028000     1.553333     1.588667   \n",
       "2nd_last_row  2024-02-01   188.500000   189.880005   184.279999   188.860001   \n",
       "last_row      2024-02-02   185.039993   188.690002   182.000000   187.910004   \n",
       "\n",
       "                Adj Close        Volume  \n",
       "count         3423.000000  3.423000e+03  \n",
       "unique                NaN           NaN  \n",
       "top                   NaN           NaN  \n",
       "freq                  NaN           NaN  \n",
       "mean            71.436731  9.690499e+07  \n",
       "std            101.828184  7.980646e+07  \n",
       "min              1.053333  1.777500e+06  \n",
       "25%             10.945000  4.623000e+07  \n",
       "50%             16.999332  8.160300e+07  \n",
       "75%            123.389999  1.232748e+08  \n",
       "max            409.970001  9.140820e+08  \n",
       "1st_row          1.592667  2.814945e+08  \n",
       "2nd_row          1.588667  2.578065e+08  \n",
       "2nd_last_row   188.860001  9.184330e+07  \n",
       "last_row       187.910004  1.105051e+08  "
      ]
     },
     "execution_count": 242,
     "metadata": {},
     "output_type": "execute_result"
    }
   ],
   "source": [
    "tsla_stock.describe(include='all')\n",
    "#add first 2 rows and last 2 rows to describe\n",
    "df_describe = tsla_stock.describe(include='all')\n",
    "df_describe.loc['1st_row'] = tsla_stock.iloc[0]\n",
    "df_describe.loc['2nd_row'] = tsla_stock.iloc[1]\n",
    "df_describe.loc['2nd_last_row'] = tsla_stock.iloc[-2]\n",
    "df_describe.loc['last_row'] = tsla_stock.iloc[-1]\n",
    "df_describe"
   ]
  },
  {
   "cell_type": "code",
   "execution_count": 243,
   "id": "eecbdf49",
   "metadata": {},
   "outputs": [],
   "source": [
    "SUFFIX_WITH_DF_DESCRIBE = \"\"\"\n",
    "You must STOP once you found the final answer. This is the result of running:\n",
    "\n",
    "df_describe = df.describe(include='all')\n",
    "df_describe.loc['1st_row'] = df.iloc[0]\n",
    "df_describe.loc['2nd_row'] = df.iloc[1]\n",
    "df_describe.loc['2nd_last_row'] = df.iloc[-2]\n",
    "df_describe.loc['last_row'] = df.iloc[-1]\n",
    "print(df_describe.to_markdown())\n",
    "del df_describe:\n",
    "{df_describe}\n",
    "\n",
    "Please note that python_repl_ast cannot use df_decribe, but can use df.\n",
    "\n",
    "Begin!\n",
    "Question: {{input}}\n",
    "{{agent_scratchpad}}\"\"\""
   ]
  },
  {
   "cell_type": "code",
   "execution_count": 244,
   "id": "f5d43a8f",
   "metadata": {},
   "outputs": [
    {
     "name": "stdout",
     "output_type": "stream",
     "text": [
      "\n",
      "You must STOP once you found the final answer. This is the result of running:\n",
      "\n",
      "df_describe = df.describe(include='all')\n",
      "df_describe.loc['1st_row'] = df.iloc[0]\n",
      "df_describe.loc['2nd_row'] = df.iloc[1]\n",
      "df_describe.loc['2nd_last_row'] = df.iloc[-2]\n",
      "df_describe.loc['last_row'] = df.iloc[-1]\n",
      "print(df_describe.to_markdown())\n",
      "del df_describe:\n",
      "|              | Date       |       Open |       High |         Low |      Close |   Adj Close |         Volume |\n",
      "|:-------------|:-----------|-----------:|-----------:|------------:|-----------:|------------:|---------------:|\n",
      "| count        | 3423       | 3423       | 3423       | 3423        | 3423       |  3423       | 3423           |\n",
      "| unique       | 3423       |  nan       |  nan       |  nan        |  nan       |   nan       |  nan           |\n",
      "| top          | 2010-06-29 |  nan       |  nan       |  nan        |  nan       |   nan       |  nan           |\n",
      "| freq         | 1          |  nan       |  nan       |  nan        |  nan       |   nan       |  nan           |\n",
      "| mean         | nan        |   71.4635  |   73.0273  |   69.7728   |   71.4367  |    71.4367  |    9.6905e+07  |\n",
      "| std          | nan        |  101.916   |  104.171   |   99.425    |  101.828   |   101.828   |    7.98065e+07 |\n",
      "| min          | nan        |    1.076   |    1.10867 |    0.998667 |    1.05333 |     1.05333 |    1.7775e+06  |\n",
      "| 25%          | nan        |   10.8707  |   11.1663  |   10.6887   |   10.945   |    10.945   |    4.623e+07   |\n",
      "| 50%          | nan        |   17.0253  |   17.2667  |   16.7193   |   16.9993  |    16.9993  |    8.1603e+07  |\n",
      "| 75%          | nan        |  122.325   |  126.675   |  119.958    |  123.39    |   123.39    |    1.23275e+08 |\n",
      "| max          | nan        |  411.47    |  414.497   |  405.667    |  409.97    |   409.97    |    9.14082e+08 |\n",
      "| 1st_row      | 2010-06-29 |    1.26667 |    1.66667 |    1.16933  |    1.59267 |     1.59267 |    2.81494e+08 |\n",
      "| 2nd_row      | 2010-06-30 |    1.71933 |    2.028   |    1.55333  |    1.58867 |     1.58867 |    2.57806e+08 |\n",
      "| 2nd_last_row | 2024-02-01 |  188.5     |  189.88    |  184.28     |  188.86    |   188.86    |    9.18433e+07 |\n",
      "| last_row     | 2024-02-02 |  185.04    |  188.69    |  182        |  187.91    |   187.91    |    1.10505e+08 |\n",
      "\n",
      "Please note that python_repl_ast cannot use df_decribe, but can use df.\n",
      "\n",
      "Begin!\n",
      "Question: {input}\n",
      "{agent_scratchpad}\n"
     ]
    }
   ],
   "source": [
    "df_describe_str = str(df_describe.to_markdown())#json.dumps((df_describe.to_json())).replace(\"{\", \"{{\").replace(\"}\", \"}}\")\n",
    "partial_format = SUFFIX_WITH_DF_DESCRIBE.format(df_describe=df_describe_str)\n",
    "SUFFIX_FINAL = partial_format.replace(\"{{input}}\", \"{input}\").replace(\"{{agent_scratchpad}}\", \"{agent_scratchpad}\")\n",
    "print(SUFFIX_FINAL)"
   ]
  },
  {
   "cell_type": "markdown",
   "id": "c442f4e0",
   "metadata": {},
   "source": [
    "Now, let's use a workaround for the Langchain bug:"
   ]
  },
  {
   "cell_type": "code",
   "execution_count": 245,
   "id": "b58f2cdb",
   "metadata": {},
   "outputs": [],
   "source": [
    "llm = ChatOpenAI(temperature=0, model=\"gpt-4-1106-preview\")\n",
    "\n",
    "#Bug 1 workaround: the stop token in the React Agent is \\nObservation, but needs to be \\nFinal Answer for Pandas agent\n",
    "llm_with_stop = llm.bind(stop=[\"\\nFinal Answer\"])"
   ]
  },
  {
   "cell_type": "code",
   "execution_count": 246,
   "id": "76425aeb",
   "metadata": {},
   "outputs": [],
   "source": [
    "#Bug 2 workaround:\n",
    "agent = create_pandas_dataframe_agent(llm_with_stop, tsla_stock, include_df_in_prompt = None, #handle_parsing_errors=True,\n",
    "                                      agent_type=AgentType.ZERO_SHOT_REACT_DESCRIPTION, prefix=PREFIX, suffix=SUFFIX_FINAL, verbose=True)"
   ]
  },
  {
   "cell_type": "code",
   "execution_count": 247,
   "id": "01ba8049",
   "metadata": {},
   "outputs": [
    {
     "name": "stdout",
     "output_type": "stream",
     "text": [
      "\n",
      "\n",
      "\u001b[1m> Entering new AgentExecutor chain...\u001b[0m\n",
      "\u001b[32;1m\u001b[1;3mThought: The most recent close price for TSLA can be found in the 'Close' column of the last row of the dataframe `df`.\n",
      "\n",
      "Action: python_repl_ast\n",
      "Action Input: df['Close'].iloc[-1]\u001b[0m\u001b[36;1m\u001b[1;3m187.910004\u001b[0m\u001b[32;1m\u001b[1;3mI now know the final answer.\n",
      "Final Answer: The most recent close price for TSLA was $187.91.\u001b[0m\n",
      "\n",
      "\u001b[1m> Finished chain.\u001b[0m\n",
      "{'input': 'What was the most recent close price for TSLA?', 'output': 'The most recent close price for TSLA was $187.91.'}\n"
     ]
    }
   ],
   "source": [
    "response = try_agent(agent, \"What was the most recent close price for TSLA?\", verbose=True)"
   ]
  },
  {
   "cell_type": "code",
   "execution_count": 248,
   "id": "f09fa36c",
   "metadata": {},
   "outputs": [
    {
     "name": "stdout",
     "output_type": "stream",
     "text": [
      "\n",
      "\n",
      "\u001b[1m> Entering new AgentExecutor chain...\u001b[0m\n",
      "\u001b[32;1m\u001b[1;3mThought: To answer this question, I need to compare the standard deviation of the 'Open' prices with the standard deviation of the 'Close' prices.\n",
      "\n",
      "Action: python_repl_ast\n",
      "Action Input: df['Open'].std(), df['Close'].std()\u001b[0m\u001b[36;1m\u001b[1;3m(101.91593442111841, 101.82818449060503)\u001b[0m\u001b[32;1m\u001b[1;3mI now know the final answer\n",
      "Final Answer: The 'Open' prices have a slightly larger standard deviation than the 'Close' prices.\u001b[0m\n",
      "\n",
      "\u001b[1m> Finished chain.\u001b[0m\n",
      "{'input': 'Does the change in open or close prices have a larger standard deviation?', 'output': \"The 'Open' prices have a slightly larger standard deviation than the 'Close' prices.\"}\n"
     ]
    }
   ],
   "source": [
    "response = try_agent(agent, \"Does the change in open or close prices have a larger standard deviation?\", verbose=True)"
   ]
  },
  {
   "cell_type": "markdown",
   "id": "d1dd7e88",
   "metadata": {},
   "source": [
    "That failed to take the difference and I had to significantly change the PREFIX and SUFFIX to get it to sometimes work. We can take a look at the Langchain code again, but let's move on.\n",
    "\n",
    "#### Let's now try the OPENAI_FUNCTIONS agent in Langchain\n",
    "\n",
    "**Note:** This works very badly with \"gpt-4-1106-preview\", but a bit better with \"gpt-4\" and \"gpt-3.5-turbo-0613\""
   ]
  },
  {
   "cell_type": "code",
   "execution_count": 258,
   "id": "bf0edd66",
   "metadata": {},
   "outputs": [],
   "source": [
    "llm = ChatOpenAI(temperature=0, model=\"gpt-4\")\n",
    "agent = create_pandas_dataframe_agent(llm, tsla_stock,verbose=True,agent_type=AgentType.OPENAI_FUNCTIONS)"
   ]
  },
  {
   "cell_type": "code",
   "execution_count": 259,
   "id": "62af7bb9",
   "metadata": {},
   "outputs": [
    {
     "name": "stdout",
     "output_type": "stream",
     "text": [
      "\n",
      "\n",
      "\u001b[1m> Entering new AgentExecutor chain...\u001b[0m\n",
      "\u001b[32;1m\u001b[1;3m\n",
      "Invoking: `python_repl_ast` with `{'query': \"df['Close'].iloc[-1]\"}`\n",
      "\n",
      "\n",
      "\u001b[0m\u001b[36;1m\u001b[1;3m187.910004\u001b[0m\u001b[32;1m\u001b[1;3mThe most recent close price for TSLA was $187.91.\u001b[0m\n",
      "\n",
      "\u001b[1m> Finished chain.\u001b[0m\n",
      "{'input': 'What was the most recent close price for TSLA?', 'output': 'The most recent close price for TSLA was $187.91.'}\n"
     ]
    }
   ],
   "source": [
    "response = try_agent(agent, \"What was the most recent close price for TSLA?\", verbose=True)"
   ]
  },
  {
   "cell_type": "code",
   "execution_count": 260,
   "id": "b20d9e9a",
   "metadata": {},
   "outputs": [
    {
     "name": "stdout",
     "output_type": "stream",
     "text": [
      "\n",
      "\n",
      "\u001b[1m> Entering new AgentExecutor chain...\u001b[0m\n"
     ]
    },
    {
     "name": "stdout",
     "output_type": "stream",
     "text": [
      "\u001b[32;1m\u001b[1;3m\n",
      "Invoking: `python_repl_ast` with `{'query': \"df['Open'].diff().std(), df['Close'].diff().std()\"}`\n",
      "\n",
      "\n",
      "\u001b[0m\u001b[36;1m\u001b[1;3m(4.945367157862929, 4.678933840976249)\u001b[0m\u001b[32;1m\u001b[1;3mThe standard deviation of the change in open prices is larger than the standard deviation of the change in close prices.\u001b[0m\n",
      "\n",
      "\u001b[1m> Finished chain.\u001b[0m\n",
      "{'input': 'Does the change in open or close prices have a larger standard deviation?', 'output': 'The standard deviation of the change in open prices is larger than the standard deviation of the change in close prices.'}\n"
     ]
    }
   ],
   "source": [
    "response = try_agent(agent, \"Does the change in open or close prices have a larger standard deviation?\", verbose=True)"
   ]
  },
  {
   "cell_type": "markdown",
   "id": "ccb03cef",
   "metadata": {},
   "source": [
    "Let's forget about Langchain Agents for now as it is a little bit of a pain ... "
   ]
  },
  {
   "cell_type": "markdown",
   "id": "311570a4",
   "metadata": {},
   "source": [
    "### Let's try Agents with [Pandas AI](https://docs.pandas-ai.com/en/latest/)"
   ]
  },
  {
   "cell_type": "code",
   "execution_count": 2,
   "id": "aced466d",
   "metadata": {},
   "outputs": [],
   "source": [
    "import pandas as pd\n",
    "from pandasai import SmartDatalake\n",
    "from pandasai import SmartDataframe\n",
    "from pandasai.llm import OpenAI\n",
    "from pandasai import Agent\n",
    "from pandasai.skills import skill"
   ]
  },
  {
   "cell_type": "code",
   "execution_count": 8,
   "id": "a13bfe64",
   "metadata": {},
   "outputs": [],
   "source": [
    "llm = OpenAI(model=\"gpt-4-1106-preview\", verbose=True)"
   ]
  },
  {
   "cell_type": "markdown",
   "id": "80bdcb74",
   "metadata": {},
   "source": [
    "Let's first just use the simple agent with SmartDataframe"
   ]
  },
  {
   "cell_type": "code",
   "execution_count": 15,
   "id": "70d92389",
   "metadata": {},
   "outputs": [
    {
     "data": {
      "text/plain": [
       "'Close prices have a larger standard deviation.'"
      ]
     },
     "execution_count": 15,
     "metadata": {},
     "output_type": "execute_result"
    }
   ],
   "source": [
    "agent = SmartDataframe(tsla_stock, description =\"TSLA Stock Market Data\", config={\"llm\": llm})\n",
    "agent.chat(\"Does the change in open or close prices have a larger standard deviation?\")"
   ]
  },
  {
   "cell_type": "markdown",
   "id": "ca0591b4",
   "metadata": {},
   "source": [
    "That actually did not work at all - looking at the log below shows it just made up the answer.\n",
    "\n",
    "Let's show something a bit more interesting using the Agent framework from Pandas-AI which allows us to directly inform our LLM or \"skills\" we added"
   ]
  },
  {
   "cell_type": "code",
   "execution_count": 34,
   "id": "d7d9a22c",
   "metadata": {},
   "outputs": [],
   "source": [
    "# Function doc string to give more context to the model for use this skill\n",
    "@skill\n",
    "def get_capm_params(stock_data: pd.DataFrame, benchmark_data: pd.DataFrame):\n",
    "    \"\"\"\n",
    "    This function estimates an Intercept(alpha) and a beta by regressing the stock returns on the benchmark returns.\n",
    "    This is the Capital Asset Pricing Model (CAPM) model.\n",
    "    Args:\n",
    "        stock_data: A Pandas DataFrame with stock data\n",
    "        benchmark_data: A Pandas DataFrame with the benchmark's data\n",
    "    Returns:\n",
    "        alpha: Intercept\n",
    "        beta: Beta\n",
    "    \"\"\"\n",
    "    from sklearn.linear_model import LinearRegression\n",
    "    import pandas as pd\n",
    "    #calculate stock returns\n",
    "    stock_data['Return'] = stock_data['Close'].pct_change()\n",
    "    stock_data.dropna(inplace=True)\n",
    "    #calculate benchmark returns\n",
    "    benchmark_data['Return'] = benchmark_data['Close'].pct_change()\n",
    "    benchmark_data.dropna(inplace=True)\n",
    "    #perform inner join to get common dates\n",
    "    stock_data = stock_data.merge(benchmark_data, on='Date', how='inner', suffixes=('_stock', '_benchmark'))\n",
    "    X = stock_data[['Return_benchmark']]\n",
    "    y = stock_data['Return_stock']\n",
    "    model = LinearRegression().fit(X, y)\n",
    "    alpha = model.intercept_\n",
    "    beta = model.coef_[0]\n",
    "    return alpha, beta\n",
    "\n",
    "agent = Agent([tsla_stock, spy_etf], config={\"llm\": llm}, memory_size=10, description=\"A list of 2 DataFrames: TSLA stock data and SPY ETF data respectively.\")\n",
    "\n",
    "agent.add_skills(get_capm_params)"
   ]
  },
  {
   "cell_type": "code",
   "execution_count": 44,
   "id": "c2ae4aeb",
   "metadata": {},
   "outputs": [
    {
     "data": {
      "text/plain": [
       "(0.0013747603371657858, 1.4142763404820184)"
      ]
     },
     "execution_count": 44,
     "metadata": {},
     "output_type": "execute_result"
    }
   ],
   "source": [
    "get_capm_params(tsla_stock, spy_etf)"
   ]
  },
  {
   "cell_type": "code",
   "execution_count": 36,
   "id": "4346f52f",
   "metadata": {},
   "outputs": [
    {
     "name": "stdout",
     "output_type": "stream",
     "text": [
      "1.4098669332856566\n"
     ]
    }
   ],
   "source": [
    "# Chat with the agent\n",
    "response = agent.chat(\"What is the Beta of TSLA? You can use the SPY ETF as the benchmark and use the CAPM model.\")\n",
    "print(response)"
   ]
  },
  {
   "cell_type": "markdown",
   "id": "8a923e2b",
   "metadata": {},
   "source": [
    "We got the right answer, but the beta is slightly different - let's check the logs ... \n",
    "\n",
    "This appears to just be estimation sensitivity so all good!"
   ]
  },
  {
   "cell_type": "code",
   "execution_count": 37,
   "id": "f790034a",
   "metadata": {},
   "outputs": [],
   "source": [
    "#print pandasai.log file to see the logs\n",
    "# with open(\"pandasai.log\", \"r\") as f:\n",
    "#     print(f.read())"
   ]
  },
  {
   "cell_type": "markdown",
   "id": "5540a719",
   "metadata": {},
   "source": [
    "This seems promising! So far we have just shown pretty simple agents and can satisfy requirements as long as the users can read the code and understand all he intermediate steps.\n",
    "\n",
    "Based on trying a few other prompts and tasks as well as diagnosing all of the above to make it work, I believe a more robust approach is needed to make this work for an end-user that might not read code or understand intermediate steps. This may be possible in LangChain or with Pandas-AI, but there are also building from scratch or using an existing full-scale agent-based frameworks such as [AutoGen](https://github.com/microsoft/autogen), [AutoGPT](https://github.com/Significant-Gravitas/AutoGPT), [OpenAgents](https://github.com/Significant-Gravitas/AutoGPT) and [crewAI](https://github.com/joaomdmoura/crewAI)"
   ]
  },
  {
   "cell_type": "markdown",
   "id": "6359080b",
   "metadata": {},
   "source": []
  }
 ],
 "metadata": {
  "colab": {
   "provenance": []
  },
  "kernelspec": {
   "display_name": "Python 3",
   "language": "python",
   "name": "python3"
  },
  "language_info": {
   "codemirror_mode": {
    "name": "ipython",
    "version": 3
   },
   "file_extension": ".py",
   "mimetype": "text/x-python",
   "name": "python",
   "nbconvert_exporter": "python",
   "pygments_lexer": "ipython3",
   "version": "3.10.6"
  }
 },
 "nbformat": 4,
 "nbformat_minor": 5
}
