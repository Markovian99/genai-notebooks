{
 "cells": [
  {
   "cell_type": "markdown",
   "id": "1275150c",
   "metadata": {
    "id": "3d50f6b3"
   },
   "source": [
    "# WORK IN PROGRESS\n",
    "\n",
    "# Notebook 3: Approaches for Tabular Data\n",
    "\n",
    "In this notebook we will show a few ways to use LLM pipelines with tabular data.\n",
    "\n",
    "We will consider on Tesla (TSLA) stock prices data.\n",
    "* TBD\n",
    "* TBD"
   ]
  },
  {
   "cell_type": "markdown",
   "metadata": {
    "id": "a23f9e06"
   },
   "source": [
    "## Import libraries and load the 10k and stock data"
   ]
  },
  {
   "cell_type": "code",
   "execution_count": 1,
   "id": "96e6737a",
   "metadata": {
    "chart_settings": null,
    "custom_metric_settings": null,
    "dataframe_view_options": null,
    "datarobot": {
     "language": "python"
    },
    "disable_run": null,
    "hide_code": null,
    "hide_results": null,
    "id": "64e51b8d4fcea0e1deb7dcf3"
   },
   "outputs": [],
   "source": [
    "import subprocess\n",
    "import tiktoken\n",
    "import pandas as pd\n",
    "import os\n",
    "import csv\n",
    "import json\n",
    "import time\n",
    "import re\n",
    "import transformers\n",
    "import torch\n",
    "import numpy as np\n",
    "from datetime import datetime\n",
    "\n",
    "from sklearn.metrics.pairwise import cosine_similarity\n",
    "\n",
    "#We will use langchain to create a vector store to retrieve stronger negatives\n",
    "import faiss\n",
    "from langchain.vectorstores.faiss import FAISS\n",
    "from langchain.docstore import InMemoryDocstore\n",
    "from langchain_core.vectorstores import VectorStoreRetriever\n",
    "from langchain.document_loaders import UnstructuredPDFLoader, csv_loader\n",
    "# from langchain.embeddings.sentence_transformer import HuggingFaceEmbeddings\n",
    "from langchain_community.embeddings import HuggingFaceEmbeddings\n",
    "from langchain.retrievers import TimeWeightedVectorStoreRetriever\n",
    "from langchain.utils import mock_now\n",
    "\n",
    "\n",
    "EMBEDDING_MODEL_NAME = \"all-MiniLM-L6-v2\"## \"BAAI/bge-base-en-v1.5\"\"all-MiniLM-L6-v2\""
   ]
  },
  {
   "cell_type": "markdown",
   "id": "d8f79cf2",
   "metadata": {},
   "source": [
    "## Load .csv data"
   ]
  },
  {
   "cell_type": "code",
   "execution_count": 16,
   "id": "05b8f31f",
   "metadata": {
    "id": "71be0425",
    "outputId": "6a0e02bd-0e6a-413a-c7c2-c985c2c7b246"
   },
   "outputs": [
    {
     "data": {
      "text/plain": [
       "Document(page_content='Date: 2010-06-29\\nOpen: 1.266667\\nHigh: 1.666667\\nLow: 1.169333\\nClose: 1.592667\\nAdj Close: 1.592667\\nVolume: 281494500', metadata={'source': '../data/TSLA.csv', 'row': 0})"
      ]
     },
     "execution_count": 16,
     "metadata": {},
     "output_type": "execute_result"
    }
   ],
   "source": [
    "#load stock data. Load dataframe and load directly as docs\n",
    "tsla_stock = pd.read_csv(\"../data/TSLA.csv\")\n",
    "loader  = csv_loader.CSVLoader(file_path=\"../data/TSLA.csv\")\n",
    "stock_data_docs = loader.load()\n",
    "stock_data_docs[0]"
   ]
  },
  {
   "cell_type": "code",
   "execution_count": 17,
   "id": "d5acb2e9",
   "metadata": {
    "id": "4433b705"
   },
   "outputs": [],
   "source": [
    "embedding_function = HuggingFaceEmbeddings(\n",
    "        model_name=EMBEDDING_MODEL_NAME,\n",
    "        cache_folder=\"../models/sentencetransformers\"\n",
    "    )"
   ]
  },
  {
   "cell_type": "markdown",
   "metadata": {
    "id": "a3913892"
   },
   "source": [
    "## Build Static Knowledge Base of Stock Data"
   ]
  },
  {
   "cell_type": "code",
   "execution_count": 18,
   "id": "b7a6e61e",
   "metadata": {
    "id": "d0a4c7ea",
    "outputId": "815b32ef-e287-4be3-9c64-2ad24cdba83f"
   },
   "outputs": [
    {
     "data": {
      "text/plain": [
       "Document(page_content='Daily stock market data for Tesla (TSLA):\\nDate: 2010-06-29\\nOpen: 1.266667\\nHigh: 1.666667\\nLow: 1.169333\\nClose: 1.592667\\nAdj Close: 1.592667\\nVolume: 281494500', metadata={'source': '../data/TSLA.csv', 'row': 0, 'last_accessed_at': datetime.datetime(2010, 6, 29, 0, 0)})"
      ]
     },
     "execution_count": 18,
     "metadata": {},
     "output_type": "execute_result"
    }
   ],
   "source": [
    "#first let's add more context to help with Retrieval and add date to metadata (for later use)\n",
    "for ii in range(0, len(stock_data_docs)):\n",
    "    stock_data_docs[ii].page_content = \"Daily stock market data for Tesla (TSLA):\\n\" + stock_data_docs[ii].page_content\n",
    "    date = re.findall(r'Date: (\\d{4}-\\d{2}-\\d{2})', stock_data_docs[ii].page_content)\n",
    "    if len(date) > 0:\n",
    "        stock_data_docs[ii].metadata['last_accessed_at'] = datetime.strptime(date[0], '%Y-%m-%d')\n",
    "    else:\n",
    "        stock_data_docs[ii].metadata['last_accessed_at'] = None\n",
    "stock_data_docs[0]"
   ]
  },
  {
   "cell_type": "code",
   "execution_count": 8,
   "id": "187f0d40",
   "metadata": {
    "id": "59dfff73"
   },
   "outputs": [],
   "source": [
    "db_data = FAISS.from_documents(stock_data_docs, embedding_function)\n",
    "db_data.save_local(\"../data/faiss_stock\")"
   ]
  },
  {
   "cell_type": "markdown",
   "metadata": {
    "id": "efd720ab"
   },
   "source": [
    "## Build Basic LLM Pipelines for Structured Data\n",
    "\n",
    "Note: Our stock data is just through 2024-02-02"
   ]
  },
  {
   "cell_type": "code",
   "execution_count": 10,
   "id": "ed95b3ee",
   "metadata": {
    "id": "b0305479"
   },
   "outputs": [],
   "source": [
    "top_k=16\n",
    "retriever_stock = VectorStoreRetriever(vectorstore=db_data, search_kwargs={\"k\": top_k})\n",
    "\n",
    "def generate_response(prompt, retriever):\n",
    "    #today's date - let's pretend it is 2024-02-02\n",
    "    today = \"2024-02-02\"\n",
    "    #replace \"current\" or \"today\" with today's date\n",
    "    prompt = re.sub(r'current|today', today, prompt, flags=re.IGNORECASE)\n",
    "    print(\"Prompt: \", prompt)\n",
    "    # Get the top k most similar documents\n",
    "    results = retriever.get_relevant_documents(prompt)\n",
    "    return results"
   ]
  },
  {
   "cell_type": "code",
   "execution_count": 11,
   "id": "64315a68",
   "metadata": {
    "id": "46ea2ac9",
    "outputId": "adf2c389-592c-42c4-f0c6-8126c84a3200"
   },
   "outputs": [
    {
     "name": "stdout",
     "output_type": "stream",
     "text": [
      "Prompt:  What is TSLA's 2024-02-02 close price?\n"
     ]
    },
    {
     "data": {
      "text/plain": [
       "[Document(page_content='Daily stock market data for Tesla (TSLA):\\nDaily stock market data for Tesla (TSLA):\\nDate: 2021-08-03\\nOpen: 239.666672\\nHigh: 240.883331\\nLow: 233.669998\\nClose: 236.580002\\nAdj Close: 236.580002\\nVolume: 64860900', metadata={'source': '../data/TSLA.csv', 'row': 2793, 'last_accessed_at': datetime.datetime(2021, 8, 3, 0, 0)}),\n",
       " Document(page_content='Daily stock market data for Tesla (TSLA):\\nDaily stock market data for Tesla (TSLA):\\nDate: 2022-08-18\\nOpen: 306.000000\\nHigh: 306.500000\\nLow: 301.853333\\nClose: 302.869995\\nAdj Close: 302.869995\\nVolume: 47500500', metadata={'source': '../data/TSLA.csv', 'row': 3056, 'last_accessed_at': datetime.datetime(2022, 8, 18, 0, 0)}),\n",
       " Document(page_content='Daily stock market data for Tesla (TSLA):\\nDaily stock market data for Tesla (TSLA):\\nDate: 2021-01-06\\nOpen: 252.830002\\nHigh: 258.000000\\nLow: 249.699997\\nClose: 251.993332\\nAdj Close: 251.993332\\nVolume: 134100000', metadata={'source': '../data/TSLA.csv', 'row': 2649, 'last_accessed_at': datetime.datetime(2021, 1, 6, 0, 0)}),\n",
       " Document(page_content='Daily stock market data for Tesla (TSLA):\\nDaily stock market data for Tesla (TSLA):\\nDate: 2021-04-20\\nOpen: 239.139999\\nHigh: 245.750000\\nLow: 236.896667\\nClose: 239.663330\\nAdj Close: 239.663330\\nVolume: 106827000', metadata={'source': '../data/TSLA.csv', 'row': 2720, 'last_accessed_at': datetime.datetime(2021, 4, 20, 0, 0)}),\n",
       " Document(page_content='Daily stock market data for Tesla (TSLA):\\nDaily stock market data for Tesla (TSLA):\\nDate: 2022-09-16\\nOpen: 299.609985\\nHigh: 303.709991\\nLow: 295.600006\\nClose: 303.350006\\nAdj Close: 303.350006\\nVolume: 87087800', metadata={'source': '../data/TSLA.csv', 'row': 3076, 'last_accessed_at': datetime.datetime(2022, 9, 16, 0, 0)}),\n",
       " Document(page_content='Daily stock market data for Tesla (TSLA):\\nDaily stock market data for Tesla (TSLA):\\nDate: 2022-12-19\\nOpen: 154.000000\\nHigh: 155.250000\\nLow: 145.820007\\nClose: 149.869995\\nAdj Close: 149.869995\\nVolume: 139390600', metadata={'source': '../data/TSLA.csv', 'row': 3141, 'last_accessed_at': datetime.datetime(2022, 12, 19, 0, 0)}),\n",
       " Document(page_content='Daily stock market data for Tesla (TSLA):\\nDaily stock market data for Tesla (TSLA):\\nDate: 2022-07-15\\nOpen: 240.000000\\nHigh: 243.623337\\nLow: 236.889999\\nClose: 240.066666\\nAdj Close: 240.066666\\nVolume: 69683100', metadata={'source': '../data/TSLA.csv', 'row': 3032, 'last_accessed_at': datetime.datetime(2022, 7, 15, 0, 0)}),\n",
       " Document(page_content='Daily stock market data for Tesla (TSLA):\\nDaily stock market data for Tesla (TSLA):\\nDate: 2021-03-04\\nOpen: 218.600006\\nHigh: 222.816666\\nLow: 200.000000\\nClose: 207.146667\\nAdj Close: 207.146667\\nVolume: 197758500', metadata={'source': '../data/TSLA.csv', 'row': 2688, 'last_accessed_at': datetime.datetime(2021, 3, 4, 0, 0)}),\n",
       " Document(page_content='Daily stock market data for Tesla (TSLA):\\nDaily stock market data for Tesla (TSLA):\\nDate: 2023-02-17\\nOpen: 199.990005\\nHigh: 208.440002\\nLow: 197.500000\\nClose: 208.309998\\nAdj Close: 208.309998\\nVolume: 213738500', metadata={'source': '../data/TSLA.csv', 'row': 3182, 'last_accessed_at': datetime.datetime(2023, 2, 17, 0, 0)}),\n",
       " Document(page_content='Daily stock market data for Tesla (TSLA):\\nDaily stock market data for Tesla (TSLA):\\nDate: 2022-10-06\\nOpen: 239.440002\\nHigh: 244.580002\\nLow: 235.350006\\nClose: 238.130005\\nAdj Close: 238.130005\\nVolume: 69298400', metadata={'source': '../data/TSLA.csv', 'row': 3090, 'last_accessed_at': datetime.datetime(2022, 10, 6, 0, 0)}),\n",
       " Document(page_content='Daily stock market data for Tesla (TSLA):\\nDaily stock market data for Tesla (TSLA):\\nDate: 2022-05-20\\nOpen: 237.996674\\nHigh: 240.526672\\nLow: 211.000000\\nClose: 221.300003\\nAdj Close: 221.300003\\nVolume: 144973200', metadata={'source': '../data/TSLA.csv', 'row': 2995, 'last_accessed_at': datetime.datetime(2022, 5, 20, 0, 0)}),\n",
       " Document(page_content='Daily stock market data for Tesla (TSLA):\\nDaily stock market data for Tesla (TSLA):\\nDate: 2023-10-25\\nOpen: 215.880005\\nHigh: 220.100006\\nLow: 212.199997\\nClose: 212.419998\\nAdj Close: 212.419998\\nVolume: 107065100', metadata={'source': '../data/TSLA.csv', 'row': 3354, 'last_accessed_at': datetime.datetime(2023, 10, 25, 0, 0)}),\n",
       " Document(page_content='Daily stock market data for Tesla (TSLA):\\nDaily stock market data for Tesla (TSLA):\\nDate: 2022-02-02\\nOpen: 309.393341\\nHigh: 310.500000\\nLow: 296.470001\\nClose: 301.886658\\nAdj Close: 301.886658\\nVolume: 66792900', metadata={'source': '../data/TSLA.csv', 'row': 2920, 'last_accessed_at': datetime.datetime(2022, 2, 2, 0, 0)}),\n",
       " Document(page_content='Daily stock market data for Tesla (TSLA):\\nDaily stock market data for Tesla (TSLA):\\nDate: 2023-12-21\\nOpen: 251.899994\\nHigh: 254.800003\\nLow: 248.550003\\nClose: 254.500000\\nAdj Close: 254.500000\\nVolume: 109594200', metadata={'source': '../data/TSLA.csv', 'row': 3394, 'last_accessed_at': datetime.datetime(2023, 12, 21, 0, 0)}),\n",
       " Document(page_content='Daily stock market data for Tesla (TSLA):\\nDaily stock market data for Tesla (TSLA):\\nDate: 2022-08-04\\nOpen: 311.000000\\nHigh: 313.606659\\nLow: 305.000000\\nClose: 308.633331\\nAdj Close: 308.633331\\nVolume: 72256200', metadata={'source': '../data/TSLA.csv', 'row': 3046, 'last_accessed_at': datetime.datetime(2022, 8, 4, 0, 0)}),\n",
       " Document(page_content='Daily stock market data for Tesla (TSLA):\\nDaily stock market data for Tesla (TSLA):\\nDate: 2021-03-01\\nOpen: 230.036667\\nHigh: 239.666672\\nLow: 228.350006\\nClose: 239.476669\\nAdj Close: 239.476669\\nVolume: 81408600', metadata={'source': '../data/TSLA.csv', 'row': 2685, 'last_accessed_at': datetime.datetime(2021, 3, 1, 0, 0)})]"
      ]
     },
     "execution_count": 11,
     "metadata": {},
     "output_type": "execute_result"
    }
   ],
   "source": [
    "question =\"What is TSLA's current close price?\"\n",
    "generate_response(question, retriever_stock)"
   ]
  },
  {
   "cell_type": "markdown",
   "metadata": {
    "id": "65c1b2c0"
   },
   "source": [
    "### TimeWeightedVectorStoreRetriever\n",
    "\n",
    "Notice that even when we replace \"current\" with today's date, our retrieval process is not strong enough to only pick recent dates. Let's try using TimeWeightedVectorStoreRetriever to bias towards recent dates<br>"
   ]
  },
  {
   "cell_type": "code",
   "execution_count": 12,
   "id": "09949529",
   "metadata": {
    "id": "01000f57",
    "outputId": "2b71eb7d-d3f9-445a-db68-eda936f5d96f"
   },
   "outputs": [
    {
     "name": "stdout",
     "output_type": "stream",
     "text": [
      "Prompt:  What is TSLA's 2024-02-02 close price?\n"
     ]
    },
    {
     "data": {
      "text/plain": [
       "[Document(page_content='Daily stock market data for Tesla (TSLA):\\nDaily stock market data for Tesla (TSLA):\\nDate: 2024-02-02\\nOpen: 185.039993\\nHigh: 188.690002\\nLow: 182.000000\\nClose: 187.910004\\nAdj Close: 187.910004\\nVolume: 110505100', metadata={'source': '../data/TSLA.csv', 'row': 3422, 'last_accessed_at': MockDateTime(2024, 2, 2, 23, 0), 'created_at': datetime.datetime(2024, 3, 25, 20, 52, 52, 21390), 'buffer_idx': 3422}),\n",
       " Document(page_content='Daily stock market data for Tesla (TSLA):\\nDaily stock market data for Tesla (TSLA):\\nDate: 2024-02-01\\nOpen: 188.500000\\nHigh: 189.880005\\nLow: 184.279999\\nClose: 188.860001\\nAdj Close: 188.860001\\nVolume: 91843300', metadata={'source': '../data/TSLA.csv', 'row': 3421, 'last_accessed_at': MockDateTime(2024, 2, 2, 23, 0), 'created_at': datetime.datetime(2024, 3, 25, 20, 52, 52, 21390), 'buffer_idx': 3421}),\n",
       " Document(page_content='Daily stock market data for Tesla (TSLA):\\nDaily stock market data for Tesla (TSLA):\\nDate: 2024-01-31\\nOpen: 187.000000\\nHigh: 193.970001\\nLow: 185.850006\\nClose: 187.289993\\nAdj Close: 187.289993\\nVolume: 103221400', metadata={'source': '../data/TSLA.csv', 'row': 3420, 'last_accessed_at': MockDateTime(2024, 2, 2, 23, 0), 'created_at': datetime.datetime(2024, 3, 25, 20, 52, 52, 21390), 'buffer_idx': 3420}),\n",
       " Document(page_content='Daily stock market data for Tesla (TSLA):\\nDaily stock market data for Tesla (TSLA):\\nDate: 2024-01-30\\nOpen: 195.330002\\nHigh: 196.360001\\nLow: 190.610001\\nClose: 191.589996\\nAdj Close: 191.589996\\nVolume: 109982300', metadata={'source': '../data/TSLA.csv', 'row': 3419, 'last_accessed_at': MockDateTime(2024, 2, 2, 23, 0), 'created_at': datetime.datetime(2024, 3, 25, 20, 52, 52, 21390), 'buffer_idx': 3419}),\n",
       " Document(page_content='Daily stock market data for Tesla (TSLA):\\nDaily stock market data for Tesla (TSLA):\\nDate: 2024-01-29\\nOpen: 185.630005\\nHigh: 191.479996\\nLow: 183.669998\\nClose: 190.929993\\nAdj Close: 190.929993\\nVolume: 125013100', metadata={'source': '../data/TSLA.csv', 'row': 3418, 'last_accessed_at': MockDateTime(2024, 2, 2, 23, 0), 'created_at': datetime.datetime(2024, 3, 25, 20, 52, 52, 21390), 'buffer_idx': 3418}),\n",
       " Document(page_content='Daily stock market data for Tesla (TSLA):\\nDaily stock market data for Tesla (TSLA):\\nDate: 2024-01-16\\nOpen: 215.100006\\nHigh: 223.490005\\nLow: 212.179993\\nClose: 219.910004\\nAdj Close: 219.910004\\nVolume: 115355000', metadata={'source': '../data/TSLA.csv', 'row': 3409, 'last_accessed_at': MockDateTime(2024, 2, 2, 23, 0), 'created_at': datetime.datetime(2024, 3, 25, 20, 52, 52, 21390), 'buffer_idx': 3409}),\n",
       " Document(page_content='Daily stock market data for Tesla (TSLA):\\nDaily stock market data for Tesla (TSLA):\\nDate: 2024-01-26\\nOpen: 185.500000\\nHigh: 186.779999\\nLow: 182.100006\\nClose: 183.250000\\nAdj Close: 183.250000\\nVolume: 107343200', metadata={'source': '../data/TSLA.csv', 'row': 3417, 'last_accessed_at': MockDateTime(2024, 2, 2, 23, 0), 'created_at': datetime.datetime(2024, 3, 25, 20, 52, 52, 21390), 'buffer_idx': 3417}),\n",
       " Document(page_content='Daily stock market data for Tesla (TSLA):\\nDaily stock market data for Tesla (TSLA):\\nDate: 2021-08-03\\nOpen: 239.666672\\nHigh: 240.883331\\nLow: 233.669998\\nClose: 236.580002\\nAdj Close: 236.580002\\nVolume: 64860900', metadata={'source': '../data/TSLA.csv', 'row': 2793, 'last_accessed_at': MockDateTime(2024, 2, 2, 23, 0), 'created_at': datetime.datetime(2024, 3, 25, 20, 52, 52, 21390), 'buffer_idx': 2793}),\n",
       " Document(page_content='Daily stock market data for Tesla (TSLA):\\nDaily stock market data for Tesla (TSLA):\\nDate: 2022-08-18\\nOpen: 306.000000\\nHigh: 306.500000\\nLow: 301.853333\\nClose: 302.869995\\nAdj Close: 302.869995\\nVolume: 47500500', metadata={'source': '../data/TSLA.csv', 'row': 3056, 'last_accessed_at': MockDateTime(2024, 2, 2, 23, 0), 'created_at': datetime.datetime(2024, 3, 25, 20, 52, 52, 21390), 'buffer_idx': 3056}),\n",
       " Document(page_content='Daily stock market data for Tesla (TSLA):\\nDaily stock market data for Tesla (TSLA):\\nDate: 2024-01-25\\nOpen: 189.699997\\nHigh: 193.000000\\nLow: 180.059998\\nClose: 182.630005\\nAdj Close: 182.630005\\nVolume: 198076800', metadata={'source': '../data/TSLA.csv', 'row': 3416, 'last_accessed_at': MockDateTime(2024, 2, 2, 23, 0), 'created_at': datetime.datetime(2024, 3, 25, 20, 52, 52, 21390), 'buffer_idx': 3416}),\n",
       " Document(page_content='Daily stock market data for Tesla (TSLA):\\nDaily stock market data for Tesla (TSLA):\\nDate: 2024-01-02\\nOpen: 250.080002\\nHigh: 251.250000\\nLow: 244.410004\\nClose: 248.419998\\nAdj Close: 248.419998\\nVolume: 104654200', metadata={'source': '../data/TSLA.csv', 'row': 3400, 'last_accessed_at': MockDateTime(2024, 2, 2, 23, 0), 'created_at': datetime.datetime(2024, 3, 25, 20, 52, 52, 21390), 'buffer_idx': 3400}),\n",
       " Document(page_content='Daily stock market data for Tesla (TSLA):\\nDaily stock market data for Tesla (TSLA):\\nDate: 2023-12-21\\nOpen: 251.899994\\nHigh: 254.800003\\nLow: 248.550003\\nClose: 254.500000\\nAdj Close: 254.500000\\nVolume: 109594200', metadata={'source': '../data/TSLA.csv', 'row': 3394, 'last_accessed_at': MockDateTime(2024, 2, 2, 23, 0), 'created_at': datetime.datetime(2024, 3, 25, 20, 52, 52, 21390), 'buffer_idx': 3394}),\n",
       " Document(page_content='Daily stock market data for Tesla (TSLA):\\nDaily stock market data for Tesla (TSLA):\\nDate: 2021-01-06\\nOpen: 252.830002\\nHigh: 258.000000\\nLow: 249.699997\\nClose: 251.993332\\nAdj Close: 251.993332\\nVolume: 134100000', metadata={'source': '../data/TSLA.csv', 'row': 2649, 'last_accessed_at': MockDateTime(2024, 2, 2, 23, 0), 'created_at': datetime.datetime(2024, 3, 25, 20, 52, 52, 21390), 'buffer_idx': 2649}),\n",
       " Document(page_content='Daily stock market data for Tesla (TSLA):\\nDaily stock market data for Tesla (TSLA):\\nDate: 2021-04-20\\nOpen: 239.139999\\nHigh: 245.750000\\nLow: 236.896667\\nClose: 239.663330\\nAdj Close: 239.663330\\nVolume: 106827000', metadata={'source': '../data/TSLA.csv', 'row': 2720, 'last_accessed_at': MockDateTime(2024, 2, 2, 23, 0), 'created_at': datetime.datetime(2024, 3, 25, 20, 52, 52, 21390), 'buffer_idx': 2720}),\n",
       " Document(page_content='Daily stock market data for Tesla (TSLA):\\nDaily stock market data for Tesla (TSLA):\\nDate: 2022-09-16\\nOpen: 299.609985\\nHigh: 303.709991\\nLow: 295.600006\\nClose: 303.350006\\nAdj Close: 303.350006\\nVolume: 87087800', metadata={'source': '../data/TSLA.csv', 'row': 3076, 'last_accessed_at': MockDateTime(2024, 2, 2, 23, 0), 'created_at': datetime.datetime(2024, 3, 25, 20, 52, 52, 21390), 'buffer_idx': 3076}),\n",
       " Document(page_content='Daily stock market data for Tesla (TSLA):\\nDaily stock market data for Tesla (TSLA):\\nDate: 2022-12-19\\nOpen: 154.000000\\nHigh: 155.250000\\nLow: 145.820007\\nClose: 149.869995\\nAdj Close: 149.869995\\nVolume: 139390600', metadata={'source': '../data/TSLA.csv', 'row': 3141, 'last_accessed_at': MockDateTime(2024, 2, 2, 23, 0), 'created_at': datetime.datetime(2024, 3, 25, 20, 52, 52, 21390), 'buffer_idx': 3141})]"
      ]
     },
     "execution_count": 12,
     "metadata": {},
     "output_type": "execute_result"
    }
   ],
   "source": [
    "# Solution 1\n",
    "embedding_size = len(embedding_function.embed_documents([question])[0])\n",
    "index = faiss.IndexFlatL2(384)\n",
    "vectorstore = FAISS(embedding_function, index, InMemoryDocstore({}), {})\n",
    "tw_retriever_stock = TimeWeightedVectorStoreRetriever(vectorstore=vectorstore,decay_rate=0.005, k=top_k)\n",
    "# Notice the last access time is that date time\n",
    "tw_retriever_stock.add_documents(stock_data_docs)\n",
    "with mock_now(datetime(2024, 2, 2, 23, 0)):\n",
    "    rel_docs = generate_response(question, tw_retriever_stock)\n",
    "rel_docs"
   ]
  },
  {
   "cell_type": "markdown",
   "id": "44eeb8bf",
   "metadata": {
    "id": "95f99f8e"
   },
   "source": [
    "This technically worked, but is not what we want. The 'last_accessed_at' was updated so it is not longer using the date for the stock and this will hurt performance when asking for previous dates. Let's try agents."
   ]
  },
  {
   "cell_type": "markdown",
   "metadata": {
    "id": "f3973165"
   },
   "source": [
    "# Create CSV Agent\n",
    "\n",
    "### To be implemented at a later date"
   ]
  },
  {
   "cell_type": "markdown",
   "metadata": {
    "id": "234712b0"
   },
   "source": [
    "# Route Questions using Similarity Functions"
   ]
  },
  {
   "cell_type": "code",
   "execution_count": null,
   "metadata": {
    "id": "f9ab5900"
   },
   "outputs": [],
   "source": []
  }
 ],
 "metadata": {
  "colab": {
   "provenance": []
  },
  "kernelspec": {
   "display_name": "Python 3",
   "language": "python",
   "name": "python3"
  },
  "language_info": {
   "codemirror_mode": {
    "name": "ipython",
    "version": 3
   },
   "file_extension": ".py",
   "mimetype": "text/x-python",
   "name": "python",
   "nbconvert_exporter": "python",
   "pygments_lexer": "ipython3",
   "version": "3.8.10"
  }
 },
 "nbformat": 4,
 "nbformat_minor": 5
}
