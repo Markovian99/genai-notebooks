{
 "cells": [
  {
   "cell_type": "markdown",
   "id": "1275150c",
   "metadata": {
    "id": "3d50f6b3"
   },
   "source": [
    "# Using [DSPy](https://github.com/stanfordnlp/dspy) \n",
    "\n",
    "- Signatures\n",
    "- System Prompts\n",
    "\n",
    "\n",
    "In this notebook we will show how to use DSPy Signatures and System prompts for gpt models."
   ]
  },
  {
   "cell_type": "markdown",
   "metadata": {
    "id": "a23f9e06"
   },
   "source": [
    "# Import libraries"
   ]
  },
  {
   "cell_type": "code",
   "execution_count": 1,
   "id": "96e6737a",
   "metadata": {
    "chart_settings": null,
    "custom_metric_settings": null,
    "dataframe_view_options": null,
    "datarobot": {
     "language": "python"
    },
    "disable_run": null,
    "hide_code": null,
    "hide_results": null,
    "id": "64e51b8d4fcea0e1deb7dcf3"
   },
   "outputs": [],
   "source": [
    "import os\n",
    "import dspy\n",
    "\n",
    "import openai\n",
    "\n",
    "from dotenv import load_dotenv\n",
    "# Load environment variables\n",
    "load_dotenv()\n",
    "\n",
    "openai.api_key = os.getenv('OPENAI_API_KEY')\n",
    "if os.getenv('OPENAI_API_BASE'):\n",
    "    openai.api_base = os.getenv('OPENAI_API_BASE')\n",
    "if os.getenv('OPENAI_API_TYPE'):\n",
    "    openai.api_type = os.getenv('OPENAI_API_TYPE')\n",
    "if os.getenv('OPENAI_API_VERSION'):\n",
    "    openai.api_version = os.getenv('OPENAI_API_VERSION')"
   ]
  },
  {
   "cell_type": "code",
   "execution_count": 2,
   "id": "bb61c55d",
   "metadata": {},
   "outputs": [],
   "source": [
    "# Set up the LM\n",
    "turbo = dspy.OpenAI(model='gpt-3.5-turbo-instruct', max_tokens=250)\n",
    "dspy.settings.configure(lm=turbo)"
   ]
  },
  {
   "cell_type": "code",
   "execution_count": 3,
   "id": "de064243",
   "metadata": {},
   "outputs": [],
   "source": [
    "QUESTION = \"What is the variational bicomplex?\""
   ]
  },
  {
   "cell_type": "markdown",
   "id": "2e35ebba",
   "metadata": {},
   "source": [
    "### Let's looks at a simple example of a Signature (similar to prompt template)"
   ]
  },
  {
   "cell_type": "code",
   "execution_count": 4,
   "id": "8e339741",
   "metadata": {},
   "outputs": [
    {
     "name": "stdout",
     "output_type": "stream",
     "text": [
      "Question: What is the variational bicomplex?\n",
      "Predicted Answer: A mathematical structure used to study variational problems, consisting of two complexes of differential forms.\n"
     ]
    }
   ],
   "source": [
    "class ConciseQA(dspy.Signature):\n",
    "    \"\"\"You are a mathematics professor that answer's questions very concisely.\"\"\"\n",
    "\n",
    "    question = dspy.InputField()\n",
    "    answer = dspy.OutputField(desc=\"less than 30 words\")\n",
    "\n",
    "# Define the predictor.\n",
    "generate_answer = dspy.Predict(ConciseQA)\n",
    "\n",
    "# Call the predictor on a particular input.\n",
    "pred = generate_answer(question=QUESTION)\n",
    "\n",
    "# Print the input and the prediction.\n",
    "print(f\"Question: {QUESTION}\")\n",
    "print(f\"Predicted Answer: {pred.answer}\")"
   ]
  },
  {
   "cell_type": "code",
   "execution_count": 5,
   "id": "350265a5",
   "metadata": {},
   "outputs": [
    {
     "data": {
      "text/plain": [
       "[{'prompt': \"You are a mathematics professor that answer's questions very concisely.\\n\\n---\\n\\nFollow the following format.\\n\\nQuestion: ${question}\\nAnswer: less than 30 words\\n\\n---\\n\\nQuestion: What is the variational bicomplex?\\nAnswer:\",\n",
       "  'response': {'id': 'cmpl-95k52NVyVRCXlNMaFKcEFhZuENYvv',\n",
       "   'choices': [{'finish_reason': 'stop',\n",
       "     'index': 0,\n",
       "     'logprobs': None,\n",
       "     'text': ' A mathematical structure used to study variational problems, consisting of two complexes of differential forms.'}],\n",
       "   'created': 1711155800,\n",
       "   'model': 'gpt-3.5-turbo-instruct',\n",
       "   'object': 'text_completion',\n",
       "   'system_fingerprint': None,\n",
       "   'usage': {'completion_tokens': 18,\n",
       "    'prompt_tokens': 47,\n",
       "    'total_tokens': 65}},\n",
       "  'kwargs': {'temperature': 0.0,\n",
       "   'max_tokens': 250,\n",
       "   'top_p': 1,\n",
       "   'frequency_penalty': 0,\n",
       "   'presence_penalty': 0,\n",
       "   'n': 1,\n",
       "   'model': 'gpt-3.5-turbo-instruct',\n",
       "   'prompt': \"You are a mathematics professor that answer's questions very concisely.\\n\\n---\\n\\nFollow the following format.\\n\\nQuestion: ${question}\\nAnswer: less than 30 words\\n\\n---\\n\\nQuestion: What is the variational bicomplex?\\nAnswer:\"},\n",
       "  'raw_kwargs': {}}]"
      ]
     },
     "execution_count": 5,
     "metadata": {},
     "output_type": "execute_result"
    }
   ],
   "source": [
    "turbo.history"
   ]
  },
  {
   "cell_type": "markdown",
   "id": "7044b569",
   "metadata": {},
   "source": [
    "#### Now let's put this in a dspy Module class (works the same way)"
   ]
  },
  {
   "cell_type": "code",
   "execution_count": 6,
   "id": "9741bc57",
   "metadata": {},
   "outputs": [
    {
     "name": "stdout",
     "output_type": "stream",
     "text": [
      "A mathematical structure used to study variational problems, consisting of two complexes of differential forms.\n"
     ]
    }
   ],
   "source": [
    "class AnswerBot(dspy.Module):\n",
    "    def __init__(self, tools=None):\n",
    "        super().__init__()\n",
    "\n",
    "        self.generate_answer = dspy.Predict(ConciseQA)\n",
    "        \n",
    "    def forward(self, question):\n",
    "        prediction = self.generate_answer(question=f\"{question}\")\n",
    "        return dspy.Prediction(answer=prediction.answer)\n",
    "\n",
    "uncompiled_answer_bot = AnswerBot()\n",
    "pred = uncompiled_answer_bot(question=QUESTION)\n",
    "print(pred.answer)"
   ]
  },
  {
   "cell_type": "code",
   "execution_count": 7,
   "id": "9317a642",
   "metadata": {},
   "outputs": [
    {
     "data": {
      "text/plain": [
       "[{'prompt': \"You are a mathematics professor that answer's questions very concisely.\\n\\n---\\n\\nFollow the following format.\\n\\nQuestion: ${question}\\nAnswer: less than 30 words\\n\\n---\\n\\nQuestion: What is the variational bicomplex?\\nAnswer:\",\n",
       "  'response': {'id': 'cmpl-95k52NVyVRCXlNMaFKcEFhZuENYvv',\n",
       "   'choices': [{'finish_reason': 'stop',\n",
       "     'index': 0,\n",
       "     'logprobs': None,\n",
       "     'text': ' A mathematical structure used to study variational problems, consisting of two complexes of differential forms.'}],\n",
       "   'created': 1711155800,\n",
       "   'model': 'gpt-3.5-turbo-instruct',\n",
       "   'object': 'text_completion',\n",
       "   'system_fingerprint': None,\n",
       "   'usage': {'completion_tokens': 18,\n",
       "    'prompt_tokens': 47,\n",
       "    'total_tokens': 65}},\n",
       "  'kwargs': {'temperature': 0.0,\n",
       "   'max_tokens': 250,\n",
       "   'top_p': 1,\n",
       "   'frequency_penalty': 0,\n",
       "   'presence_penalty': 0,\n",
       "   'n': 1,\n",
       "   'model': 'gpt-3.5-turbo-instruct',\n",
       "   'prompt': \"You are a mathematics professor that answer's questions very concisely.\\n\\n---\\n\\nFollow the following format.\\n\\nQuestion: ${question}\\nAnswer: less than 30 words\\n\\n---\\n\\nQuestion: What is the variational bicomplex?\\nAnswer:\"},\n",
       "  'raw_kwargs': {}},\n",
       " {'prompt': \"You are a mathematics professor that answer's questions very concisely.\\n\\n---\\n\\nFollow the following format.\\n\\nQuestion: ${question}\\nAnswer: less than 30 words\\n\\n---\\n\\nQuestion: What is the variational bicomplex?\\nAnswer:\",\n",
       "  'response': {'id': 'cmpl-95k52NVyVRCXlNMaFKcEFhZuENYvv',\n",
       "   'choices': [{'finish_reason': 'stop',\n",
       "     'index': 0,\n",
       "     'logprobs': None,\n",
       "     'text': ' A mathematical structure used to study variational problems, consisting of two complexes of differential forms.'}],\n",
       "   'created': 1711155800,\n",
       "   'model': 'gpt-3.5-turbo-instruct',\n",
       "   'object': 'text_completion',\n",
       "   'system_fingerprint': None,\n",
       "   'usage': {'completion_tokens': 18,\n",
       "    'prompt_tokens': 47,\n",
       "    'total_tokens': 65}},\n",
       "  'kwargs': {'temperature': 0.0,\n",
       "   'max_tokens': 250,\n",
       "   'top_p': 1,\n",
       "   'frequency_penalty': 0,\n",
       "   'presence_penalty': 0,\n",
       "   'n': 1,\n",
       "   'model': 'gpt-3.5-turbo-instruct',\n",
       "   'prompt': \"You are a mathematics professor that answer's questions very concisely.\\n\\n---\\n\\nFollow the following format.\\n\\nQuestion: ${question}\\nAnswer: less than 30 words\\n\\n---\\n\\nQuestion: What is the variational bicomplex?\\nAnswer:\"},\n",
       "  'raw_kwargs': {}}]"
      ]
     },
     "execution_count": 7,
     "metadata": {},
     "output_type": "execute_result"
    }
   ],
   "source": [
    "turbo.history"
   ]
  },
  {
   "cell_type": "markdown",
   "id": "50c6f894",
   "metadata": {},
   "source": [
    "### Let's see if we can modify the OpenAI LM to use system prompts\n",
    "\n",
    "**Note:** This code might not work until the [bug fix](https://github.com/stanfordnlp/dspy/pull/712) is in PyPi package."
   ]
  },
  {
   "cell_type": "code",
   "execution_count": 4,
   "id": "d3c14a92",
   "metadata": {},
   "outputs": [],
   "source": [
    "from dsp.modules import LM\n",
    "from dsp.modules.gpt3 import *"
   ]
  },
  {
   "cell_type": "code",
   "execution_count": 6,
   "id": "0da13c43",
   "metadata": {},
   "outputs": [],
   "source": [
    "turbo4 = dspy.OpenAI(model='gpt-4-0125-preview', max_tokens=500, model_type='chat', system_prompt=\"You are a mathematics professor that answer's questions very concisely and starts all responses with: Hey hey!.\")\n",
    "dspy.settings.configure(lm=turbo4)"
   ]
  },
  {
   "cell_type": "code",
   "execution_count": 7,
   "id": "f1fa2c9e",
   "metadata": {},
   "outputs": [
    {
     "name": "stdout",
     "output_type": "stream",
     "text": [
      "Question: What is the variational bicomplex?\n",
      "Predicted Answer: Hey hey! It's a mathematical structure used in the calculus of variations, organizing differential equations and variational problems on jet bundles systematically.\n"
     ]
    }
   ],
   "source": [
    "class ConciseQA(dspy.Signature):\n",
    "    \"\"\"You are a newly tenured mathematics professor.\"\"\"\n",
    "\n",
    "    question = dspy.InputField()\n",
    "    answer = dspy.OutputField(desc=\"less than 30 words\")\n",
    "\n",
    "# Define the predictor.\n",
    "generate_answer = dspy.Predict(ConciseQA)\n",
    "\n",
    "# Call the predictor on a particular input.\n",
    "pred = generate_answer(question=QUESTION)\n",
    "\n",
    "# Print the input and the prediction.\n",
    "print(f\"Question: {QUESTION}\")\n",
    "print(f\"Predicted Answer: {pred.answer}\")"
   ]
  },
  {
   "cell_type": "code",
   "execution_count": 9,
   "id": "ae259049",
   "metadata": {},
   "outputs": [
    {
     "data": {
      "text/plain": [
       "[{'prompt': 'You are a newly tenured mathematics professor.\\n\\n---\\n\\nFollow the following format.\\n\\nQuestion: ${question}\\nAnswer: less than 30 words\\n\\n---\\n\\nQuestion: What is the variational bicomplex?\\nAnswer:',\n",
       "  'response': {'id': 'chatcmpl-9A2I3a3S0DbY4uv7lmxMTybZ8CzR1',\n",
       "   'choices': [{'finish_reason': 'stop',\n",
       "     'index': 0,\n",
       "     'logprobs': None,\n",
       "     'message': {'content': \"Hey hey! It's a mathematical structure used in the calculus of variations, organizing differential equations and variational problems on jet bundles systematically.\",\n",
       "      'role': 'assistant',\n",
       "      'function_call': None,\n",
       "      'tool_calls': None}}],\n",
       "   'created': 1712179111,\n",
       "   'model': 'gpt-4-0125-preview',\n",
       "   'object': 'chat.completion',\n",
       "   'system_fingerprint': 'fp_13c70b9f70',\n",
       "   'usage': {'completion_tokens': 27,\n",
       "    'prompt_tokens': 75,\n",
       "    'total_tokens': 102}},\n",
       "  'kwargs': {'stringify_request': '{\"temperature\": 0.0, \"max_tokens\": 500, \"top_p\": 1, \"frequency_penalty\": 0, \"presence_penalty\": 0, \"n\": 1, \"model\": \"gpt-4-0125-preview\", \"messages\": [{\"role\": \"system\", \"content\": \"You are a mathematics professor that answer\\'s questions very concisely and starts all responses with: Hey hey!.\"}, {\"role\": \"user\", \"content\": \"You are a newly tenured mathematics professor.\\\\n\\\\n---\\\\n\\\\nFollow the following format.\\\\n\\\\nQuestion: ${question}\\\\nAnswer: less than 30 words\\\\n\\\\n---\\\\n\\\\nQuestion: What is the variational bicomplex?\\\\nAnswer:\"}]}'},\n",
       "  'raw_kwargs': {}}]"
      ]
     },
     "execution_count": 9,
     "metadata": {},
     "output_type": "execute_result"
    }
   ],
   "source": [
    "turbo4.history"
   ]
  },
  {
   "cell_type": "code",
   "execution_count": null,
   "id": "88e5c38a",
   "metadata": {},
   "outputs": [],
   "source": []
  }
 ],
 "metadata": {
  "colab": {
   "provenance": []
  },
  "kernelspec": {
   "display_name": "Python 3",
   "language": "python",
   "name": "python3"
  },
  "language_info": {
   "codemirror_mode": {
    "name": "ipython",
    "version": 3
   },
   "file_extension": ".py",
   "mimetype": "text/x-python",
   "name": "python",
   "nbconvert_exporter": "python",
   "pygments_lexer": "ipython3",
   "version": "3.10.6"
  }
 },
 "nbformat": 4,
 "nbformat_minor": 5
}
