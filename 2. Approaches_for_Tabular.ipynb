{
 "cells": [
  {
   "cell_type": "markdown",
   "id": "1275150c",
   "metadata": {
    "id": "3d50f6b3"
   },
   "source": [
    "# WORK IN PROGRESS\n",
    "\n",
    "# Notebook 2: Approaches for Tabular Data\n",
    "\n",
    "In this notebook we will show a few ways to use LLM pipelines with tabular data.\n",
    "\n",
    "We will consider on Tesla (TSLA) stock prices data.\n",
    "* TBD\n",
    "* TBD"
   ]
  },
  {
   "cell_type": "markdown",
   "metadata": {
    "id": "a23f9e06"
   },
   "source": [
    "# Import libraries and load the 10k and stock data"
   ]
  },
  {
   "cell_type": "code",
   "execution_count": null,
   "id": "96e6737a",
   "metadata": {
    "chart_settings": null,
    "custom_metric_settings": null,
    "dataframe_view_options": null,
    "datarobot": {
     "language": "python"
    },
    "disable_run": null,
    "hide_code": null,
    "hide_results": null,
    "id": "64e51b8d4fcea0e1deb7dcf3"
   },
   "outputs": [],
   "source": [
    "import subprocess\n",
    "import tiktoken\n",
    "import pandas as pd\n",
    "import os\n",
    "import csv\n",
    "import json\n",
    "import time\n",
    "import re\n",
    "import transformers\n",
    "import torch\n",
    "import numpy as np\n",
    "from datetime import datetime\n",
    "\n",
    "# To use with the router\n",
    "from rouge_score import rouge_scorer\n",
    "from nltk.corpus import stopwords\n",
    "from nltk.stem import WordNetLemmatizer\n",
    "from nltk.tokenize import word_tokenize\n",
    "from sklearn.metrics.pairwise import cosine_similarity\n",
    "\n",
    "#We will use langchanin to create a vector store to retrieve stronger negatives\n",
    "import faiss\n",
    "from langchain.vectorstores.faiss import FAISS\n",
    "from langchain.docstore import InMemoryDocstore\n",
    "from langchain_core.vectorstores import VectorStoreRetriever\n",
    "from langchain.text_splitter import TokenTextSplitter, RecursiveCharacterTextSplitter\n",
    "from langchain.document_loaders import UnstructuredPDFLoader, csv_loader\n",
    "# from langchain.embeddings.sentence_transformer import HuggingFaceEmbeddings\n",
    "from langchain_community.embeddings import HuggingFaceEmbeddings\n",
    "from langchain.retrievers import TimeWeightedVectorStoreRetriever\n",
    "from langchain.utils import mock_now\n",
    "\n",
    "\n",
    "\n",
    "EMBEDDING_MODEL_NAME = \"all-MiniLM-L6-v2\"## \"BAAI/bge-base-en-v1.5\"\"all-MiniLM-L6-v2\""
   ]
  },
  {
   "cell_type": "code",
   "execution_count": null,
   "id": "05b8f31f",
   "metadata": {
    "id": "71be0425",
    "outputId": "6a0e02bd-0e6a-413a-c7c2-c985c2c7b246"
   },
   "outputs": [
    {
     "data": {
      "text/plain": [
       "Document(page_content='Date: 2010-06-29\\nOpen: 1.266667\\nHigh: 1.666667\\nLow: 1.169333\\nClose: 1.592667\\nAdj Close: 1.592667\\nVolume: 281494500', metadata={'source': './data/TSLA.csv', 'row': 0})"
      ]
     },
     "execution_count": 2,
     "metadata": {},
     "output_type": "execute_result"
    }
   ],
   "source": [
    "# read and load 10k pdf file\n",
    "loader = UnstructuredPDFLoader(\"./data/tsla-20231231-gen.pdf\")\n",
    "docs_10k = loader.load()\n",
    "\n",
    "#load stock data. Load dataframe and load directly as docs\n",
    "tsla_stock = pd.read_csv(\"./data/TSLA.csv\")\n",
    "loader  = csv_loader.CSVLoader(file_path=\"./data/TSLA.csv\")\n",
    "stock_data_docs = loader.load()\n",
    "stock_data_docs[0]"
   ]
  },
  {
   "cell_type": "markdown",
   "metadata": {
    "id": "c6e5a9c4"
   },
   "source": [
    "# Split docs and store in FAISS Vector Database for 10k"
   ]
  },
  {
   "cell_type": "code",
   "execution_count": null,
   "id": "0ba6a4b0",
   "metadata": {
    "id": "353df606",
    "outputId": "5865cb2f-965e-4af6-aaee-acc44c552804"
   },
   "outputs": [
    {
     "name": "stdout",
     "output_type": "stream",
     "text": [
      "2530\n"
     ]
    }
   ],
   "source": [
    "#let's split the document into chunks chunk size 128 and overlap size 64\n",
    "text_splitter = RecursiveCharacterTextSplitter.from_tiktoken_encoder(chunk_size = 128, chunk_overlap  = 64, add_start_index = True)\n",
    "docs_split = text_splitter.split_documents(docs_10k)\n",
    "print(len(docs_split))"
   ]
  },
  {
   "cell_type": "code",
   "execution_count": null,
   "id": "d5acb2e9",
   "metadata": {
    "id": "4433b705"
   },
   "outputs": [],
   "source": [
    "embedding_function = HuggingFaceEmbeddings(\n",
    "        model_name=EMBEDDING_MODEL_NAME,\n",
    "        cache_folder=\"./models/sentencetransformers\"\n",
    "    )"
   ]
  },
  {
   "cell_type": "code",
   "execution_count": null,
   "id": "138f5e24",
   "metadata": {
    "id": "e1f66b9d"
   },
   "outputs": [],
   "source": [
    "db = FAISS.from_documents(docs_split, embedding_function)\n",
    "db.save_local(\"./data/faiss\")"
   ]
  },
  {
   "cell_type": "markdown",
   "metadata": {
    "id": "a3913892"
   },
   "source": [
    "# Build Static Knowledge Base of Stock Data"
   ]
  },
  {
   "cell_type": "code",
   "execution_count": null,
   "id": "b7a6e61e",
   "metadata": {
    "id": "d0a4c7ea",
    "outputId": "815b32ef-e287-4be3-9c64-2ad24cdba83f"
   },
   "outputs": [
    {
     "data": {
      "text/plain": [
       "Document(page_content='Daily stock market data for Tesla (TSLA):\\nDate: 2010-06-29\\nOpen: 1.266667\\nHigh: 1.666667\\nLow: 1.169333\\nClose: 1.592667\\nAdj Close: 1.592667\\nVolume: 281494500', metadata={'source': './data/TSLA.csv', 'row': 0, 'last_accessed_at': datetime.datetime(2010, 6, 29, 0, 0)})"
      ]
     },
     "execution_count": 93,
     "metadata": {},
     "output_type": "execute_result"
    }
   ],
   "source": [
    "#first let's add more context to help with Retrieval and add date to metadata (for later use)\n",
    "for ii in range(0, len(stock_data_docs)):\n",
    "    stock_data_docs[ii].page_content = \"Daily stock market data for Tesla (TSLA):\\n\" + stock_data_docs[ii].page_content\n",
    "    date = re.findall(r'Date: (\\d{4}-\\d{2}-\\d{2})', stock_data_docs[ii].page_content)\n",
    "    if len(date) > 0:\n",
    "        stock_data_docs[ii].metadata['last_accessed_at'] = datetime.strptime(date[0], '%Y-%m-%d')\n",
    "    else:\n",
    "        stock_data_docs[ii].metadata['last_accessed_at'] = None\n",
    "stock_data_docs[0]"
   ]
  },
  {
   "cell_type": "code",
   "execution_count": null,
   "id": "187f0d40",
   "metadata": {
    "id": "59dfff73"
   },
   "outputs": [],
   "source": [
    "db_data = FAISS.from_documents(stock_data_docs, embedding_function)\n",
    "db_data.save_local(\"./data/faiss_stock\")"
   ]
  },
  {
   "cell_type": "markdown",
   "metadata": {
    "id": "5d458c7d"
   },
   "source": [
    "# Build Question Bank and Similarity Functions\n",
    "\n",
    "To get the idea across, I used a simplistic method to route questions / prompt to a given LLM pipeline using ROUGE F1 and Dense Similarity with a templated question bank. A more common approach is to use the LLM for orchestration, but this can incur additional cost."
   ]
  },
  {
   "cell_type": "code",
   "execution_count": null,
   "id": "534e716b",
   "metadata": {
    "id": "cbfca7d6"
   },
   "outputs": [],
   "source": [
    "COMPANY_DETAILS_QUESTIONS = [\"Describe {company_name}'s business.\", \"Describe what {company_name} does.\", \"Describe {company_name}.\", \"What sector or industry does {company_name} operate in?\",\n",
    "                             \"What market does {company_name} serve?\", \"What products does {company_name} offer?\", \"What services does the {company_name} offer?\",\n",
    "                             \"Who are the {company_name}'s clients or customers?\", \"Who are the {company_name}'s suppliers?\", \"Who are the {company_name}'s vendors?\"]\n",
    "\n",
    "STOCK_MARKET_QUESTIONS = [\"What is the current stock price for {company_name}?\", \"What is the stock price for {company_name}?\", \"What is the stock price for {company_name} today?\",\n",
    "                          \"What is the latest stock price for {company_name}?\", \"What was the trading volume for {company_name}?\", \"What was the open price for {company_name}?\",\n",
    "                          \"What was the close price for {company_name}?\", \"What was the high price for {company_name}?\", \"What was the low price for {company_name}?\"]\n",
    "\n",
    "#use equity research questions (for other research questions, we can use the same format)\n",
    "COVERAGE_QUESTIONS = [\"What is the analyst coverage for {company_name}?\", \"What is the analyst rating for {company_name}?\", \"What is the analyst price target for {company_name}?\"]\n",
    "\n",
    "# Route added if we had financial data\n",
    "FINANCIALS_QUESTIONS = [\"What is the revenue for {company_name}?\", \"What is the net income for {company_name}?\",\"What is the operating income for {company_name}?\",\"What's {company_name}'s EBITDA?\",\n",
    "                        \"What is the gross profit for {company_name}?\", \"What's {company_name}'s gross margin like?\", \"How much cash does {company_name} have?\", \"How much revenue did {company_name} earn in the last quarter?\"]\n",
    "\n",
    "QUESTION_LISTS = [COMPANY_DETAILS_QUESTIONS, STOCK_MARKET_QUESTIONS]"
   ]
  },
  {
   "cell_type": "code",
   "execution_count": null,
   "id": "dbe540a2",
   "metadata": {
    "id": "8a652ab1"
   },
   "outputs": [],
   "source": [
    "# Initialize the lemmatizer and get list of stop words\n",
    "lemmatizer = WordNetLemmatizer()\n",
    "stop_words = set(stopwords.words('english'))\n",
    "\n",
    "def get_max_rouge_f1(prompt, question_list, company_name, lower=True):\n",
    "    scorer = rouge_scorer.RougeScorer(['rouge1', 'rougeL'], use_stemmer=True)\n",
    "    if lower:\n",
    "        prompt = prompt.lower()\n",
    "        question_list = [question.lower() for question in question_list]\n",
    "    words = word_tokenize(prompt)\n",
    "    # Remove stop words and lemmatize the words\n",
    "    words = [lemmatizer.lemmatize(word) for word in words if word not in stop_words]\n",
    "    prompt_clean = ' '.join(words)\n",
    "\n",
    "    question_list_clean=[]\n",
    "    max_score = 0\n",
    "    best_question = ''\n",
    "    for question in question_list:\n",
    "        question = question.format(company_name=company_name)\n",
    "        words = word_tokenize(question)\n",
    "        words = [lemmatizer.lemmatize(word) for word in words if word not in stop_words]\n",
    "        question_clean = ' '.join(words)\n",
    "        question_list_clean.append(question_clean)\n",
    "        scores = scorer.score(prompt_clean, question_clean)\n",
    "        if scores['rouge1'].fmeasure > max_score:\n",
    "            max_score = scores['rouge1'].fmeasure\n",
    "            best_question = question\n",
    "    return max_score, best_question"
   ]
  },
  {
   "cell_type": "code",
   "execution_count": null,
   "id": "9794a465",
   "metadata": {
    "id": "a5a691a4"
   },
   "outputs": [],
   "source": [
    "def get_max_similarity(prompt, question_list, company_name):\n",
    "\n",
    "    prompt_embedding = embedding_function.embed_documents([prompt])\n",
    "    question_list = [question.format(company_name=company_name) for question in question_list]\n",
    "    question_list_embeddings = embedding_function.embed_documents(question_list)\n",
    "\n",
    "    similarity = cosine_similarity(prompt_embedding, question_list_embeddings)\n",
    "\n",
    "    max_score = np.max(similarity)\n",
    "    best_question = question_list[np.argmax(similarity)]\n",
    "    return max_score, best_question"
   ]
  },
  {
   "cell_type": "code",
   "execution_count": null,
   "id": "dc14f6ec",
   "metadata": {
    "id": "5cce2586",
    "outputId": "bf9e80d8-5631-424a-b947-32141b457c44"
   },
   "outputs": [
    {
     "name": "stdout",
     "output_type": "stream",
     "text": [
      "COMPANY_DETAILS_QUESTIONS: (0, '')\n",
      "STOCK_MARKET_QUESTIONS: (0.5714285714285715, 'what is the stock price for Tesla?')\n"
     ]
    }
   ],
   "source": [
    "question = \"How much was stock price recently?\"\n",
    "\n",
    "print(\"COMPANY_DETAILS_QUESTIONS: {}\".format(get_max_rouge_f1(question, COMPANY_DETAILS_QUESTIONS, company_name=\"Tesla\")))\n",
    "print(\"STOCK_MARKET_QUESTIONS: {}\".format(get_max_rouge_f1(question, STOCK_MARKET_QUESTIONS, company_name=\"Tesla\")))"
   ]
  },
  {
   "cell_type": "markdown",
   "metadata": {
    "id": "efd720ab"
   },
   "source": [
    "# Build Basic LLM Pipelines for Structured Data\n",
    "\n",
    "Note: Our stock data is just through 2024-02-02"
   ]
  },
  {
   "cell_type": "code",
   "execution_count": null,
   "id": "ed95b3ee",
   "metadata": {
    "id": "b0305479"
   },
   "outputs": [],
   "source": [
    "top_k=16\n",
    "retriever_stock = VectorStoreRetriever(vectorstore=db_data, search_kwargs={\"k\": top_k})\n",
    "retriever = VectorStoreRetriever(vectorstore=db, search_kwargs={\"k\": top_k})\n",
    "\n",
    "def generate_response(prompt, retriever):\n",
    "    #today's date - let's pretend it is 2024-02-02\n",
    "    today = \"2024-02-02\"\n",
    "    #replace \"current\" or \"today\" with today's date\n",
    "    prompt = re.sub(r'current|today', today, prompt, flags=re.IGNORECASE)\n",
    "    print(\"Prompt: \", prompt)\n",
    "    # Get the top k most similar documents\n",
    "    results = retriever.get_relevant_documents(prompt)\n",
    "    return results"
   ]
  },
  {
   "cell_type": "code",
   "execution_count": null,
   "id": "64315a68",
   "metadata": {
    "id": "46ea2ac9",
    "outputId": "adf2c389-592c-42c4-f0c6-8126c84a3200"
   },
   "outputs": [
    {
     "name": "stdout",
     "output_type": "stream",
     "text": [
      "Prompt:  What is TSLA's 2024-02-02 close price?\n"
     ]
    },
    {
     "data": {
      "text/plain": [
       "[Document(page_content='Daily stock market data for Tesla (TSLA):\\nDate: 2021-08-03\\nOpen: 239.666672\\nHigh: 240.883331\\nLow: 233.669998\\nClose: 236.580002\\nAdj Close: 236.580002\\nVolume: 64860900', metadata={'source': './data/TSLA.csv', 'row': 2793}),\n",
       " Document(page_content='Daily stock market data for Tesla (TSLA):\\nDate: 2021-04-20\\nOpen: 239.139999\\nHigh: 245.750000\\nLow: 236.896667\\nClose: 239.663330\\nAdj Close: 239.663330\\nVolume: 106827000', metadata={'source': './data/TSLA.csv', 'row': 2720}),\n",
       " Document(page_content='Daily stock market data for Tesla (TSLA):\\nDate: 2022-08-18\\nOpen: 306.000000\\nHigh: 306.500000\\nLow: 301.853333\\nClose: 302.869995\\nAdj Close: 302.869995\\nVolume: 47500500', metadata={'source': './data/TSLA.csv', 'row': 3056}),\n",
       " Document(page_content='Daily stock market data for Tesla (TSLA):\\nDate: 2023-10-25\\nOpen: 215.880005\\nHigh: 220.100006\\nLow: 212.199997\\nClose: 212.419998\\nAdj Close: 212.419998\\nVolume: 107065100', metadata={'source': './data/TSLA.csv', 'row': 3354}),\n",
       " Document(page_content='Daily stock market data for Tesla (TSLA):\\nDate: 2023-12-04\\nOpen: 235.750000\\nHigh: 239.369995\\nLow: 233.289993\\nClose: 235.580002\\nAdj Close: 235.580002\\nVolume: 104099800', metadata={'source': './data/TSLA.csv', 'row': 3381}),\n",
       " Document(page_content='Daily stock market data for Tesla (TSLA):\\nDate: 2022-12-19\\nOpen: 154.000000\\nHigh: 155.250000\\nLow: 145.820007\\nClose: 149.869995\\nAdj Close: 149.869995\\nVolume: 139390600', metadata={'source': './data/TSLA.csv', 'row': 3141}),\n",
       " Document(page_content='Daily stock market data for Tesla (TSLA):\\nDate: 2022-07-15\\nOpen: 240.000000\\nHigh: 243.623337\\nLow: 236.889999\\nClose: 240.066666\\nAdj Close: 240.066666\\nVolume: 69683100', metadata={'source': './data/TSLA.csv', 'row': 3032}),\n",
       " Document(page_content='Daily stock market data for Tesla (TSLA):\\nDate: 2021-01-06\\nOpen: 252.830002\\nHigh: 258.000000\\nLow: 249.699997\\nClose: 251.993332\\nAdj Close: 251.993332\\nVolume: 134100000', metadata={'source': './data/TSLA.csv', 'row': 2649}),\n",
       " Document(page_content='Daily stock market data for Tesla (TSLA):\\nDate: 2023-02-17\\nOpen: 199.990005\\nHigh: 208.440002\\nLow: 197.500000\\nClose: 208.309998\\nAdj Close: 208.309998\\nVolume: 213738500', metadata={'source': './data/TSLA.csv', 'row': 3182}),\n",
       " Document(page_content='Daily stock market data for Tesla (TSLA):\\nDate: 2022-05-02\\nOpen: 286.923340\\nHigh: 302.119995\\nLow: 282.676666\\nClose: 300.980011\\nAdj Close: 300.980011\\nVolume: 75781500', metadata={'source': './data/TSLA.csv', 'row': 2981}),\n",
       " Document(page_content='Daily stock market data for Tesla (TSLA):\\nDate: 2022-09-16\\nOpen: 299.609985\\nHigh: 303.709991\\nLow: 295.600006\\nClose: 303.350006\\nAdj Close: 303.350006\\nVolume: 87087800', metadata={'source': './data/TSLA.csv', 'row': 3076}),\n",
       " Document(page_content='Daily stock market data for Tesla (TSLA):\\nDate: 2023-02-21\\nOpen: 204.990005\\nHigh: 209.710007\\nLow: 197.220001\\nClose: 197.369995\\nAdj Close: 197.369995\\nVolume: 180018600', metadata={'source': './data/TSLA.csv', 'row': 3183}),\n",
       " Document(page_content='Daily stock market data for Tesla (TSLA):\\nDate: 2021-08-12\\nOpen: 235.446671\\nHigh: 240.933334\\nLow: 233.133331\\nClose: 240.750000\\nAdj Close: 240.750000\\nVolume: 52377300', metadata={'source': './data/TSLA.csv', 'row': 2800}),\n",
       " Document(page_content='Daily stock market data for Tesla (TSLA):\\nDate: 2022-10-25\\nOpen: 210.100006\\nHigh: 224.350006\\nLow: 210.000000\\nClose: 222.419998\\nAdj Close: 222.419998\\nVolume: 96507900', metadata={'source': './data/TSLA.csv', 'row': 3103}),\n",
       " Document(page_content='Daily stock market data for Tesla (TSLA):\\nDate: 2022-11-04\\nOpen: 222.600006\\nHigh: 223.800003\\nLow: 203.080002\\nClose: 207.470001\\nAdj Close: 207.470001\\nVolume: 98622200', metadata={'source': './data/TSLA.csv', 'row': 3111}),\n",
       " Document(page_content='Daily stock market data for Tesla (TSLA):\\nDate: 2022-10-12\\nOpen: 215.330002\\nHigh: 219.300003\\nLow: 211.509995\\nClose: 217.240005\\nAdj Close: 217.240005\\nVolume: 66860700', metadata={'source': './data/TSLA.csv', 'row': 3094})]"
      ]
     },
     "execution_count": 84,
     "metadata": {},
     "output_type": "execute_result"
    }
   ],
   "source": [
    "question =\"What is TSLA's current close price?\"\n",
    "generate_response(question, retriever_stock)"
   ]
  },
  {
   "cell_type": "markdown",
   "metadata": {
    "id": "65c1b2c0"
   },
   "source": [
    "Notice that even when we replace \"current\" with today's date, our retrieval process is not strong enough to only pick recent dates.\n",
    "\n",
    "Option 1: TimeWeightedVectorStoreRetriever<br>\n",
    "Option 2: Add date to the top of context"
   ]
  },
  {
   "cell_type": "code",
   "execution_count": null,
   "id": "09949529",
   "metadata": {
    "id": "01000f57",
    "outputId": "2b71eb7d-d3f9-445a-db68-eda936f5d96f"
   },
   "outputs": [
    {
     "name": "stdout",
     "output_type": "stream",
     "text": [
      "Prompt:  What is TSLA's 2024-02-02 close price?\n"
     ]
    },
    {
     "data": {
      "text/plain": [
       "[Document(page_content='Daily stock market data for Tesla (TSLA):\\nDate: 2024-02-02\\nOpen: 185.039993\\nHigh: 188.690002\\nLow: 182.000000\\nClose: 187.910004\\nAdj Close: 187.910004\\nVolume: 110505100', metadata={'source': './data/TSLA.csv', 'row': 3422, 'last_accessed_at': MockDateTime(2024, 2, 2, 23, 0), 'created_at': datetime.datetime(2024, 2, 7, 17, 12, 39, 463554), 'buffer_idx': 3422}),\n",
       " Document(page_content='Daily stock market data for Tesla (TSLA):\\nDate: 2024-02-01\\nOpen: 188.500000\\nHigh: 189.880005\\nLow: 184.279999\\nClose: 188.860001\\nAdj Close: 188.860001\\nVolume: 91843300', metadata={'source': './data/TSLA.csv', 'row': 3421, 'last_accessed_at': MockDateTime(2024, 2, 2, 23, 0), 'created_at': datetime.datetime(2024, 2, 7, 17, 12, 39, 463554), 'buffer_idx': 3421}),\n",
       " Document(page_content='Daily stock market data for Tesla (TSLA):\\nDate: 2024-01-31\\nOpen: 187.000000\\nHigh: 193.970001\\nLow: 185.850006\\nClose: 187.289993\\nAdj Close: 187.289993\\nVolume: 103221400', metadata={'source': './data/TSLA.csv', 'row': 3420, 'last_accessed_at': MockDateTime(2024, 2, 2, 23, 0), 'created_at': datetime.datetime(2024, 2, 7, 17, 12, 39, 463554), 'buffer_idx': 3420}),\n",
       " Document(page_content='Daily stock market data for Tesla (TSLA):\\nDate: 2024-01-30\\nOpen: 195.330002\\nHigh: 196.360001\\nLow: 190.610001\\nClose: 191.589996\\nAdj Close: 191.589996\\nVolume: 109982300', metadata={'source': './data/TSLA.csv', 'row': 3419, 'last_accessed_at': MockDateTime(2024, 2, 2, 23, 0), 'created_at': datetime.datetime(2024, 2, 7, 17, 12, 39, 463554), 'buffer_idx': 3419}),\n",
       " Document(page_content='Daily stock market data for Tesla (TSLA):\\nDate: 2024-01-29\\nOpen: 185.630005\\nHigh: 191.479996\\nLow: 183.669998\\nClose: 190.929993\\nAdj Close: 190.929993\\nVolume: 125013100', metadata={'source': './data/TSLA.csv', 'row': 3418, 'last_accessed_at': MockDateTime(2024, 2, 2, 23, 0), 'created_at': datetime.datetime(2024, 2, 7, 17, 12, 39, 463554), 'buffer_idx': 3418}),\n",
       " Document(page_content='Daily stock market data for Tesla (TSLA):\\nDate: 2024-01-22\\nOpen: 212.259995\\nHigh: 217.800003\\nLow: 206.270004\\nClose: 208.800003\\nAdj Close: 208.800003\\nVolume: 117952500', metadata={'source': './data/TSLA.csv', 'row': 3413, 'last_accessed_at': MockDateTime(2024, 2, 2, 23, 0), 'created_at': datetime.datetime(2024, 2, 7, 17, 12, 39, 463554), 'buffer_idx': 3413}),\n",
       " Document(page_content='Daily stock market data for Tesla (TSLA):\\nDate: 2024-01-26\\nOpen: 185.500000\\nHigh: 186.779999\\nLow: 182.100006\\nClose: 183.250000\\nAdj Close: 183.250000\\nVolume: 107343200', metadata={'source': './data/TSLA.csv', 'row': 3417, 'last_accessed_at': MockDateTime(2024, 2, 2, 23, 0), 'created_at': datetime.datetime(2024, 2, 7, 17, 12, 39, 463554), 'buffer_idx': 3417}),\n",
       " Document(page_content='Daily stock market data for Tesla (TSLA):\\nDate: 2024-01-25\\nOpen: 189.699997\\nHigh: 193.000000\\nLow: 180.059998\\nClose: 182.630005\\nAdj Close: 182.630005\\nVolume: 198076800', metadata={'source': './data/TSLA.csv', 'row': 3416, 'last_accessed_at': MockDateTime(2024, 2, 2, 23, 0), 'created_at': datetime.datetime(2024, 2, 7, 17, 12, 39, 463554), 'buffer_idx': 3416}),\n",
       " Document(page_content='Daily stock market data for Tesla (TSLA):\\nDate: 2024-01-04\\nOpen: 239.250000\\nHigh: 242.699997\\nLow: 237.729996\\nClose: 237.929993\\nAdj Close: 237.929993\\nVolume: 102629300', metadata={'source': './data/TSLA.csv', 'row': 3402, 'last_accessed_at': MockDateTime(2024, 2, 2, 23, 0), 'created_at': datetime.datetime(2024, 2, 7, 17, 12, 39, 463554), 'buffer_idx': 3402}),\n",
       " Document(page_content='Daily stock market data for Tesla (TSLA):\\nDate: 2024-01-02\\nOpen: 250.080002\\nHigh: 251.250000\\nLow: 244.410004\\nClose: 248.419998\\nAdj Close: 248.419998\\nVolume: 104654200', metadata={'source': './data/TSLA.csv', 'row': 3400, 'last_accessed_at': MockDateTime(2024, 2, 2, 23, 0), 'created_at': datetime.datetime(2024, 2, 7, 17, 12, 39, 463554), 'buffer_idx': 3400}),\n",
       " Document(page_content='Daily stock market data for Tesla (TSLA):\\nDate: 2021-08-03\\nOpen: 239.666672\\nHigh: 240.883331\\nLow: 233.669998\\nClose: 236.580002\\nAdj Close: 236.580002\\nVolume: 64860900', metadata={'source': './data/TSLA.csv', 'row': 2793, 'last_accessed_at': MockDateTime(2024, 2, 2, 23, 0), 'created_at': datetime.datetime(2024, 2, 7, 17, 12, 39, 463554), 'buffer_idx': 2793}),\n",
       " Document(page_content='Daily stock market data for Tesla (TSLA):\\nDate: 2021-04-20\\nOpen: 239.139999\\nHigh: 245.750000\\nLow: 236.896667\\nClose: 239.663330\\nAdj Close: 239.663330\\nVolume: 106827000', metadata={'source': './data/TSLA.csv', 'row': 2720, 'last_accessed_at': MockDateTime(2024, 2, 2, 23, 0), 'created_at': datetime.datetime(2024, 2, 7, 17, 12, 39, 463554), 'buffer_idx': 2720}),\n",
       " Document(page_content='Daily stock market data for Tesla (TSLA):\\nDate: 2022-08-18\\nOpen: 306.000000\\nHigh: 306.500000\\nLow: 301.853333\\nClose: 302.869995\\nAdj Close: 302.869995\\nVolume: 47500500', metadata={'source': './data/TSLA.csv', 'row': 3056, 'last_accessed_at': MockDateTime(2024, 2, 2, 23, 0), 'created_at': datetime.datetime(2024, 2, 7, 17, 12, 39, 463554), 'buffer_idx': 3056}),\n",
       " Document(page_content='Daily stock market data for Tesla (TSLA):\\nDate: 2023-10-25\\nOpen: 215.880005\\nHigh: 220.100006\\nLow: 212.199997\\nClose: 212.419998\\nAdj Close: 212.419998\\nVolume: 107065100', metadata={'source': './data/TSLA.csv', 'row': 3354, 'last_accessed_at': MockDateTime(2024, 2, 2, 23, 0), 'created_at': datetime.datetime(2024, 2, 7, 17, 12, 39, 463554), 'buffer_idx': 3354}),\n",
       " Document(page_content='Daily stock market data for Tesla (TSLA):\\nDate: 2023-12-04\\nOpen: 235.750000\\nHigh: 239.369995\\nLow: 233.289993\\nClose: 235.580002\\nAdj Close: 235.580002\\nVolume: 104099800', metadata={'source': './data/TSLA.csv', 'row': 3381, 'last_accessed_at': MockDateTime(2024, 2, 2, 23, 0), 'created_at': datetime.datetime(2024, 2, 7, 17, 12, 39, 463554), 'buffer_idx': 3381}),\n",
       " Document(page_content='Daily stock market data for Tesla (TSLA):\\nDate: 2022-12-19\\nOpen: 154.000000\\nHigh: 155.250000\\nLow: 145.820007\\nClose: 149.869995\\nAdj Close: 149.869995\\nVolume: 139390600', metadata={'source': './data/TSLA.csv', 'row': 3141, 'last_accessed_at': MockDateTime(2024, 2, 2, 23, 0), 'created_at': datetime.datetime(2024, 2, 7, 17, 12, 39, 463554), 'buffer_idx': 3141})]"
      ]
     },
     "execution_count": 89,
     "metadata": {},
     "output_type": "execute_result"
    }
   ],
   "source": [
    "# Solution 1\n",
    "embedding_size = len(embedding_function.embed_documents([question])[0])\n",
    "index = faiss.IndexFlatL2(384)\n",
    "vectorstore = FAISS(embedding_function, index, InMemoryDocstore({}), {})\n",
    "tw_retriever_stock = TimeWeightedVectorStoreRetriever(vectorstore=vectorstore,decay_rate=0.005, k=top_k)\n",
    "# Notice the last access time is that date time\n",
    "tw_retriever_stock.add_documents(stock_data_docs)\n",
    "with mock_now(datetime(2024, 2, 2, 23, 0)):\n",
    "    rel_docs = generate_response(question, tw_retriever_stock)\n",
    "rel_docs"
   ]
  },
  {
   "cell_type": "markdown",
   "metadata": {
    "id": "95f99f8e"
   },
   "source": [
    "This technically worked, but is not what we want. The 'last_accessed_at' was updated so it is not longer using the date for the stock and this will hurt performance when asking for previous dates. Let's try option 2."
   ]
  },
  {
   "cell_type": "code",
   "execution_count": null,
   "id": "f9b6cf98",
   "metadata": {
    "id": "28e7dc7a",
    "outputId": "cfe84aec-0fa4-457b-d410-f23ff9b265eb"
   },
   "outputs": [
    {
     "data": {
      "text/plain": [
       "Document(page_content='2010-06-29 stock market data for Tesla (TSLA):\\nDate: 2010-06-29\\nOpen: 1.266667\\nHigh: 1.666667\\nLow: 1.169333\\nClose: 1.592667\\nAdj Close: 1.592667\\nVolume: 281494500', metadata={'source': './data/TSLA.csv', 'row': 0, 'last_accessed_at': datetime.datetime(2010, 6, 29, 0, 0)})"
      ]
     },
     "execution_count": 94,
     "metadata": {},
     "output_type": "execute_result"
    }
   ],
   "source": [
    "for ii in range(0, len(stock_data_docs)):\n",
    "    stock_data_docs[ii].page_content = stock_data_docs[ii].page_content.replace('Daily stock market data for Tesla (TSLA)', str(stock_data_docs[ii].metadata['last_accessed_at'].date())+ ' stock market data for Tesla (TSLA)')\n",
    "stock_data_docs[0]"
   ]
  },
  {
   "cell_type": "code",
   "execution_count": null,
   "id": "f285d672",
   "metadata": {
    "id": "0cd71918",
    "outputId": "46d66560-d6ea-49ea-df94-feeeab924aae"
   },
   "outputs": [
    {
     "name": "stdout",
     "output_type": "stream",
     "text": [
      "Prompt:  What is TSLA's 2024-02-02 close price?\n"
     ]
    },
    {
     "data": {
      "text/plain": [
       "[Document(page_content='2022-12-19 stock market data for Tesla (TSLA):\\nDate: 2022-12-19\\nOpen: 154.000000\\nHigh: 155.250000\\nLow: 145.820007\\nClose: 149.869995\\nAdj Close: 149.869995\\nVolume: 139390600', metadata={'source': './data/TSLA.csv', 'row': 3141, 'last_accessed_at': datetime.datetime(2022, 12, 19, 0, 0)}),\n",
       " Document(page_content='2022-05-20 stock market data for Tesla (TSLA):\\nDate: 2022-05-20\\nOpen: 237.996674\\nHigh: 240.526672\\nLow: 211.000000\\nClose: 221.300003\\nAdj Close: 221.300003\\nVolume: 144973200', metadata={'source': './data/TSLA.csv', 'row': 2995, 'last_accessed_at': datetime.datetime(2022, 5, 20, 0, 0)}),\n",
       " Document(page_content='2022-10-12 stock market data for Tesla (TSLA):\\nDate: 2022-10-12\\nOpen: 215.330002\\nHigh: 219.300003\\nLow: 211.509995\\nClose: 217.240005\\nAdj Close: 217.240005\\nVolume: 66860700', metadata={'source': './data/TSLA.csv', 'row': 3094, 'last_accessed_at': datetime.datetime(2022, 10, 12, 0, 0)}),\n",
       " Document(page_content='2022-02-25 stock market data for Tesla (TSLA):\\nDate: 2022-02-25\\nOpen: 269.743347\\nHigh: 273.166656\\nLow: 260.799988\\nClose: 269.956665\\nAdj Close: 269.956665\\nVolume: 76067700', metadata={'source': './data/TSLA.csv', 'row': 2936, 'last_accessed_at': datetime.datetime(2022, 2, 25, 0, 0)}),\n",
       " Document(page_content='2022-07-15 stock market data for Tesla (TSLA):\\nDate: 2022-07-15\\nOpen: 240.000000\\nHigh: 243.623337\\nLow: 236.889999\\nClose: 240.066666\\nAdj Close: 240.066666\\nVolume: 69683100', metadata={'source': './data/TSLA.csv', 'row': 3032, 'last_accessed_at': datetime.datetime(2022, 7, 15, 0, 0)}),\n",
       " Document(page_content='2022-10-25 stock market data for Tesla (TSLA):\\nDate: 2022-10-25\\nOpen: 210.100006\\nHigh: 224.350006\\nLow: 210.000000\\nClose: 222.419998\\nAdj Close: 222.419998\\nVolume: 96507900', metadata={'source': './data/TSLA.csv', 'row': 3103, 'last_accessed_at': datetime.datetime(2022, 10, 25, 0, 0)}),\n",
       " Document(page_content='2022-10-20 stock market data for Tesla (TSLA):\\nDate: 2022-10-20\\nOpen: 208.279999\\nHigh: 215.550003\\nLow: 202.000000\\nClose: 207.279999\\nAdj Close: 207.279999\\nVolume: 117798100', metadata={'source': './data/TSLA.csv', 'row': 3100, 'last_accessed_at': datetime.datetime(2022, 10, 20, 0, 0)}),\n",
       " Document(page_content='2022-12-16 stock market data for Tesla (TSLA):\\nDate: 2022-12-16\\nOpen: 159.639999\\nHigh: 160.990005\\nLow: 150.039993\\nClose: 150.229996\\nAdj Close: 150.229996\\nVolume: 139032200', metadata={'source': './data/TSLA.csv', 'row': 3140, 'last_accessed_at': datetime.datetime(2022, 12, 16, 0, 0)}),\n",
       " Document(page_content='2022-08-18 stock market data for Tesla (TSLA):\\nDate: 2022-08-18\\nOpen: 306.000000\\nHigh: 306.500000\\nLow: 301.853333\\nClose: 302.869995\\nAdj Close: 302.869995\\nVolume: 47500500', metadata={'source': './data/TSLA.csv', 'row': 3056, 'last_accessed_at': datetime.datetime(2022, 8, 18, 0, 0)}),\n",
       " Document(page_content='2022-11-28 stock market data for Tesla (TSLA):\\nDate: 2022-11-28\\nOpen: 179.960007\\nHigh: 188.500000\\nLow: 179.000000\\nClose: 182.919998\\nAdj Close: 182.919998\\nVolume: 92905200', metadata={'source': './data/TSLA.csv', 'row': 3126, 'last_accessed_at': datetime.datetime(2022, 11, 28, 0, 0)}),\n",
       " Document(page_content='2022-12-20 stock market data for Tesla (TSLA):\\nDate: 2022-12-20\\nOpen: 146.050003\\nHigh: 148.470001\\nLow: 137.660004\\nClose: 137.800003\\nAdj Close: 137.800003\\nVolume: 159563300', metadata={'source': './data/TSLA.csv', 'row': 3142, 'last_accessed_at': datetime.datetime(2022, 12, 20, 0, 0)}),\n",
       " Document(page_content='2022-10-05 stock market data for Tesla (TSLA):\\nDate: 2022-10-05\\nOpen: 245.009995\\nHigh: 246.669998\\nLow: 233.270004\\nClose: 240.809998\\nAdj Close: 240.809998\\nVolume: 86982700', metadata={'source': './data/TSLA.csv', 'row': 3089, 'last_accessed_at': datetime.datetime(2022, 10, 5, 0, 0)}),\n",
       " Document(page_content='2022-12-05 stock market data for Tesla (TSLA):\\nDate: 2022-12-05\\nOpen: 189.440002\\nHigh: 191.270004\\nLow: 180.550003\\nClose: 182.449997\\nAdj Close: 182.449997\\nVolume: 93122700', metadata={'source': './data/TSLA.csv', 'row': 3131, 'last_accessed_at': datetime.datetime(2022, 12, 5, 0, 0)}),\n",
       " Document(page_content='2023-10-25 stock market data for Tesla (TSLA):\\nDate: 2023-10-25\\nOpen: 215.880005\\nHigh: 220.100006\\nLow: 212.199997\\nClose: 212.419998\\nAdj Close: 212.419998\\nVolume: 107065100', metadata={'source': './data/TSLA.csv', 'row': 3354, 'last_accessed_at': datetime.datetime(2023, 10, 25, 0, 0)}),\n",
       " Document(page_content='2022-01-31 stock market data for Tesla (TSLA):\\nDate: 2022-01-31\\nOpen: 290.903320\\nHigh: 312.663330\\nLow: 287.350006\\nClose: 312.239990\\nAdj Close: 312.239990\\nVolume: 104436000', metadata={'source': './data/TSLA.csv', 'row': 2918, 'last_accessed_at': datetime.datetime(2022, 1, 31, 0, 0)}),\n",
       " Document(page_content='2022-10-24 stock market data for Tesla (TSLA):\\nDate: 2022-10-24\\nOpen: 205.820007\\nHigh: 213.500000\\nLow: 198.589996\\nClose: 211.250000\\nAdj Close: 211.250000\\nVolume: 100446800', metadata={'source': './data/TSLA.csv', 'row': 3102, 'last_accessed_at': datetime.datetime(2022, 10, 24, 0, 0)})]"
      ]
     },
     "execution_count": 95,
     "metadata": {},
     "output_type": "execute_result"
    }
   ],
   "source": [
    "db_data_v2 = FAISS.from_documents(stock_data_docs, embedding_function)\n",
    "db_data_v2.save_local(\"./data/faiss_stock_v2\")\n",
    "\n",
    "retriever_stock_v2 = VectorStoreRetriever(vectorstore=db_data_v2, search_kwargs={\"k\": top_k})\n",
    "generate_response(question, retriever_stock_v2)\n"
   ]
  },
  {
   "cell_type": "markdown",
   "metadata": {
    "id": "214b2209"
   },
   "source": [
    "This still didn't work. Look's like we may need a more complex approach."
   ]
  },
  {
   "cell_type": "markdown",
   "metadata": {
    "id": "f3973165"
   },
   "source": [
    "# Create CSV Agent\n",
    "\n",
    "### To be implemented at a later date"
   ]
  },
  {
   "cell_type": "markdown",
   "metadata": {
    "id": "234712b0"
   },
   "source": [
    "# Route Questions using Similarity Functions"
   ]
  },
  {
   "cell_type": "code",
   "execution_count": null,
   "metadata": {
    "id": "f9ab5900"
   },
   "outputs": [],
   "source": []
  }
 ],
 "metadata": {
  "colab": {
   "provenance": []
  },
  "kernelspec": {
   "display_name": "Python 3",
   "language": "python",
   "name": "python3"
  },
  "language_info": {
   "codemirror_mode": {
    "name": "ipython",
    "version": 3
   },
   "file_extension": ".py",
   "mimetype": "text/x-python",
   "name": "python",
   "nbconvert_exporter": "python",
   "pygments_lexer": "ipython3",
   "version": "3.8.10"
  }
 },
 "nbformat": 4,
 "nbformat_minor": 5
}
